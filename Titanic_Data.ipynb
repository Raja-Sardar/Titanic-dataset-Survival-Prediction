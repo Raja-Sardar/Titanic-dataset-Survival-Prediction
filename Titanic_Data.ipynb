{
 "cells": [
  {
   "cell_type": "code",
   "execution_count": 1,
   "id": "d01ee72f",
   "metadata": {},
   "outputs": [],
   "source": [
    "import pandas as pd\n",
    "import numpy as np\n",
    "import matplotlib.pyplot as plt\n",
    "from pylab import rcParams\n",
    "rcParams['figure.figsize']=18,8\n",
    "import seaborn as sns"
   ]
  },
  {
   "cell_type": "code",
   "execution_count": 2,
   "id": "f3f73817",
   "metadata": {},
   "outputs": [],
   "source": [
    "data=pd.read_csv('titanic.csv')"
   ]
  },
  {
   "cell_type": "code",
   "execution_count": 3,
   "id": "4e5dcb08",
   "metadata": {},
   "outputs": [
    {
     "data": {
      "text/html": [
       "<div>\n",
       "<style scoped>\n",
       "    .dataframe tbody tr th:only-of-type {\n",
       "        vertical-align: middle;\n",
       "    }\n",
       "\n",
       "    .dataframe tbody tr th {\n",
       "        vertical-align: top;\n",
       "    }\n",
       "\n",
       "    .dataframe thead th {\n",
       "        text-align: right;\n",
       "    }\n",
       "</style>\n",
       "<table border=\"1\" class=\"dataframe\">\n",
       "  <thead>\n",
       "    <tr style=\"text-align: right;\">\n",
       "      <th></th>\n",
       "      <th>PassengerId</th>\n",
       "      <th>Survived</th>\n",
       "      <th>Pclass</th>\n",
       "      <th>Name</th>\n",
       "      <th>Sex</th>\n",
       "      <th>Age</th>\n",
       "      <th>SibSp</th>\n",
       "      <th>Parch</th>\n",
       "      <th>Ticket</th>\n",
       "      <th>Fare</th>\n",
       "      <th>Cabin</th>\n",
       "      <th>Embarked</th>\n",
       "    </tr>\n",
       "  </thead>\n",
       "  <tbody>\n",
       "    <tr>\n",
       "      <th>0</th>\n",
       "      <td>1</td>\n",
       "      <td>0</td>\n",
       "      <td>3</td>\n",
       "      <td>Braund, Mr. Owen Harris</td>\n",
       "      <td>male</td>\n",
       "      <td>22.0</td>\n",
       "      <td>1</td>\n",
       "      <td>0</td>\n",
       "      <td>A/5 21171</td>\n",
       "      <td>7.2500</td>\n",
       "      <td>NaN</td>\n",
       "      <td>S</td>\n",
       "    </tr>\n",
       "    <tr>\n",
       "      <th>1</th>\n",
       "      <td>2</td>\n",
       "      <td>1</td>\n",
       "      <td>1</td>\n",
       "      <td>Cumings, Mrs. John Bradley (Florence Briggs Th...</td>\n",
       "      <td>female</td>\n",
       "      <td>38.0</td>\n",
       "      <td>1</td>\n",
       "      <td>0</td>\n",
       "      <td>PC 17599</td>\n",
       "      <td>71.2833</td>\n",
       "      <td>C85</td>\n",
       "      <td>C</td>\n",
       "    </tr>\n",
       "    <tr>\n",
       "      <th>2</th>\n",
       "      <td>3</td>\n",
       "      <td>1</td>\n",
       "      <td>3</td>\n",
       "      <td>Heikkinen, Miss. Laina</td>\n",
       "      <td>female</td>\n",
       "      <td>26.0</td>\n",
       "      <td>0</td>\n",
       "      <td>0</td>\n",
       "      <td>STON/O2. 3101282</td>\n",
       "      <td>7.9250</td>\n",
       "      <td>NaN</td>\n",
       "      <td>S</td>\n",
       "    </tr>\n",
       "    <tr>\n",
       "      <th>3</th>\n",
       "      <td>4</td>\n",
       "      <td>1</td>\n",
       "      <td>1</td>\n",
       "      <td>Futrelle, Mrs. Jacques Heath (Lily May Peel)</td>\n",
       "      <td>female</td>\n",
       "      <td>35.0</td>\n",
       "      <td>1</td>\n",
       "      <td>0</td>\n",
       "      <td>113803</td>\n",
       "      <td>53.1000</td>\n",
       "      <td>C123</td>\n",
       "      <td>S</td>\n",
       "    </tr>\n",
       "    <tr>\n",
       "      <th>4</th>\n",
       "      <td>5</td>\n",
       "      <td>0</td>\n",
       "      <td>3</td>\n",
       "      <td>Allen, Mr. William Henry</td>\n",
       "      <td>male</td>\n",
       "      <td>35.0</td>\n",
       "      <td>0</td>\n",
       "      <td>0</td>\n",
       "      <td>373450</td>\n",
       "      <td>8.0500</td>\n",
       "      <td>NaN</td>\n",
       "      <td>S</td>\n",
       "    </tr>\n",
       "    <tr>\n",
       "      <th>...</th>\n",
       "      <td>...</td>\n",
       "      <td>...</td>\n",
       "      <td>...</td>\n",
       "      <td>...</td>\n",
       "      <td>...</td>\n",
       "      <td>...</td>\n",
       "      <td>...</td>\n",
       "      <td>...</td>\n",
       "      <td>...</td>\n",
       "      <td>...</td>\n",
       "      <td>...</td>\n",
       "      <td>...</td>\n",
       "    </tr>\n",
       "    <tr>\n",
       "      <th>886</th>\n",
       "      <td>887</td>\n",
       "      <td>0</td>\n",
       "      <td>2</td>\n",
       "      <td>Montvila, Rev. Juozas</td>\n",
       "      <td>male</td>\n",
       "      <td>27.0</td>\n",
       "      <td>0</td>\n",
       "      <td>0</td>\n",
       "      <td>211536</td>\n",
       "      <td>13.0000</td>\n",
       "      <td>NaN</td>\n",
       "      <td>S</td>\n",
       "    </tr>\n",
       "    <tr>\n",
       "      <th>887</th>\n",
       "      <td>888</td>\n",
       "      <td>1</td>\n",
       "      <td>1</td>\n",
       "      <td>Graham, Miss. Margaret Edith</td>\n",
       "      <td>female</td>\n",
       "      <td>19.0</td>\n",
       "      <td>0</td>\n",
       "      <td>0</td>\n",
       "      <td>112053</td>\n",
       "      <td>30.0000</td>\n",
       "      <td>B42</td>\n",
       "      <td>S</td>\n",
       "    </tr>\n",
       "    <tr>\n",
       "      <th>888</th>\n",
       "      <td>889</td>\n",
       "      <td>0</td>\n",
       "      <td>3</td>\n",
       "      <td>Johnston, Miss. Catherine Helen \"Carrie\"</td>\n",
       "      <td>female</td>\n",
       "      <td>NaN</td>\n",
       "      <td>1</td>\n",
       "      <td>2</td>\n",
       "      <td>W./C. 6607</td>\n",
       "      <td>23.4500</td>\n",
       "      <td>NaN</td>\n",
       "      <td>S</td>\n",
       "    </tr>\n",
       "    <tr>\n",
       "      <th>889</th>\n",
       "      <td>890</td>\n",
       "      <td>1</td>\n",
       "      <td>1</td>\n",
       "      <td>Behr, Mr. Karl Howell</td>\n",
       "      <td>male</td>\n",
       "      <td>26.0</td>\n",
       "      <td>0</td>\n",
       "      <td>0</td>\n",
       "      <td>111369</td>\n",
       "      <td>30.0000</td>\n",
       "      <td>C148</td>\n",
       "      <td>C</td>\n",
       "    </tr>\n",
       "    <tr>\n",
       "      <th>890</th>\n",
       "      <td>891</td>\n",
       "      <td>0</td>\n",
       "      <td>3</td>\n",
       "      <td>Dooley, Mr. Patrick</td>\n",
       "      <td>male</td>\n",
       "      <td>32.0</td>\n",
       "      <td>0</td>\n",
       "      <td>0</td>\n",
       "      <td>370376</td>\n",
       "      <td>7.7500</td>\n",
       "      <td>NaN</td>\n",
       "      <td>Q</td>\n",
       "    </tr>\n",
       "  </tbody>\n",
       "</table>\n",
       "<p>891 rows × 12 columns</p>\n",
       "</div>"
      ],
      "text/plain": [
       "     PassengerId  Survived  Pclass  \\\n",
       "0              1         0       3   \n",
       "1              2         1       1   \n",
       "2              3         1       3   \n",
       "3              4         1       1   \n",
       "4              5         0       3   \n",
       "..           ...       ...     ...   \n",
       "886          887         0       2   \n",
       "887          888         1       1   \n",
       "888          889         0       3   \n",
       "889          890         1       1   \n",
       "890          891         0       3   \n",
       "\n",
       "                                                  Name     Sex   Age  SibSp  \\\n",
       "0                              Braund, Mr. Owen Harris    male  22.0      1   \n",
       "1    Cumings, Mrs. John Bradley (Florence Briggs Th...  female  38.0      1   \n",
       "2                               Heikkinen, Miss. Laina  female  26.0      0   \n",
       "3         Futrelle, Mrs. Jacques Heath (Lily May Peel)  female  35.0      1   \n",
       "4                             Allen, Mr. William Henry    male  35.0      0   \n",
       "..                                                 ...     ...   ...    ...   \n",
       "886                              Montvila, Rev. Juozas    male  27.0      0   \n",
       "887                       Graham, Miss. Margaret Edith  female  19.0      0   \n",
       "888           Johnston, Miss. Catherine Helen \"Carrie\"  female   NaN      1   \n",
       "889                              Behr, Mr. Karl Howell    male  26.0      0   \n",
       "890                                Dooley, Mr. Patrick    male  32.0      0   \n",
       "\n",
       "     Parch            Ticket     Fare Cabin Embarked  \n",
       "0        0         A/5 21171   7.2500   NaN        S  \n",
       "1        0          PC 17599  71.2833   C85        C  \n",
       "2        0  STON/O2. 3101282   7.9250   NaN        S  \n",
       "3        0            113803  53.1000  C123        S  \n",
       "4        0            373450   8.0500   NaN        S  \n",
       "..     ...               ...      ...   ...      ...  \n",
       "886      0            211536  13.0000   NaN        S  \n",
       "887      0            112053  30.0000   B42        S  \n",
       "888      2        W./C. 6607  23.4500   NaN        S  \n",
       "889      0            111369  30.0000  C148        C  \n",
       "890      0            370376   7.7500   NaN        Q  \n",
       "\n",
       "[891 rows x 12 columns]"
      ]
     },
     "execution_count": 3,
     "metadata": {},
     "output_type": "execute_result"
    }
   ],
   "source": [
    "data"
   ]
  },
  {
   "cell_type": "code",
   "execution_count": 4,
   "id": "574cc6ab",
   "metadata": {},
   "outputs": [
    {
     "data": {
      "text/plain": [
       "Index(['PassengerId', 'Survived', 'Pclass', 'Name', 'Sex', 'Age', 'SibSp',\n",
       "       'Parch', 'Ticket', 'Fare', 'Cabin', 'Embarked'],\n",
       "      dtype='object')"
      ]
     },
     "execution_count": 4,
     "metadata": {},
     "output_type": "execute_result"
    }
   ],
   "source": [
    "data.columns"
   ]
  },
  {
   "cell_type": "code",
   "execution_count": 5,
   "id": "e2e0b63d",
   "metadata": {},
   "outputs": [
    {
     "data": {
      "text/plain": [
       "PassengerId      0\n",
       "Survived         0\n",
       "Pclass           0\n",
       "Name             0\n",
       "Sex              0\n",
       "Age            177\n",
       "SibSp            0\n",
       "Parch            0\n",
       "Ticket           0\n",
       "Fare             0\n",
       "Cabin          687\n",
       "Embarked         2\n",
       "dtype: int64"
      ]
     },
     "execution_count": 5,
     "metadata": {},
     "output_type": "execute_result"
    }
   ],
   "source": [
    "data.isnull().sum()"
   ]
  },
  {
   "cell_type": "code",
   "execution_count": 6,
   "id": "7fbb99b4",
   "metadata": {},
   "outputs": [],
   "source": [
    "data['Age']=data['Age'].fillna(data['Age'].mean())"
   ]
  },
  {
   "cell_type": "code",
   "execution_count": 7,
   "id": "b986b2da",
   "metadata": {},
   "outputs": [
    {
     "data": {
      "text/plain": [
       "PassengerId      0\n",
       "Survived         0\n",
       "Pclass           0\n",
       "Name             0\n",
       "Sex              0\n",
       "Age              0\n",
       "SibSp            0\n",
       "Parch            0\n",
       "Ticket           0\n",
       "Fare             0\n",
       "Cabin          687\n",
       "Embarked         2\n",
       "dtype: int64"
      ]
     },
     "execution_count": 7,
     "metadata": {},
     "output_type": "execute_result"
    }
   ],
   "source": [
    "data.isnull().sum()"
   ]
  },
  {
   "cell_type": "code",
   "execution_count": 8,
   "id": "b6e9e52e",
   "metadata": {},
   "outputs": [],
   "source": [
    "data=data.drop(['PassengerId','Name','Ticket','Cabin'],axis=1)"
   ]
  },
  {
   "cell_type": "code",
   "execution_count": 9,
   "id": "2b0a6679",
   "metadata": {},
   "outputs": [
    {
     "data": {
      "text/html": [
       "<div>\n",
       "<style scoped>\n",
       "    .dataframe tbody tr th:only-of-type {\n",
       "        vertical-align: middle;\n",
       "    }\n",
       "\n",
       "    .dataframe tbody tr th {\n",
       "        vertical-align: top;\n",
       "    }\n",
       "\n",
       "    .dataframe thead th {\n",
       "        text-align: right;\n",
       "    }\n",
       "</style>\n",
       "<table border=\"1\" class=\"dataframe\">\n",
       "  <thead>\n",
       "    <tr style=\"text-align: right;\">\n",
       "      <th></th>\n",
       "      <th>Survived</th>\n",
       "      <th>Pclass</th>\n",
       "      <th>Sex</th>\n",
       "      <th>Age</th>\n",
       "      <th>SibSp</th>\n",
       "      <th>Parch</th>\n",
       "      <th>Fare</th>\n",
       "      <th>Embarked</th>\n",
       "    </tr>\n",
       "  </thead>\n",
       "  <tbody>\n",
       "    <tr>\n",
       "      <th>0</th>\n",
       "      <td>0</td>\n",
       "      <td>3</td>\n",
       "      <td>male</td>\n",
       "      <td>22.000000</td>\n",
       "      <td>1</td>\n",
       "      <td>0</td>\n",
       "      <td>7.2500</td>\n",
       "      <td>S</td>\n",
       "    </tr>\n",
       "    <tr>\n",
       "      <th>1</th>\n",
       "      <td>1</td>\n",
       "      <td>1</td>\n",
       "      <td>female</td>\n",
       "      <td>38.000000</td>\n",
       "      <td>1</td>\n",
       "      <td>0</td>\n",
       "      <td>71.2833</td>\n",
       "      <td>C</td>\n",
       "    </tr>\n",
       "    <tr>\n",
       "      <th>2</th>\n",
       "      <td>1</td>\n",
       "      <td>3</td>\n",
       "      <td>female</td>\n",
       "      <td>26.000000</td>\n",
       "      <td>0</td>\n",
       "      <td>0</td>\n",
       "      <td>7.9250</td>\n",
       "      <td>S</td>\n",
       "    </tr>\n",
       "    <tr>\n",
       "      <th>3</th>\n",
       "      <td>1</td>\n",
       "      <td>1</td>\n",
       "      <td>female</td>\n",
       "      <td>35.000000</td>\n",
       "      <td>1</td>\n",
       "      <td>0</td>\n",
       "      <td>53.1000</td>\n",
       "      <td>S</td>\n",
       "    </tr>\n",
       "    <tr>\n",
       "      <th>4</th>\n",
       "      <td>0</td>\n",
       "      <td>3</td>\n",
       "      <td>male</td>\n",
       "      <td>35.000000</td>\n",
       "      <td>0</td>\n",
       "      <td>0</td>\n",
       "      <td>8.0500</td>\n",
       "      <td>S</td>\n",
       "    </tr>\n",
       "    <tr>\n",
       "      <th>...</th>\n",
       "      <td>...</td>\n",
       "      <td>...</td>\n",
       "      <td>...</td>\n",
       "      <td>...</td>\n",
       "      <td>...</td>\n",
       "      <td>...</td>\n",
       "      <td>...</td>\n",
       "      <td>...</td>\n",
       "    </tr>\n",
       "    <tr>\n",
       "      <th>886</th>\n",
       "      <td>0</td>\n",
       "      <td>2</td>\n",
       "      <td>male</td>\n",
       "      <td>27.000000</td>\n",
       "      <td>0</td>\n",
       "      <td>0</td>\n",
       "      <td>13.0000</td>\n",
       "      <td>S</td>\n",
       "    </tr>\n",
       "    <tr>\n",
       "      <th>887</th>\n",
       "      <td>1</td>\n",
       "      <td>1</td>\n",
       "      <td>female</td>\n",
       "      <td>19.000000</td>\n",
       "      <td>0</td>\n",
       "      <td>0</td>\n",
       "      <td>30.0000</td>\n",
       "      <td>S</td>\n",
       "    </tr>\n",
       "    <tr>\n",
       "      <th>888</th>\n",
       "      <td>0</td>\n",
       "      <td>3</td>\n",
       "      <td>female</td>\n",
       "      <td>29.699118</td>\n",
       "      <td>1</td>\n",
       "      <td>2</td>\n",
       "      <td>23.4500</td>\n",
       "      <td>S</td>\n",
       "    </tr>\n",
       "    <tr>\n",
       "      <th>889</th>\n",
       "      <td>1</td>\n",
       "      <td>1</td>\n",
       "      <td>male</td>\n",
       "      <td>26.000000</td>\n",
       "      <td>0</td>\n",
       "      <td>0</td>\n",
       "      <td>30.0000</td>\n",
       "      <td>C</td>\n",
       "    </tr>\n",
       "    <tr>\n",
       "      <th>890</th>\n",
       "      <td>0</td>\n",
       "      <td>3</td>\n",
       "      <td>male</td>\n",
       "      <td>32.000000</td>\n",
       "      <td>0</td>\n",
       "      <td>0</td>\n",
       "      <td>7.7500</td>\n",
       "      <td>Q</td>\n",
       "    </tr>\n",
       "  </tbody>\n",
       "</table>\n",
       "<p>891 rows × 8 columns</p>\n",
       "</div>"
      ],
      "text/plain": [
       "     Survived  Pclass     Sex        Age  SibSp  Parch     Fare Embarked\n",
       "0           0       3    male  22.000000      1      0   7.2500        S\n",
       "1           1       1  female  38.000000      1      0  71.2833        C\n",
       "2           1       3  female  26.000000      0      0   7.9250        S\n",
       "3           1       1  female  35.000000      1      0  53.1000        S\n",
       "4           0       3    male  35.000000      0      0   8.0500        S\n",
       "..        ...     ...     ...        ...    ...    ...      ...      ...\n",
       "886         0       2    male  27.000000      0      0  13.0000        S\n",
       "887         1       1  female  19.000000      0      0  30.0000        S\n",
       "888         0       3  female  29.699118      1      2  23.4500        S\n",
       "889         1       1    male  26.000000      0      0  30.0000        C\n",
       "890         0       3    male  32.000000      0      0   7.7500        Q\n",
       "\n",
       "[891 rows x 8 columns]"
      ]
     },
     "execution_count": 9,
     "metadata": {},
     "output_type": "execute_result"
    }
   ],
   "source": [
    "data"
   ]
  },
  {
   "cell_type": "code",
   "execution_count": 10,
   "id": "260330e6",
   "metadata": {},
   "outputs": [],
   "source": [
    "data['MALE']=pd.get_dummies(data['Sex'],drop_first=True)"
   ]
  },
  {
   "cell_type": "code",
   "execution_count": 11,
   "id": "f68dba65",
   "metadata": {},
   "outputs": [
    {
     "data": {
      "text/html": [
       "<div>\n",
       "<style scoped>\n",
       "    .dataframe tbody tr th:only-of-type {\n",
       "        vertical-align: middle;\n",
       "    }\n",
       "\n",
       "    .dataframe tbody tr th {\n",
       "        vertical-align: top;\n",
       "    }\n",
       "\n",
       "    .dataframe thead th {\n",
       "        text-align: right;\n",
       "    }\n",
       "</style>\n",
       "<table border=\"1\" class=\"dataframe\">\n",
       "  <thead>\n",
       "    <tr style=\"text-align: right;\">\n",
       "      <th></th>\n",
       "      <th>Survived</th>\n",
       "      <th>Pclass</th>\n",
       "      <th>Sex</th>\n",
       "      <th>Age</th>\n",
       "      <th>SibSp</th>\n",
       "      <th>Parch</th>\n",
       "      <th>Fare</th>\n",
       "      <th>Embarked</th>\n",
       "      <th>MALE</th>\n",
       "    </tr>\n",
       "  </thead>\n",
       "  <tbody>\n",
       "    <tr>\n",
       "      <th>0</th>\n",
       "      <td>0</td>\n",
       "      <td>3</td>\n",
       "      <td>male</td>\n",
       "      <td>22.000000</td>\n",
       "      <td>1</td>\n",
       "      <td>0</td>\n",
       "      <td>7.2500</td>\n",
       "      <td>S</td>\n",
       "      <td>1</td>\n",
       "    </tr>\n",
       "    <tr>\n",
       "      <th>1</th>\n",
       "      <td>1</td>\n",
       "      <td>1</td>\n",
       "      <td>female</td>\n",
       "      <td>38.000000</td>\n",
       "      <td>1</td>\n",
       "      <td>0</td>\n",
       "      <td>71.2833</td>\n",
       "      <td>C</td>\n",
       "      <td>0</td>\n",
       "    </tr>\n",
       "    <tr>\n",
       "      <th>2</th>\n",
       "      <td>1</td>\n",
       "      <td>3</td>\n",
       "      <td>female</td>\n",
       "      <td>26.000000</td>\n",
       "      <td>0</td>\n",
       "      <td>0</td>\n",
       "      <td>7.9250</td>\n",
       "      <td>S</td>\n",
       "      <td>0</td>\n",
       "    </tr>\n",
       "    <tr>\n",
       "      <th>3</th>\n",
       "      <td>1</td>\n",
       "      <td>1</td>\n",
       "      <td>female</td>\n",
       "      <td>35.000000</td>\n",
       "      <td>1</td>\n",
       "      <td>0</td>\n",
       "      <td>53.1000</td>\n",
       "      <td>S</td>\n",
       "      <td>0</td>\n",
       "    </tr>\n",
       "    <tr>\n",
       "      <th>4</th>\n",
       "      <td>0</td>\n",
       "      <td>3</td>\n",
       "      <td>male</td>\n",
       "      <td>35.000000</td>\n",
       "      <td>0</td>\n",
       "      <td>0</td>\n",
       "      <td>8.0500</td>\n",
       "      <td>S</td>\n",
       "      <td>1</td>\n",
       "    </tr>\n",
       "    <tr>\n",
       "      <th>...</th>\n",
       "      <td>...</td>\n",
       "      <td>...</td>\n",
       "      <td>...</td>\n",
       "      <td>...</td>\n",
       "      <td>...</td>\n",
       "      <td>...</td>\n",
       "      <td>...</td>\n",
       "      <td>...</td>\n",
       "      <td>...</td>\n",
       "    </tr>\n",
       "    <tr>\n",
       "      <th>886</th>\n",
       "      <td>0</td>\n",
       "      <td>2</td>\n",
       "      <td>male</td>\n",
       "      <td>27.000000</td>\n",
       "      <td>0</td>\n",
       "      <td>0</td>\n",
       "      <td>13.0000</td>\n",
       "      <td>S</td>\n",
       "      <td>1</td>\n",
       "    </tr>\n",
       "    <tr>\n",
       "      <th>887</th>\n",
       "      <td>1</td>\n",
       "      <td>1</td>\n",
       "      <td>female</td>\n",
       "      <td>19.000000</td>\n",
       "      <td>0</td>\n",
       "      <td>0</td>\n",
       "      <td>30.0000</td>\n",
       "      <td>S</td>\n",
       "      <td>0</td>\n",
       "    </tr>\n",
       "    <tr>\n",
       "      <th>888</th>\n",
       "      <td>0</td>\n",
       "      <td>3</td>\n",
       "      <td>female</td>\n",
       "      <td>29.699118</td>\n",
       "      <td>1</td>\n",
       "      <td>2</td>\n",
       "      <td>23.4500</td>\n",
       "      <td>S</td>\n",
       "      <td>0</td>\n",
       "    </tr>\n",
       "    <tr>\n",
       "      <th>889</th>\n",
       "      <td>1</td>\n",
       "      <td>1</td>\n",
       "      <td>male</td>\n",
       "      <td>26.000000</td>\n",
       "      <td>0</td>\n",
       "      <td>0</td>\n",
       "      <td>30.0000</td>\n",
       "      <td>C</td>\n",
       "      <td>1</td>\n",
       "    </tr>\n",
       "    <tr>\n",
       "      <th>890</th>\n",
       "      <td>0</td>\n",
       "      <td>3</td>\n",
       "      <td>male</td>\n",
       "      <td>32.000000</td>\n",
       "      <td>0</td>\n",
       "      <td>0</td>\n",
       "      <td>7.7500</td>\n",
       "      <td>Q</td>\n",
       "      <td>1</td>\n",
       "    </tr>\n",
       "  </tbody>\n",
       "</table>\n",
       "<p>891 rows × 9 columns</p>\n",
       "</div>"
      ],
      "text/plain": [
       "     Survived  Pclass     Sex        Age  SibSp  Parch     Fare Embarked  MALE\n",
       "0           0       3    male  22.000000      1      0   7.2500        S     1\n",
       "1           1       1  female  38.000000      1      0  71.2833        C     0\n",
       "2           1       3  female  26.000000      0      0   7.9250        S     0\n",
       "3           1       1  female  35.000000      1      0  53.1000        S     0\n",
       "4           0       3    male  35.000000      0      0   8.0500        S     1\n",
       "..        ...     ...     ...        ...    ...    ...      ...      ...   ...\n",
       "886         0       2    male  27.000000      0      0  13.0000        S     1\n",
       "887         1       1  female  19.000000      0      0  30.0000        S     0\n",
       "888         0       3  female  29.699118      1      2  23.4500        S     0\n",
       "889         1       1    male  26.000000      0      0  30.0000        C     1\n",
       "890         0       3    male  32.000000      0      0   7.7500        Q     1\n",
       "\n",
       "[891 rows x 9 columns]"
      ]
     },
     "execution_count": 11,
     "metadata": {},
     "output_type": "execute_result"
    }
   ],
   "source": [
    "data"
   ]
  },
  {
   "cell_type": "code",
   "execution_count": 12,
   "id": "0d8d7336",
   "metadata": {},
   "outputs": [],
   "source": [
    "data.drop(['Sex'],axis=1,inplace=True)"
   ]
  },
  {
   "cell_type": "code",
   "execution_count": 13,
   "id": "314f344b",
   "metadata": {},
   "outputs": [
    {
     "data": {
      "text/html": [
       "<div>\n",
       "<style scoped>\n",
       "    .dataframe tbody tr th:only-of-type {\n",
       "        vertical-align: middle;\n",
       "    }\n",
       "\n",
       "    .dataframe tbody tr th {\n",
       "        vertical-align: top;\n",
       "    }\n",
       "\n",
       "    .dataframe thead th {\n",
       "        text-align: right;\n",
       "    }\n",
       "</style>\n",
       "<table border=\"1\" class=\"dataframe\">\n",
       "  <thead>\n",
       "    <tr style=\"text-align: right;\">\n",
       "      <th></th>\n",
       "      <th>Survived</th>\n",
       "      <th>Pclass</th>\n",
       "      <th>Age</th>\n",
       "      <th>SibSp</th>\n",
       "      <th>Parch</th>\n",
       "      <th>Fare</th>\n",
       "      <th>Embarked</th>\n",
       "      <th>MALE</th>\n",
       "    </tr>\n",
       "  </thead>\n",
       "  <tbody>\n",
       "    <tr>\n",
       "      <th>0</th>\n",
       "      <td>0</td>\n",
       "      <td>3</td>\n",
       "      <td>22.000000</td>\n",
       "      <td>1</td>\n",
       "      <td>0</td>\n",
       "      <td>7.2500</td>\n",
       "      <td>S</td>\n",
       "      <td>1</td>\n",
       "    </tr>\n",
       "    <tr>\n",
       "      <th>1</th>\n",
       "      <td>1</td>\n",
       "      <td>1</td>\n",
       "      <td>38.000000</td>\n",
       "      <td>1</td>\n",
       "      <td>0</td>\n",
       "      <td>71.2833</td>\n",
       "      <td>C</td>\n",
       "      <td>0</td>\n",
       "    </tr>\n",
       "    <tr>\n",
       "      <th>2</th>\n",
       "      <td>1</td>\n",
       "      <td>3</td>\n",
       "      <td>26.000000</td>\n",
       "      <td>0</td>\n",
       "      <td>0</td>\n",
       "      <td>7.9250</td>\n",
       "      <td>S</td>\n",
       "      <td>0</td>\n",
       "    </tr>\n",
       "    <tr>\n",
       "      <th>3</th>\n",
       "      <td>1</td>\n",
       "      <td>1</td>\n",
       "      <td>35.000000</td>\n",
       "      <td>1</td>\n",
       "      <td>0</td>\n",
       "      <td>53.1000</td>\n",
       "      <td>S</td>\n",
       "      <td>0</td>\n",
       "    </tr>\n",
       "    <tr>\n",
       "      <th>4</th>\n",
       "      <td>0</td>\n",
       "      <td>3</td>\n",
       "      <td>35.000000</td>\n",
       "      <td>0</td>\n",
       "      <td>0</td>\n",
       "      <td>8.0500</td>\n",
       "      <td>S</td>\n",
       "      <td>1</td>\n",
       "    </tr>\n",
       "    <tr>\n",
       "      <th>...</th>\n",
       "      <td>...</td>\n",
       "      <td>...</td>\n",
       "      <td>...</td>\n",
       "      <td>...</td>\n",
       "      <td>...</td>\n",
       "      <td>...</td>\n",
       "      <td>...</td>\n",
       "      <td>...</td>\n",
       "    </tr>\n",
       "    <tr>\n",
       "      <th>886</th>\n",
       "      <td>0</td>\n",
       "      <td>2</td>\n",
       "      <td>27.000000</td>\n",
       "      <td>0</td>\n",
       "      <td>0</td>\n",
       "      <td>13.0000</td>\n",
       "      <td>S</td>\n",
       "      <td>1</td>\n",
       "    </tr>\n",
       "    <tr>\n",
       "      <th>887</th>\n",
       "      <td>1</td>\n",
       "      <td>1</td>\n",
       "      <td>19.000000</td>\n",
       "      <td>0</td>\n",
       "      <td>0</td>\n",
       "      <td>30.0000</td>\n",
       "      <td>S</td>\n",
       "      <td>0</td>\n",
       "    </tr>\n",
       "    <tr>\n",
       "      <th>888</th>\n",
       "      <td>0</td>\n",
       "      <td>3</td>\n",
       "      <td>29.699118</td>\n",
       "      <td>1</td>\n",
       "      <td>2</td>\n",
       "      <td>23.4500</td>\n",
       "      <td>S</td>\n",
       "      <td>0</td>\n",
       "    </tr>\n",
       "    <tr>\n",
       "      <th>889</th>\n",
       "      <td>1</td>\n",
       "      <td>1</td>\n",
       "      <td>26.000000</td>\n",
       "      <td>0</td>\n",
       "      <td>0</td>\n",
       "      <td>30.0000</td>\n",
       "      <td>C</td>\n",
       "      <td>1</td>\n",
       "    </tr>\n",
       "    <tr>\n",
       "      <th>890</th>\n",
       "      <td>0</td>\n",
       "      <td>3</td>\n",
       "      <td>32.000000</td>\n",
       "      <td>0</td>\n",
       "      <td>0</td>\n",
       "      <td>7.7500</td>\n",
       "      <td>Q</td>\n",
       "      <td>1</td>\n",
       "    </tr>\n",
       "  </tbody>\n",
       "</table>\n",
       "<p>891 rows × 8 columns</p>\n",
       "</div>"
      ],
      "text/plain": [
       "     Survived  Pclass        Age  SibSp  Parch     Fare Embarked  MALE\n",
       "0           0       3  22.000000      1      0   7.2500        S     1\n",
       "1           1       1  38.000000      1      0  71.2833        C     0\n",
       "2           1       3  26.000000      0      0   7.9250        S     0\n",
       "3           1       1  35.000000      1      0  53.1000        S     0\n",
       "4           0       3  35.000000      0      0   8.0500        S     1\n",
       "..        ...     ...        ...    ...    ...      ...      ...   ...\n",
       "886         0       2  27.000000      0      0  13.0000        S     1\n",
       "887         1       1  19.000000      0      0  30.0000        S     0\n",
       "888         0       3  29.699118      1      2  23.4500        S     0\n",
       "889         1       1  26.000000      0      0  30.0000        C     1\n",
       "890         0       3  32.000000      0      0   7.7500        Q     1\n",
       "\n",
       "[891 rows x 8 columns]"
      ]
     },
     "execution_count": 13,
     "metadata": {},
     "output_type": "execute_result"
    }
   ],
   "source": [
    "data"
   ]
  },
  {
   "cell_type": "code",
   "execution_count": 14,
   "id": "ce46c3f5",
   "metadata": {},
   "outputs": [
    {
     "data": {
      "text/plain": [
       "array(['S', 'C', 'Q', nan], dtype=object)"
      ]
     },
     "execution_count": 14,
     "metadata": {},
     "output_type": "execute_result"
    }
   ],
   "source": [
    "data['Embarked'].unique()"
   ]
  },
  {
   "cell_type": "code",
   "execution_count": 15,
   "id": "e1547439",
   "metadata": {},
   "outputs": [
    {
     "data": {
      "text/plain": [
       "Survived    0\n",
       "Pclass      0\n",
       "Age         0\n",
       "SibSp       0\n",
       "Parch       0\n",
       "Fare        0\n",
       "Embarked    2\n",
       "MALE        0\n",
       "dtype: int64"
      ]
     },
     "execution_count": 15,
     "metadata": {},
     "output_type": "execute_result"
    }
   ],
   "source": [
    "data.isnull().sum()"
   ]
  },
  {
   "cell_type": "code",
   "execution_count": 16,
   "id": "9daf237b",
   "metadata": {},
   "outputs": [],
   "source": [
    "data[['Q','S']]=pd.get_dummies(data['Embarked'],drop_first=True)"
   ]
  },
  {
   "cell_type": "code",
   "execution_count": 17,
   "id": "522292e2",
   "metadata": {},
   "outputs": [
    {
     "data": {
      "text/html": [
       "<div>\n",
       "<style scoped>\n",
       "    .dataframe tbody tr th:only-of-type {\n",
       "        vertical-align: middle;\n",
       "    }\n",
       "\n",
       "    .dataframe tbody tr th {\n",
       "        vertical-align: top;\n",
       "    }\n",
       "\n",
       "    .dataframe thead th {\n",
       "        text-align: right;\n",
       "    }\n",
       "</style>\n",
       "<table border=\"1\" class=\"dataframe\">\n",
       "  <thead>\n",
       "    <tr style=\"text-align: right;\">\n",
       "      <th></th>\n",
       "      <th>Survived</th>\n",
       "      <th>Pclass</th>\n",
       "      <th>Age</th>\n",
       "      <th>SibSp</th>\n",
       "      <th>Parch</th>\n",
       "      <th>Fare</th>\n",
       "      <th>Embarked</th>\n",
       "      <th>MALE</th>\n",
       "      <th>Q</th>\n",
       "      <th>S</th>\n",
       "    </tr>\n",
       "  </thead>\n",
       "  <tbody>\n",
       "    <tr>\n",
       "      <th>0</th>\n",
       "      <td>0</td>\n",
       "      <td>3</td>\n",
       "      <td>22.000000</td>\n",
       "      <td>1</td>\n",
       "      <td>0</td>\n",
       "      <td>7.2500</td>\n",
       "      <td>S</td>\n",
       "      <td>1</td>\n",
       "      <td>0</td>\n",
       "      <td>1</td>\n",
       "    </tr>\n",
       "    <tr>\n",
       "      <th>1</th>\n",
       "      <td>1</td>\n",
       "      <td>1</td>\n",
       "      <td>38.000000</td>\n",
       "      <td>1</td>\n",
       "      <td>0</td>\n",
       "      <td>71.2833</td>\n",
       "      <td>C</td>\n",
       "      <td>0</td>\n",
       "      <td>0</td>\n",
       "      <td>0</td>\n",
       "    </tr>\n",
       "    <tr>\n",
       "      <th>2</th>\n",
       "      <td>1</td>\n",
       "      <td>3</td>\n",
       "      <td>26.000000</td>\n",
       "      <td>0</td>\n",
       "      <td>0</td>\n",
       "      <td>7.9250</td>\n",
       "      <td>S</td>\n",
       "      <td>0</td>\n",
       "      <td>0</td>\n",
       "      <td>1</td>\n",
       "    </tr>\n",
       "    <tr>\n",
       "      <th>3</th>\n",
       "      <td>1</td>\n",
       "      <td>1</td>\n",
       "      <td>35.000000</td>\n",
       "      <td>1</td>\n",
       "      <td>0</td>\n",
       "      <td>53.1000</td>\n",
       "      <td>S</td>\n",
       "      <td>0</td>\n",
       "      <td>0</td>\n",
       "      <td>1</td>\n",
       "    </tr>\n",
       "    <tr>\n",
       "      <th>4</th>\n",
       "      <td>0</td>\n",
       "      <td>3</td>\n",
       "      <td>35.000000</td>\n",
       "      <td>0</td>\n",
       "      <td>0</td>\n",
       "      <td>8.0500</td>\n",
       "      <td>S</td>\n",
       "      <td>1</td>\n",
       "      <td>0</td>\n",
       "      <td>1</td>\n",
       "    </tr>\n",
       "    <tr>\n",
       "      <th>...</th>\n",
       "      <td>...</td>\n",
       "      <td>...</td>\n",
       "      <td>...</td>\n",
       "      <td>...</td>\n",
       "      <td>...</td>\n",
       "      <td>...</td>\n",
       "      <td>...</td>\n",
       "      <td>...</td>\n",
       "      <td>...</td>\n",
       "      <td>...</td>\n",
       "    </tr>\n",
       "    <tr>\n",
       "      <th>886</th>\n",
       "      <td>0</td>\n",
       "      <td>2</td>\n",
       "      <td>27.000000</td>\n",
       "      <td>0</td>\n",
       "      <td>0</td>\n",
       "      <td>13.0000</td>\n",
       "      <td>S</td>\n",
       "      <td>1</td>\n",
       "      <td>0</td>\n",
       "      <td>1</td>\n",
       "    </tr>\n",
       "    <tr>\n",
       "      <th>887</th>\n",
       "      <td>1</td>\n",
       "      <td>1</td>\n",
       "      <td>19.000000</td>\n",
       "      <td>0</td>\n",
       "      <td>0</td>\n",
       "      <td>30.0000</td>\n",
       "      <td>S</td>\n",
       "      <td>0</td>\n",
       "      <td>0</td>\n",
       "      <td>1</td>\n",
       "    </tr>\n",
       "    <tr>\n",
       "      <th>888</th>\n",
       "      <td>0</td>\n",
       "      <td>3</td>\n",
       "      <td>29.699118</td>\n",
       "      <td>1</td>\n",
       "      <td>2</td>\n",
       "      <td>23.4500</td>\n",
       "      <td>S</td>\n",
       "      <td>0</td>\n",
       "      <td>0</td>\n",
       "      <td>1</td>\n",
       "    </tr>\n",
       "    <tr>\n",
       "      <th>889</th>\n",
       "      <td>1</td>\n",
       "      <td>1</td>\n",
       "      <td>26.000000</td>\n",
       "      <td>0</td>\n",
       "      <td>0</td>\n",
       "      <td>30.0000</td>\n",
       "      <td>C</td>\n",
       "      <td>1</td>\n",
       "      <td>0</td>\n",
       "      <td>0</td>\n",
       "    </tr>\n",
       "    <tr>\n",
       "      <th>890</th>\n",
       "      <td>0</td>\n",
       "      <td>3</td>\n",
       "      <td>32.000000</td>\n",
       "      <td>0</td>\n",
       "      <td>0</td>\n",
       "      <td>7.7500</td>\n",
       "      <td>Q</td>\n",
       "      <td>1</td>\n",
       "      <td>1</td>\n",
       "      <td>0</td>\n",
       "    </tr>\n",
       "  </tbody>\n",
       "</table>\n",
       "<p>891 rows × 10 columns</p>\n",
       "</div>"
      ],
      "text/plain": [
       "     Survived  Pclass        Age  SibSp  Parch     Fare Embarked  MALE  Q  S\n",
       "0           0       3  22.000000      1      0   7.2500        S     1  0  1\n",
       "1           1       1  38.000000      1      0  71.2833        C     0  0  0\n",
       "2           1       3  26.000000      0      0   7.9250        S     0  0  1\n",
       "3           1       1  35.000000      1      0  53.1000        S     0  0  1\n",
       "4           0       3  35.000000      0      0   8.0500        S     1  0  1\n",
       "..        ...     ...        ...    ...    ...      ...      ...   ... .. ..\n",
       "886         0       2  27.000000      0      0  13.0000        S     1  0  1\n",
       "887         1       1  19.000000      0      0  30.0000        S     0  0  1\n",
       "888         0       3  29.699118      1      2  23.4500        S     0  0  1\n",
       "889         1       1  26.000000      0      0  30.0000        C     1  0  0\n",
       "890         0       3  32.000000      0      0   7.7500        Q     1  1  0\n",
       "\n",
       "[891 rows x 10 columns]"
      ]
     },
     "execution_count": 17,
     "metadata": {},
     "output_type": "execute_result"
    }
   ],
   "source": [
    "data"
   ]
  },
  {
   "cell_type": "code",
   "execution_count": 18,
   "id": "2e9b9c9f",
   "metadata": {},
   "outputs": [],
   "source": [
    "data.dropna(inplace=True)"
   ]
  },
  {
   "cell_type": "code",
   "execution_count": 19,
   "id": "39e547d7",
   "metadata": {},
   "outputs": [
    {
     "data": {
      "text/plain": [
       "Survived    0\n",
       "Pclass      0\n",
       "Age         0\n",
       "SibSp       0\n",
       "Parch       0\n",
       "Fare        0\n",
       "Embarked    0\n",
       "MALE        0\n",
       "Q           0\n",
       "S           0\n",
       "dtype: int64"
      ]
     },
     "execution_count": 19,
     "metadata": {},
     "output_type": "execute_result"
    }
   ],
   "source": [
    "data.isnull().sum()"
   ]
  },
  {
   "cell_type": "code",
   "execution_count": 20,
   "id": "50a89c97",
   "metadata": {},
   "outputs": [
    {
     "data": {
      "text/html": [
       "<div>\n",
       "<style scoped>\n",
       "    .dataframe tbody tr th:only-of-type {\n",
       "        vertical-align: middle;\n",
       "    }\n",
       "\n",
       "    .dataframe tbody tr th {\n",
       "        vertical-align: top;\n",
       "    }\n",
       "\n",
       "    .dataframe thead th {\n",
       "        text-align: right;\n",
       "    }\n",
       "</style>\n",
       "<table border=\"1\" class=\"dataframe\">\n",
       "  <thead>\n",
       "    <tr style=\"text-align: right;\">\n",
       "      <th></th>\n",
       "      <th>Survived</th>\n",
       "      <th>Pclass</th>\n",
       "      <th>Age</th>\n",
       "      <th>SibSp</th>\n",
       "      <th>Parch</th>\n",
       "      <th>Fare</th>\n",
       "      <th>Embarked</th>\n",
       "      <th>MALE</th>\n",
       "      <th>Q</th>\n",
       "      <th>S</th>\n",
       "    </tr>\n",
       "  </thead>\n",
       "  <tbody>\n",
       "    <tr>\n",
       "      <th>0</th>\n",
       "      <td>0</td>\n",
       "      <td>3</td>\n",
       "      <td>22.000000</td>\n",
       "      <td>1</td>\n",
       "      <td>0</td>\n",
       "      <td>7.2500</td>\n",
       "      <td>S</td>\n",
       "      <td>1</td>\n",
       "      <td>0</td>\n",
       "      <td>1</td>\n",
       "    </tr>\n",
       "    <tr>\n",
       "      <th>1</th>\n",
       "      <td>1</td>\n",
       "      <td>1</td>\n",
       "      <td>38.000000</td>\n",
       "      <td>1</td>\n",
       "      <td>0</td>\n",
       "      <td>71.2833</td>\n",
       "      <td>C</td>\n",
       "      <td>0</td>\n",
       "      <td>0</td>\n",
       "      <td>0</td>\n",
       "    </tr>\n",
       "    <tr>\n",
       "      <th>2</th>\n",
       "      <td>1</td>\n",
       "      <td>3</td>\n",
       "      <td>26.000000</td>\n",
       "      <td>0</td>\n",
       "      <td>0</td>\n",
       "      <td>7.9250</td>\n",
       "      <td>S</td>\n",
       "      <td>0</td>\n",
       "      <td>0</td>\n",
       "      <td>1</td>\n",
       "    </tr>\n",
       "    <tr>\n",
       "      <th>3</th>\n",
       "      <td>1</td>\n",
       "      <td>1</td>\n",
       "      <td>35.000000</td>\n",
       "      <td>1</td>\n",
       "      <td>0</td>\n",
       "      <td>53.1000</td>\n",
       "      <td>S</td>\n",
       "      <td>0</td>\n",
       "      <td>0</td>\n",
       "      <td>1</td>\n",
       "    </tr>\n",
       "    <tr>\n",
       "      <th>4</th>\n",
       "      <td>0</td>\n",
       "      <td>3</td>\n",
       "      <td>35.000000</td>\n",
       "      <td>0</td>\n",
       "      <td>0</td>\n",
       "      <td>8.0500</td>\n",
       "      <td>S</td>\n",
       "      <td>1</td>\n",
       "      <td>0</td>\n",
       "      <td>1</td>\n",
       "    </tr>\n",
       "    <tr>\n",
       "      <th>...</th>\n",
       "      <td>...</td>\n",
       "      <td>...</td>\n",
       "      <td>...</td>\n",
       "      <td>...</td>\n",
       "      <td>...</td>\n",
       "      <td>...</td>\n",
       "      <td>...</td>\n",
       "      <td>...</td>\n",
       "      <td>...</td>\n",
       "      <td>...</td>\n",
       "    </tr>\n",
       "    <tr>\n",
       "      <th>886</th>\n",
       "      <td>0</td>\n",
       "      <td>2</td>\n",
       "      <td>27.000000</td>\n",
       "      <td>0</td>\n",
       "      <td>0</td>\n",
       "      <td>13.0000</td>\n",
       "      <td>S</td>\n",
       "      <td>1</td>\n",
       "      <td>0</td>\n",
       "      <td>1</td>\n",
       "    </tr>\n",
       "    <tr>\n",
       "      <th>887</th>\n",
       "      <td>1</td>\n",
       "      <td>1</td>\n",
       "      <td>19.000000</td>\n",
       "      <td>0</td>\n",
       "      <td>0</td>\n",
       "      <td>30.0000</td>\n",
       "      <td>S</td>\n",
       "      <td>0</td>\n",
       "      <td>0</td>\n",
       "      <td>1</td>\n",
       "    </tr>\n",
       "    <tr>\n",
       "      <th>888</th>\n",
       "      <td>0</td>\n",
       "      <td>3</td>\n",
       "      <td>29.699118</td>\n",
       "      <td>1</td>\n",
       "      <td>2</td>\n",
       "      <td>23.4500</td>\n",
       "      <td>S</td>\n",
       "      <td>0</td>\n",
       "      <td>0</td>\n",
       "      <td>1</td>\n",
       "    </tr>\n",
       "    <tr>\n",
       "      <th>889</th>\n",
       "      <td>1</td>\n",
       "      <td>1</td>\n",
       "      <td>26.000000</td>\n",
       "      <td>0</td>\n",
       "      <td>0</td>\n",
       "      <td>30.0000</td>\n",
       "      <td>C</td>\n",
       "      <td>1</td>\n",
       "      <td>0</td>\n",
       "      <td>0</td>\n",
       "    </tr>\n",
       "    <tr>\n",
       "      <th>890</th>\n",
       "      <td>0</td>\n",
       "      <td>3</td>\n",
       "      <td>32.000000</td>\n",
       "      <td>0</td>\n",
       "      <td>0</td>\n",
       "      <td>7.7500</td>\n",
       "      <td>Q</td>\n",
       "      <td>1</td>\n",
       "      <td>1</td>\n",
       "      <td>0</td>\n",
       "    </tr>\n",
       "  </tbody>\n",
       "</table>\n",
       "<p>889 rows × 10 columns</p>\n",
       "</div>"
      ],
      "text/plain": [
       "     Survived  Pclass        Age  SibSp  Parch     Fare Embarked  MALE  Q  S\n",
       "0           0       3  22.000000      1      0   7.2500        S     1  0  1\n",
       "1           1       1  38.000000      1      0  71.2833        C     0  0  0\n",
       "2           1       3  26.000000      0      0   7.9250        S     0  0  1\n",
       "3           1       1  35.000000      1      0  53.1000        S     0  0  1\n",
       "4           0       3  35.000000      0      0   8.0500        S     1  0  1\n",
       "..        ...     ...        ...    ...    ...      ...      ...   ... .. ..\n",
       "886         0       2  27.000000      0      0  13.0000        S     1  0  1\n",
       "887         1       1  19.000000      0      0  30.0000        S     0  0  1\n",
       "888         0       3  29.699118      1      2  23.4500        S     0  0  1\n",
       "889         1       1  26.000000      0      0  30.0000        C     1  0  0\n",
       "890         0       3  32.000000      0      0   7.7500        Q     1  1  0\n",
       "\n",
       "[889 rows x 10 columns]"
      ]
     },
     "execution_count": 20,
     "metadata": {},
     "output_type": "execute_result"
    }
   ],
   "source": [
    "data"
   ]
  },
  {
   "cell_type": "code",
   "execution_count": 21,
   "id": "9664ea5a",
   "metadata": {},
   "outputs": [],
   "source": [
    "data.drop(['Embarked'],axis=1,inplace=True)"
   ]
  },
  {
   "cell_type": "code",
   "execution_count": 22,
   "id": "359c30a8",
   "metadata": {},
   "outputs": [
    {
     "data": {
      "text/html": [
       "<div>\n",
       "<style scoped>\n",
       "    .dataframe tbody tr th:only-of-type {\n",
       "        vertical-align: middle;\n",
       "    }\n",
       "\n",
       "    .dataframe tbody tr th {\n",
       "        vertical-align: top;\n",
       "    }\n",
       "\n",
       "    .dataframe thead th {\n",
       "        text-align: right;\n",
       "    }\n",
       "</style>\n",
       "<table border=\"1\" class=\"dataframe\">\n",
       "  <thead>\n",
       "    <tr style=\"text-align: right;\">\n",
       "      <th></th>\n",
       "      <th>Survived</th>\n",
       "      <th>Pclass</th>\n",
       "      <th>Age</th>\n",
       "      <th>SibSp</th>\n",
       "      <th>Parch</th>\n",
       "      <th>Fare</th>\n",
       "      <th>MALE</th>\n",
       "      <th>Q</th>\n",
       "      <th>S</th>\n",
       "    </tr>\n",
       "  </thead>\n",
       "  <tbody>\n",
       "    <tr>\n",
       "      <th>0</th>\n",
       "      <td>0</td>\n",
       "      <td>3</td>\n",
       "      <td>22.000000</td>\n",
       "      <td>1</td>\n",
       "      <td>0</td>\n",
       "      <td>7.2500</td>\n",
       "      <td>1</td>\n",
       "      <td>0</td>\n",
       "      <td>1</td>\n",
       "    </tr>\n",
       "    <tr>\n",
       "      <th>1</th>\n",
       "      <td>1</td>\n",
       "      <td>1</td>\n",
       "      <td>38.000000</td>\n",
       "      <td>1</td>\n",
       "      <td>0</td>\n",
       "      <td>71.2833</td>\n",
       "      <td>0</td>\n",
       "      <td>0</td>\n",
       "      <td>0</td>\n",
       "    </tr>\n",
       "    <tr>\n",
       "      <th>2</th>\n",
       "      <td>1</td>\n",
       "      <td>3</td>\n",
       "      <td>26.000000</td>\n",
       "      <td>0</td>\n",
       "      <td>0</td>\n",
       "      <td>7.9250</td>\n",
       "      <td>0</td>\n",
       "      <td>0</td>\n",
       "      <td>1</td>\n",
       "    </tr>\n",
       "    <tr>\n",
       "      <th>3</th>\n",
       "      <td>1</td>\n",
       "      <td>1</td>\n",
       "      <td>35.000000</td>\n",
       "      <td>1</td>\n",
       "      <td>0</td>\n",
       "      <td>53.1000</td>\n",
       "      <td>0</td>\n",
       "      <td>0</td>\n",
       "      <td>1</td>\n",
       "    </tr>\n",
       "    <tr>\n",
       "      <th>4</th>\n",
       "      <td>0</td>\n",
       "      <td>3</td>\n",
       "      <td>35.000000</td>\n",
       "      <td>0</td>\n",
       "      <td>0</td>\n",
       "      <td>8.0500</td>\n",
       "      <td>1</td>\n",
       "      <td>0</td>\n",
       "      <td>1</td>\n",
       "    </tr>\n",
       "    <tr>\n",
       "      <th>...</th>\n",
       "      <td>...</td>\n",
       "      <td>...</td>\n",
       "      <td>...</td>\n",
       "      <td>...</td>\n",
       "      <td>...</td>\n",
       "      <td>...</td>\n",
       "      <td>...</td>\n",
       "      <td>...</td>\n",
       "      <td>...</td>\n",
       "    </tr>\n",
       "    <tr>\n",
       "      <th>886</th>\n",
       "      <td>0</td>\n",
       "      <td>2</td>\n",
       "      <td>27.000000</td>\n",
       "      <td>0</td>\n",
       "      <td>0</td>\n",
       "      <td>13.0000</td>\n",
       "      <td>1</td>\n",
       "      <td>0</td>\n",
       "      <td>1</td>\n",
       "    </tr>\n",
       "    <tr>\n",
       "      <th>887</th>\n",
       "      <td>1</td>\n",
       "      <td>1</td>\n",
       "      <td>19.000000</td>\n",
       "      <td>0</td>\n",
       "      <td>0</td>\n",
       "      <td>30.0000</td>\n",
       "      <td>0</td>\n",
       "      <td>0</td>\n",
       "      <td>1</td>\n",
       "    </tr>\n",
       "    <tr>\n",
       "      <th>888</th>\n",
       "      <td>0</td>\n",
       "      <td>3</td>\n",
       "      <td>29.699118</td>\n",
       "      <td>1</td>\n",
       "      <td>2</td>\n",
       "      <td>23.4500</td>\n",
       "      <td>0</td>\n",
       "      <td>0</td>\n",
       "      <td>1</td>\n",
       "    </tr>\n",
       "    <tr>\n",
       "      <th>889</th>\n",
       "      <td>1</td>\n",
       "      <td>1</td>\n",
       "      <td>26.000000</td>\n",
       "      <td>0</td>\n",
       "      <td>0</td>\n",
       "      <td>30.0000</td>\n",
       "      <td>1</td>\n",
       "      <td>0</td>\n",
       "      <td>0</td>\n",
       "    </tr>\n",
       "    <tr>\n",
       "      <th>890</th>\n",
       "      <td>0</td>\n",
       "      <td>3</td>\n",
       "      <td>32.000000</td>\n",
       "      <td>0</td>\n",
       "      <td>0</td>\n",
       "      <td>7.7500</td>\n",
       "      <td>1</td>\n",
       "      <td>1</td>\n",
       "      <td>0</td>\n",
       "    </tr>\n",
       "  </tbody>\n",
       "</table>\n",
       "<p>889 rows × 9 columns</p>\n",
       "</div>"
      ],
      "text/plain": [
       "     Survived  Pclass        Age  SibSp  Parch     Fare  MALE  Q  S\n",
       "0           0       3  22.000000      1      0   7.2500     1  0  1\n",
       "1           1       1  38.000000      1      0  71.2833     0  0  0\n",
       "2           1       3  26.000000      0      0   7.9250     0  0  1\n",
       "3           1       1  35.000000      1      0  53.1000     0  0  1\n",
       "4           0       3  35.000000      0      0   8.0500     1  0  1\n",
       "..        ...     ...        ...    ...    ...      ...   ... .. ..\n",
       "886         0       2  27.000000      0      0  13.0000     1  0  1\n",
       "887         1       1  19.000000      0      0  30.0000     0  0  1\n",
       "888         0       3  29.699118      1      2  23.4500     0  0  1\n",
       "889         1       1  26.000000      0      0  30.0000     1  0  0\n",
       "890         0       3  32.000000      0      0   7.7500     1  1  0\n",
       "\n",
       "[889 rows x 9 columns]"
      ]
     },
     "execution_count": 22,
     "metadata": {},
     "output_type": "execute_result"
    }
   ],
   "source": [
    "data"
   ]
  },
  {
   "cell_type": "code",
   "execution_count": 23,
   "id": "b62d2ebb",
   "metadata": {},
   "outputs": [
    {
     "data": {
      "text/plain": [
       "<AxesSubplot:>"
      ]
     },
     "execution_count": 23,
     "metadata": {},
     "output_type": "execute_result"
    },
    {
     "data": {
      "image/png": "[encoded data removed]",
      "text/plain": [
       "<Figure size 1296x576 with 1 Axes>"
      ]
     },
     "metadata": {
      "needs_background": "light"
     },
     "output_type": "display_data"
    }
   ],
   "source": [
    "data['Age'].plot()"
   ]
  },
  {
   "cell_type": "code",
   "execution_count": 24,
   "id": "3fc81015",
   "metadata": {},
   "outputs": [
    {
     "data": {
      "text/plain": [
       "<AxesSubplot:>"
      ]
     },
     "execution_count": 24,
     "metadata": {},
     "output_type": "execute_result"
    },
    {
     "data": {
      "image/png": "[encoded data removed]",
      "text/plain": [
       "<Figure size 1296x576 with 1 Axes>"
      ]
     },
     "metadata": {
      "needs_background": "light"
     },
     "output_type": "display_data"
    }
   ],
   "source": [
    "data.Survived.value_counts().plot(kind='barh',color='green')"
   ]
  },
  {
   "cell_type": "markdown",
   "id": "62759b14",
   "metadata": {},
   "source": [
    "data"
   ]
  },
  {
   "cell_type": "code",
   "execution_count": 25,
   "id": "e1294a0a",
   "metadata": {},
   "outputs": [],
   "source": [
    "x=data.iloc[:,1:]"
   ]
  },
  {
   "cell_type": "code",
   "execution_count": 26,
   "id": "156beb00",
   "metadata": {},
   "outputs": [
    {
     "data": {
      "text/html": [
       "<div>\n",
       "<style scoped>\n",
       "    .dataframe tbody tr th:only-of-type {\n",
       "        vertical-align: middle;\n",
       "    }\n",
       "\n",
       "    .dataframe tbody tr th {\n",
       "        vertical-align: top;\n",
       "    }\n",
       "\n",
       "    .dataframe thead th {\n",
       "        text-align: right;\n",
       "    }\n",
       "</style>\n",
       "<table border=\"1\" class=\"dataframe\">\n",
       "  <thead>\n",
       "    <tr style=\"text-align: right;\">\n",
       "      <th></th>\n",
       "      <th>Pclass</th>\n",
       "      <th>Age</th>\n",
       "      <th>SibSp</th>\n",
       "      <th>Parch</th>\n",
       "      <th>Fare</th>\n",
       "      <th>MALE</th>\n",
       "      <th>Q</th>\n",
       "      <th>S</th>\n",
       "    </tr>\n",
       "  </thead>\n",
       "  <tbody>\n",
       "    <tr>\n",
       "      <th>0</th>\n",
       "      <td>3</td>\n",
       "      <td>22.000000</td>\n",
       "      <td>1</td>\n",
       "      <td>0</td>\n",
       "      <td>7.2500</td>\n",
       "      <td>1</td>\n",
       "      <td>0</td>\n",
       "      <td>1</td>\n",
       "    </tr>\n",
       "    <tr>\n",
       "      <th>1</th>\n",
       "      <td>1</td>\n",
       "      <td>38.000000</td>\n",
       "      <td>1</td>\n",
       "      <td>0</td>\n",
       "      <td>71.2833</td>\n",
       "      <td>0</td>\n",
       "      <td>0</td>\n",
       "      <td>0</td>\n",
       "    </tr>\n",
       "    <tr>\n",
       "      <th>2</th>\n",
       "      <td>3</td>\n",
       "      <td>26.000000</td>\n",
       "      <td>0</td>\n",
       "      <td>0</td>\n",
       "      <td>7.9250</td>\n",
       "      <td>0</td>\n",
       "      <td>0</td>\n",
       "      <td>1</td>\n",
       "    </tr>\n",
       "    <tr>\n",
       "      <th>3</th>\n",
       "      <td>1</td>\n",
       "      <td>35.000000</td>\n",
       "      <td>1</td>\n",
       "      <td>0</td>\n",
       "      <td>53.1000</td>\n",
       "      <td>0</td>\n",
       "      <td>0</td>\n",
       "      <td>1</td>\n",
       "    </tr>\n",
       "    <tr>\n",
       "      <th>4</th>\n",
       "      <td>3</td>\n",
       "      <td>35.000000</td>\n",
       "      <td>0</td>\n",
       "      <td>0</td>\n",
       "      <td>8.0500</td>\n",
       "      <td>1</td>\n",
       "      <td>0</td>\n",
       "      <td>1</td>\n",
       "    </tr>\n",
       "    <tr>\n",
       "      <th>...</th>\n",
       "      <td>...</td>\n",
       "      <td>...</td>\n",
       "      <td>...</td>\n",
       "      <td>...</td>\n",
       "      <td>...</td>\n",
       "      <td>...</td>\n",
       "      <td>...</td>\n",
       "      <td>...</td>\n",
       "    </tr>\n",
       "    <tr>\n",
       "      <th>886</th>\n",
       "      <td>2</td>\n",
       "      <td>27.000000</td>\n",
       "      <td>0</td>\n",
       "      <td>0</td>\n",
       "      <td>13.0000</td>\n",
       "      <td>1</td>\n",
       "      <td>0</td>\n",
       "      <td>1</td>\n",
       "    </tr>\n",
       "    <tr>\n",
       "      <th>887</th>\n",
       "      <td>1</td>\n",
       "      <td>19.000000</td>\n",
       "      <td>0</td>\n",
       "      <td>0</td>\n",
       "      <td>30.0000</td>\n",
       "      <td>0</td>\n",
       "      <td>0</td>\n",
       "      <td>1</td>\n",
       "    </tr>\n",
       "    <tr>\n",
       "      <th>888</th>\n",
       "      <td>3</td>\n",
       "      <td>29.699118</td>\n",
       "      <td>1</td>\n",
       "      <td>2</td>\n",
       "      <td>23.4500</td>\n",
       "      <td>0</td>\n",
       "      <td>0</td>\n",
       "      <td>1</td>\n",
       "    </tr>\n",
       "    <tr>\n",
       "      <th>889</th>\n",
       "      <td>1</td>\n",
       "      <td>26.000000</td>\n",
       "      <td>0</td>\n",
       "      <td>0</td>\n",
       "      <td>30.0000</td>\n",
       "      <td>1</td>\n",
       "      <td>0</td>\n",
       "      <td>0</td>\n",
       "    </tr>\n",
       "    <tr>\n",
       "      <th>890</th>\n",
       "      <td>3</td>\n",
       "      <td>32.000000</td>\n",
       "      <td>0</td>\n",
       "      <td>0</td>\n",
       "      <td>7.7500</td>\n",
       "      <td>1</td>\n",
       "      <td>1</td>\n",
       "      <td>0</td>\n",
       "    </tr>\n",
       "  </tbody>\n",
       "</table>\n",
       "<p>889 rows × 8 columns</p>\n",
       "</div>"
      ],
      "text/plain": [
       "     Pclass        Age  SibSp  Parch     Fare  MALE  Q  S\n",
       "0         3  22.000000      1      0   7.2500     1  0  1\n",
       "1         1  38.000000      1      0  71.2833     0  0  0\n",
       "2         3  26.000000      0      0   7.9250     0  0  1\n",
       "3         1  35.000000      1      0  53.1000     0  0  1\n",
       "4         3  35.000000      0      0   8.0500     1  0  1\n",
       "..      ...        ...    ...    ...      ...   ... .. ..\n",
       "886       2  27.000000      0      0  13.0000     1  0  1\n",
       "887       1  19.000000      0      0  30.0000     0  0  1\n",
       "888       3  29.699118      1      2  23.4500     0  0  1\n",
       "889       1  26.000000      0      0  30.0000     1  0  0\n",
       "890       3  32.000000      0      0   7.7500     1  1  0\n",
       "\n",
       "[889 rows x 8 columns]"
      ]
     },
     "execution_count": 26,
     "metadata": {},
     "output_type": "execute_result"
    }
   ],
   "source": [
    "x"
   ]
  },
  {
   "cell_type": "code",
   "execution_count": 27,
   "id": "3d7d5196",
   "metadata": {},
   "outputs": [],
   "source": [
    "y=data['Survived']"
   ]
  },
  {
   "cell_type": "code",
   "execution_count": 28,
   "id": "eed14eeb",
   "metadata": {},
   "outputs": [
    {
     "data": {
      "text/plain": [
       "0      0\n",
       "1      1\n",
       "2      1\n",
       "3      1\n",
       "4      0\n",
       "      ..\n",
       "886    0\n",
       "887    1\n",
       "888    0\n",
       "889    1\n",
       "890    0\n",
       "Name: Survived, Length: 889, dtype: int64"
      ]
     },
     "execution_count": 28,
     "metadata": {},
     "output_type": "execute_result"
    }
   ],
   "source": [
    "y"
   ]
  },
  {
   "cell_type": "code",
   "execution_count": 29,
   "id": "7508b64b",
   "metadata": {
    "scrolled": false
   },
   "outputs": [
    {
     "data": {
      "text/plain": [
       "<AxesSubplot:>"
      ]
     },
     "execution_count": 29,
     "metadata": {},
     "output_type": "execute_result"
    },
    {
     "data": {
      "image/png": "[encoded data removed]",
      "text/plain": [
       "<Figure size 1296x576 with 1 Axes>"
      ]
     },
     "metadata": {
      "needs_background": "light"
     },
     "output_type": "display_data"
    }
   ],
   "source": [
    "data.boxplot()"
   ]
  },
  {
   "cell_type": "markdown",
   "id": "50181869",
   "metadata": {},
   "source": [
    "# Its seems AGE and FARE are having Outliers"
   ]
  },
  {
   "cell_type": "code",
   "execution_count": 30,
   "id": "f9c14f14",
   "metadata": {},
   "outputs": [
    {
     "name": "stderr",
     "output_type": "stream",
     "text": [
      "C:\\Users\\user\\anaconda3\\lib\\site-packages\\seaborn\\distributions.py:2619: FutureWarning: `distplot` is a deprecated function and will be removed in a future version. Please adapt your code to use either `displot` (a figure-level function with similar flexibility) or `histplot` (an axes-level function for histograms).\n",
      "  warnings.warn(msg, FutureWarning)\n"
     ]
    },
    {
     "data": {
      "text/plain": [
       "<AxesSubplot:xlabel='Age', ylabel='Density'>"
      ]
     },
     "execution_count": 30,
     "metadata": {},
     "output_type": "execute_result"
    },
    {
     "data": {
      "image/png": "[encoded data removed]",
      "text/plain": [
       "<Figure size 1296x576 with 1 Axes>"
      ]
     },
     "metadata": {
      "needs_background": "light"
     },
     "output_type": "display_data"
    }
   ],
   "source": [
    "sns.distplot(data['Age'])"
   ]
  },
  {
   "cell_type": "markdown",
   "id": "128d82d5",
   "metadata": {},
   "source": [
    "looks like gausian distribution"
   ]
  },
  {
   "cell_type": "code",
   "execution_count": 31,
   "id": "a435a698",
   "metadata": {},
   "outputs": [],
   "source": [
    "upper_limit=data['Age'].mean() + 3*data['Age'].std()"
   ]
  },
  {
   "cell_type": "code",
   "execution_count": 32,
   "id": "56766658",
   "metadata": {},
   "outputs": [
    {
     "data": {
      "text/plain": [
       "68.55854529843118"
      ]
     },
     "execution_count": 32,
     "metadata": {},
     "output_type": "execute_result"
    }
   ],
   "source": [
    "upper_limit"
   ]
  },
  {
   "cell_type": "code",
   "execution_count": 33,
   "id": "48eade35",
   "metadata": {},
   "outputs": [],
   "source": [
    "lower_limit=data['Age'].mean() - 3*data['Age'].std()"
   ]
  },
  {
   "cell_type": "code",
   "execution_count": 34,
   "id": "925b3310",
   "metadata": {},
   "outputs": [
    {
     "data": {
      "text/plain": [
       "-9.251652557082803"
      ]
     },
     "execution_count": 34,
     "metadata": {},
     "output_type": "execute_result"
    }
   ],
   "source": [
    "lower_limit"
   ]
  },
  {
   "cell_type": "code",
   "execution_count": 35,
   "id": "ace1dced",
   "metadata": {
    "scrolled": true
   },
   "outputs": [
    {
     "name": "stderr",
     "output_type": "stream",
     "text": [
      "C:\\Users\\user\\anaconda3\\lib\\site-packages\\pandas\\core\\indexing.py:1732: SettingWithCopyWarning: \n",
      "A value is trying to be set on a copy of a slice from a DataFrame\n",
      "\n",
      "See the caveats in the documentation: https://pandas.pydata.org/pandas-docs/stable/user_guide/indexing.html#returning-a-view-versus-a-copy\n",
      "  self._setitem_single_block(indexer, value, name)\n"
     ]
    }
   ],
   "source": [
    "data['Age'].loc[data['Age']>68] = data['Age'].quantile(0.5)"
   ]
  },
  {
   "cell_type": "code",
   "execution_count": 36,
   "id": "0eb21c49",
   "metadata": {},
   "outputs": [
    {
     "data": {
      "text/plain": [
       "count    889.000000\n",
       "mean      29.317556\n",
       "std       12.393585\n",
       "min        0.420000\n",
       "25%       22.000000\n",
       "50%       29.699118\n",
       "75%       35.000000\n",
       "max       66.000000\n",
       "Name: Age, dtype: float64"
      ]
     },
     "execution_count": 36,
     "metadata": {},
     "output_type": "execute_result"
    }
   ],
   "source": [
    "data['Age'].describe()"
   ]
  },
  {
   "cell_type": "code",
   "execution_count": 37,
   "id": "56561773",
   "metadata": {},
   "outputs": [
    {
     "data": {
      "text/plain": [
       "<AxesSubplot:>"
      ]
     },
     "execution_count": 37,
     "metadata": {},
     "output_type": "execute_result"
    },
    {
     "data": {
      "image/png": "[encoded data removed]",
      "text/plain": [
       "<Figure size 1296x576 with 1 Axes>"
      ]
     },
     "metadata": {
      "needs_background": "light"
     },
     "output_type": "display_data"
    }
   ],
   "source": [
    "sns.boxplot(data=data['Age'])"
   ]
  },
  {
   "cell_type": "code",
   "execution_count": 38,
   "id": "0e4d6bf9",
   "metadata": {},
   "outputs": [
    {
     "data": {
      "text/plain": [
       "count    889.000000\n",
       "mean      29.317556\n",
       "std       12.393585\n",
       "min        0.420000\n",
       "25%       22.000000\n",
       "50%       29.699118\n",
       "75%       35.000000\n",
       "max       66.000000\n",
       "Name: Age, dtype: float64"
      ]
     },
     "execution_count": 38,
     "metadata": {},
     "output_type": "execute_result"
    }
   ],
   "source": [
    "data['Age'].describe()"
   ]
  },
  {
   "cell_type": "code",
   "execution_count": 39,
   "id": "5fee2bbf",
   "metadata": {},
   "outputs": [
    {
     "name": "stderr",
     "output_type": "stream",
     "text": [
      "C:\\Users\\user\\anaconda3\\lib\\site-packages\\seaborn\\distributions.py:2619: FutureWarning: `distplot` is a deprecated function and will be removed in a future version. Please adapt your code to use either `displot` (a figure-level function with similar flexibility) or `histplot` (an axes-level function for histograms).\n",
      "  warnings.warn(msg, FutureWarning)\n"
     ]
    },
    {
     "data": {
      "text/plain": [
       "<AxesSubplot:xlabel='Fare', ylabel='Density'>"
      ]
     },
     "execution_count": 39,
     "metadata": {},
     "output_type": "execute_result"
    },
    {
     "data": {
      "image/png": "[encoded data removed]",
      "text/plain": [
       "<Figure size 1296x576 with 1 Axes>"
      ]
     },
     "metadata": {
      "needs_background": "light"
     },
     "output_type": "display_data"
    }
   ],
   "source": [
    "sns.distplot(data['Fare'])"
   ]
  },
  {
   "cell_type": "markdown",
   "id": "46b44f44",
   "metadata": {},
   "source": [
    "It looks Like Right Skewed data"
   ]
  },
  {
   "cell_type": "code",
   "execution_count": 40,
   "id": "88805b04",
   "metadata": {},
   "outputs": [],
   "source": [
    "iqr=data['Fare'].quantile(0.75)-data['Fare'].quantile(0.25)"
   ]
  },
  {
   "cell_type": "code",
   "execution_count": 41,
   "id": "dbe9dd88",
   "metadata": {},
   "outputs": [
    {
     "data": {
      "text/plain": [
       "23.1042"
      ]
     },
     "execution_count": 41,
     "metadata": {},
     "output_type": "execute_result"
    }
   ],
   "source": [
    "iqr"
   ]
  },
  {
   "cell_type": "code",
   "execution_count": 42,
   "id": "437b72ec",
   "metadata": {},
   "outputs": [],
   "source": [
    "upper_limit_Fare=data['Fare'].quantile(0.75) + 3*iqr"
   ]
  },
  {
   "cell_type": "code",
   "execution_count": 43,
   "id": "5e7a0439",
   "metadata": {},
   "outputs": [
    {
     "data": {
      "text/plain": [
       "100.3126"
      ]
     },
     "execution_count": 43,
     "metadata": {},
     "output_type": "execute_result"
    }
   ],
   "source": [
    "upper_limit_Fare"
   ]
  },
  {
   "cell_type": "code",
   "execution_count": 44,
   "id": "e5cc24fc",
   "metadata": {},
   "outputs": [
    {
     "name": "stderr",
     "output_type": "stream",
     "text": [
      "C:\\Users\\user\\anaconda3\\lib\\site-packages\\pandas\\core\\indexing.py:1732: SettingWithCopyWarning: \n",
      "A value is trying to be set on a copy of a slice from a DataFrame\n",
      "\n",
      "See the caveats in the documentation: https://pandas.pydata.org/pandas-docs/stable/user_guide/indexing.html#returning-a-view-versus-a-copy\n",
      "  self._setitem_single_block(indexer, value, name)\n"
     ]
    }
   ],
   "source": [
    "data['Fare'].loc[data['Fare']> upper_limit_Fare]= data['Fare'].quantile(0.5)"
   ]
  },
  {
   "cell_type": "code",
   "execution_count": 45,
   "id": "ec28f659",
   "metadata": {},
   "outputs": [
    {
     "data": {
      "text/plain": [
       "count    889.000000\n",
       "mean      21.807964\n",
       "std       20.119776\n",
       "min        0.000000\n",
       "25%        7.895800\n",
       "50%       14.454200\n",
       "75%       26.550000\n",
       "max       93.500000\n",
       "Name: Fare, dtype: float64"
      ]
     },
     "execution_count": 45,
     "metadata": {},
     "output_type": "execute_result"
    }
   ],
   "source": [
    "data['Fare'].describe()"
   ]
  },
  {
   "cell_type": "code",
   "execution_count": 46,
   "id": "c606cbde",
   "metadata": {},
   "outputs": [
    {
     "data": {
      "text/html": [
       "<div>\n",
       "<style scoped>\n",
       "    .dataframe tbody tr th:only-of-type {\n",
       "        vertical-align: middle;\n",
       "    }\n",
       "\n",
       "    .dataframe tbody tr th {\n",
       "        vertical-align: top;\n",
       "    }\n",
       "\n",
       "    .dataframe thead th {\n",
       "        text-align: right;\n",
       "    }\n",
       "</style>\n",
       "<table border=\"1\" class=\"dataframe\">\n",
       "  <thead>\n",
       "    <tr style=\"text-align: right;\">\n",
       "      <th></th>\n",
       "      <th>Survived</th>\n",
       "      <th>Pclass</th>\n",
       "      <th>Age</th>\n",
       "      <th>SibSp</th>\n",
       "      <th>Parch</th>\n",
       "      <th>Fare</th>\n",
       "      <th>MALE</th>\n",
       "      <th>Q</th>\n",
       "      <th>S</th>\n",
       "    </tr>\n",
       "  </thead>\n",
       "  <tbody>\n",
       "    <tr>\n",
       "      <th>count</th>\n",
       "      <td>889.000000</td>\n",
       "      <td>889.000000</td>\n",
       "      <td>889.000000</td>\n",
       "      <td>889.000000</td>\n",
       "      <td>889.000000</td>\n",
       "      <td>889.000000</td>\n",
       "      <td>889.000000</td>\n",
       "      <td>889.000000</td>\n",
       "      <td>889.000000</td>\n",
       "    </tr>\n",
       "    <tr>\n",
       "      <th>mean</th>\n",
       "      <td>0.382452</td>\n",
       "      <td>2.311586</td>\n",
       "      <td>29.317556</td>\n",
       "      <td>0.524184</td>\n",
       "      <td>0.382452</td>\n",
       "      <td>21.807964</td>\n",
       "      <td>0.649044</td>\n",
       "      <td>0.086614</td>\n",
       "      <td>0.724409</td>\n",
       "    </tr>\n",
       "    <tr>\n",
       "      <th>std</th>\n",
       "      <td>0.486260</td>\n",
       "      <td>0.834700</td>\n",
       "      <td>12.393585</td>\n",
       "      <td>1.103705</td>\n",
       "      <td>0.806761</td>\n",
       "      <td>20.119776</td>\n",
       "      <td>0.477538</td>\n",
       "      <td>0.281427</td>\n",
       "      <td>0.447063</td>\n",
       "    </tr>\n",
       "    <tr>\n",
       "      <th>min</th>\n",
       "      <td>0.000000</td>\n",
       "      <td>1.000000</td>\n",
       "      <td>0.420000</td>\n",
       "      <td>0.000000</td>\n",
       "      <td>0.000000</td>\n",
       "      <td>0.000000</td>\n",
       "      <td>0.000000</td>\n",
       "      <td>0.000000</td>\n",
       "      <td>0.000000</td>\n",
       "    </tr>\n",
       "    <tr>\n",
       "      <th>25%</th>\n",
       "      <td>0.000000</td>\n",
       "      <td>2.000000</td>\n",
       "      <td>22.000000</td>\n",
       "      <td>0.000000</td>\n",
       "      <td>0.000000</td>\n",
       "      <td>7.895800</td>\n",
       "      <td>0.000000</td>\n",
       "      <td>0.000000</td>\n",
       "      <td>0.000000</td>\n",
       "    </tr>\n",
       "    <tr>\n",
       "      <th>50%</th>\n",
       "      <td>0.000000</td>\n",
       "      <td>3.000000</td>\n",
       "      <td>29.699118</td>\n",
       "      <td>0.000000</td>\n",
       "      <td>0.000000</td>\n",
       "      <td>14.454200</td>\n",
       "      <td>1.000000</td>\n",
       "      <td>0.000000</td>\n",
       "      <td>1.000000</td>\n",
       "    </tr>\n",
       "    <tr>\n",
       "      <th>75%</th>\n",
       "      <td>1.000000</td>\n",
       "      <td>3.000000</td>\n",
       "      <td>35.000000</td>\n",
       "      <td>1.000000</td>\n",
       "      <td>0.000000</td>\n",
       "      <td>26.550000</td>\n",
       "      <td>1.000000</td>\n",
       "      <td>0.000000</td>\n",
       "      <td>1.000000</td>\n",
       "    </tr>\n",
       "    <tr>\n",
       "      <th>max</th>\n",
       "      <td>1.000000</td>\n",
       "      <td>3.000000</td>\n",
       "      <td>66.000000</td>\n",
       "      <td>8.000000</td>\n",
       "      <td>6.000000</td>\n",
       "      <td>93.500000</td>\n",
       "      <td>1.000000</td>\n",
       "      <td>1.000000</td>\n",
       "      <td>1.000000</td>\n",
       "    </tr>\n",
       "  </tbody>\n",
       "</table>\n",
       "</div>"
      ],
      "text/plain": [
       "         Survived      Pclass         Age       SibSp       Parch        Fare  \\\n",
       "count  889.000000  889.000000  889.000000  889.000000  889.000000  889.000000   \n",
       "mean     0.382452    2.311586   29.317556    0.524184    0.382452   21.807964   \n",
       "std      0.486260    0.834700   12.393585    1.103705    0.806761   20.119776   \n",
       "min      0.000000    1.000000    0.420000    0.000000    0.000000    0.000000   \n",
       "25%      0.000000    2.000000   22.000000    0.000000    0.000000    7.895800   \n",
       "50%      0.000000    3.000000   29.699118    0.000000    0.000000   14.454200   \n",
       "75%      1.000000    3.000000   35.000000    1.000000    0.000000   26.550000   \n",
       "max      1.000000    3.000000   66.000000    8.000000    6.000000   93.500000   \n",
       "\n",
       "             MALE           Q           S  \n",
       "count  889.000000  889.000000  889.000000  \n",
       "mean     0.649044    0.086614    0.724409  \n",
       "std      0.477538    0.281427    0.447063  \n",
       "min      0.000000    0.000000    0.000000  \n",
       "25%      0.000000    0.000000    0.000000  \n",
       "50%      1.000000    0.000000    1.000000  \n",
       "75%      1.000000    0.000000    1.000000  \n",
       "max      1.000000    1.000000    1.000000  "
      ]
     },
     "execution_count": 46,
     "metadata": {},
     "output_type": "execute_result"
    }
   ],
   "source": [
    "data.describe()"
   ]
  },
  {
   "cell_type": "code",
   "execution_count": 47,
   "id": "a633d907",
   "metadata": {
    "scrolled": false
   },
   "outputs": [
    {
     "data": {
      "text/plain": [
       "<AxesSubplot:>"
      ]
     },
     "execution_count": 47,
     "metadata": {},
     "output_type": "execute_result"
    },
    {
     "data": {
      "image/png": "[encoded data removed]",
      "text/plain": [
       "<Figure size 1296x576 with 1 Axes>"
      ]
     },
     "metadata": {
      "needs_background": "light"
     },
     "output_type": "display_data"
    }
   ],
   "source": [
    "data.boxplot()"
   ]
  },
  {
   "cell_type": "code",
   "execution_count": 48,
   "id": "de553b41",
   "metadata": {},
   "outputs": [
    {
     "data": {
      "text/html": [
       "<div>\n",
       "<style scoped>\n",
       "    .dataframe tbody tr th:only-of-type {\n",
       "        vertical-align: middle;\n",
       "    }\n",
       "\n",
       "    .dataframe tbody tr th {\n",
       "        vertical-align: top;\n",
       "    }\n",
       "\n",
       "    .dataframe thead th {\n",
       "        text-align: right;\n",
       "    }\n",
       "</style>\n",
       "<table border=\"1\" class=\"dataframe\">\n",
       "  <thead>\n",
       "    <tr style=\"text-align: right;\">\n",
       "      <th></th>\n",
       "      <th>Survived</th>\n",
       "      <th>Pclass</th>\n",
       "      <th>Age</th>\n",
       "      <th>SibSp</th>\n",
       "      <th>Parch</th>\n",
       "      <th>Fare</th>\n",
       "      <th>MALE</th>\n",
       "      <th>Q</th>\n",
       "      <th>S</th>\n",
       "    </tr>\n",
       "  </thead>\n",
       "  <tbody>\n",
       "    <tr>\n",
       "      <th>0</th>\n",
       "      <td>0</td>\n",
       "      <td>3</td>\n",
       "      <td>22.000000</td>\n",
       "      <td>1</td>\n",
       "      <td>0</td>\n",
       "      <td>7.2500</td>\n",
       "      <td>1</td>\n",
       "      <td>0</td>\n",
       "      <td>1</td>\n",
       "    </tr>\n",
       "    <tr>\n",
       "      <th>1</th>\n",
       "      <td>1</td>\n",
       "      <td>1</td>\n",
       "      <td>38.000000</td>\n",
       "      <td>1</td>\n",
       "      <td>0</td>\n",
       "      <td>71.2833</td>\n",
       "      <td>0</td>\n",
       "      <td>0</td>\n",
       "      <td>0</td>\n",
       "    </tr>\n",
       "    <tr>\n",
       "      <th>2</th>\n",
       "      <td>1</td>\n",
       "      <td>3</td>\n",
       "      <td>26.000000</td>\n",
       "      <td>0</td>\n",
       "      <td>0</td>\n",
       "      <td>7.9250</td>\n",
       "      <td>0</td>\n",
       "      <td>0</td>\n",
       "      <td>1</td>\n",
       "    </tr>\n",
       "    <tr>\n",
       "      <th>3</th>\n",
       "      <td>1</td>\n",
       "      <td>1</td>\n",
       "      <td>35.000000</td>\n",
       "      <td>1</td>\n",
       "      <td>0</td>\n",
       "      <td>53.1000</td>\n",
       "      <td>0</td>\n",
       "      <td>0</td>\n",
       "      <td>1</td>\n",
       "    </tr>\n",
       "    <tr>\n",
       "      <th>4</th>\n",
       "      <td>0</td>\n",
       "      <td>3</td>\n",
       "      <td>35.000000</td>\n",
       "      <td>0</td>\n",
       "      <td>0</td>\n",
       "      <td>8.0500</td>\n",
       "      <td>1</td>\n",
       "      <td>0</td>\n",
       "      <td>1</td>\n",
       "    </tr>\n",
       "    <tr>\n",
       "      <th>...</th>\n",
       "      <td>...</td>\n",
       "      <td>...</td>\n",
       "      <td>...</td>\n",
       "      <td>...</td>\n",
       "      <td>...</td>\n",
       "      <td>...</td>\n",
       "      <td>...</td>\n",
       "      <td>...</td>\n",
       "      <td>...</td>\n",
       "    </tr>\n",
       "    <tr>\n",
       "      <th>886</th>\n",
       "      <td>0</td>\n",
       "      <td>2</td>\n",
       "      <td>27.000000</td>\n",
       "      <td>0</td>\n",
       "      <td>0</td>\n",
       "      <td>13.0000</td>\n",
       "      <td>1</td>\n",
       "      <td>0</td>\n",
       "      <td>1</td>\n",
       "    </tr>\n",
       "    <tr>\n",
       "      <th>887</th>\n",
       "      <td>1</td>\n",
       "      <td>1</td>\n",
       "      <td>19.000000</td>\n",
       "      <td>0</td>\n",
       "      <td>0</td>\n",
       "      <td>30.0000</td>\n",
       "      <td>0</td>\n",
       "      <td>0</td>\n",
       "      <td>1</td>\n",
       "    </tr>\n",
       "    <tr>\n",
       "      <th>888</th>\n",
       "      <td>0</td>\n",
       "      <td>3</td>\n",
       "      <td>29.699118</td>\n",
       "      <td>1</td>\n",
       "      <td>2</td>\n",
       "      <td>23.4500</td>\n",
       "      <td>0</td>\n",
       "      <td>0</td>\n",
       "      <td>1</td>\n",
       "    </tr>\n",
       "    <tr>\n",
       "      <th>889</th>\n",
       "      <td>1</td>\n",
       "      <td>1</td>\n",
       "      <td>26.000000</td>\n",
       "      <td>0</td>\n",
       "      <td>0</td>\n",
       "      <td>30.0000</td>\n",
       "      <td>1</td>\n",
       "      <td>0</td>\n",
       "      <td>0</td>\n",
       "    </tr>\n",
       "    <tr>\n",
       "      <th>890</th>\n",
       "      <td>0</td>\n",
       "      <td>3</td>\n",
       "      <td>32.000000</td>\n",
       "      <td>0</td>\n",
       "      <td>0</td>\n",
       "      <td>7.7500</td>\n",
       "      <td>1</td>\n",
       "      <td>1</td>\n",
       "      <td>0</td>\n",
       "    </tr>\n",
       "  </tbody>\n",
       "</table>\n",
       "<p>889 rows × 9 columns</p>\n",
       "</div>"
      ],
      "text/plain": [
       "     Survived  Pclass        Age  SibSp  Parch     Fare  MALE  Q  S\n",
       "0           0       3  22.000000      1      0   7.2500     1  0  1\n",
       "1           1       1  38.000000      1      0  71.2833     0  0  0\n",
       "2           1       3  26.000000      0      0   7.9250     0  0  1\n",
       "3           1       1  35.000000      1      0  53.1000     0  0  1\n",
       "4           0       3  35.000000      0      0   8.0500     1  0  1\n",
       "..        ...     ...        ...    ...    ...      ...   ... .. ..\n",
       "886         0       2  27.000000      0      0  13.0000     1  0  1\n",
       "887         1       1  19.000000      0      0  30.0000     0  0  1\n",
       "888         0       3  29.699118      1      2  23.4500     0  0  1\n",
       "889         1       1  26.000000      0      0  30.0000     1  0  0\n",
       "890         0       3  32.000000      0      0   7.7500     1  1  0\n",
       "\n",
       "[889 rows x 9 columns]"
      ]
     },
     "execution_count": 48,
     "metadata": {},
     "output_type": "execute_result"
    }
   ],
   "source": [
    "data"
   ]
  },
  {
   "cell_type": "markdown",
   "id": "188b2f4f",
   "metadata": {},
   "source": [
    "# Standarisation"
   ]
  },
  {
   "cell_type": "code",
   "execution_count": 49,
   "id": "a8f8e169",
   "metadata": {},
   "outputs": [],
   "source": [
    "from sklearn.preprocessing import StandardScaler"
   ]
  },
  {
   "cell_type": "code",
   "execution_count": 50,
   "id": "2e30bd55",
   "metadata": {},
   "outputs": [],
   "source": [
    "std_scaler=StandardScaler()"
   ]
  },
  {
   "cell_type": "code",
   "execution_count": 51,
   "id": "47ca0b71",
   "metadata": {},
   "outputs": [],
   "source": [
    "x=std_scaler.fit_transform(x)"
   ]
  },
  {
   "cell_type": "code",
   "execution_count": 52,
   "id": "4076d837",
   "metadata": {},
   "outputs": [
    {
     "data": {
      "text/plain": [
       "array([[ 0.82520863, -0.59049493,  0.43135024, ...,  0.73534203,\n",
       "        -0.30794088,  0.61679395],\n",
       "       [-1.57221121,  0.64397101,  0.43135024, ..., -1.35991138,\n",
       "        -0.30794088, -1.62128697],\n",
       "       [ 0.82520863, -0.28187844, -0.47519908, ..., -1.35991138,\n",
       "        -0.30794088,  0.61679395],\n",
       "       ...,\n",
       "       [ 0.82520863,  0.00352373,  0.43135024, ..., -1.35991138,\n",
       "        -0.30794088,  0.61679395],\n",
       "       [-1.57221121, -0.28187844, -0.47519908, ...,  0.73534203,\n",
       "        -0.30794088, -1.62128697],\n",
       "       [ 0.82520863,  0.18104628, -0.47519908, ...,  0.73534203,\n",
       "         3.24737656, -1.62128697]])"
      ]
     },
     "execution_count": 52,
     "metadata": {},
     "output_type": "execute_result"
    }
   ],
   "source": [
    "x"
   ]
  },
  {
   "cell_type": "markdown",
   "id": "f553831d",
   "metadata": {},
   "source": [
    "# Spliting Data in 80-20 Ratio"
   ]
  },
  {
   "cell_type": "code",
   "execution_count": 53,
   "id": "fc3e5fa5",
   "metadata": {},
   "outputs": [],
   "source": [
    "from sklearn.model_selection import train_test_split"
   ]
  },
  {
   "cell_type": "code",
   "execution_count": 54,
   "id": "ddc07004",
   "metadata": {},
   "outputs": [],
   "source": [
    "x_train,x_test,y_train,y_test=train_test_split(x,y,test_size=0.2,random_state=42)"
   ]
  },
  {
   "cell_type": "code",
   "execution_count": 55,
   "id": "45bebf57",
   "metadata": {},
   "outputs": [
    {
     "data": {
      "text/plain": [
       "(711, 8)"
      ]
     },
     "execution_count": 55,
     "metadata": {},
     "output_type": "execute_result"
    }
   ],
   "source": [
    "x_train.shape"
   ]
  },
  {
   "cell_type": "code",
   "execution_count": 56,
   "id": "d687583d",
   "metadata": {},
   "outputs": [
    {
     "data": {
      "text/plain": [
       "(711,)"
      ]
     },
     "execution_count": 56,
     "metadata": {},
     "output_type": "execute_result"
    }
   ],
   "source": [
    "y_train.shape"
   ]
  },
  {
   "cell_type": "code",
   "execution_count": 57,
   "id": "29625334",
   "metadata": {},
   "outputs": [
    {
     "data": {
      "text/plain": [
       "(178, 8)"
      ]
     },
     "execution_count": 57,
     "metadata": {},
     "output_type": "execute_result"
    }
   ],
   "source": [
    "x_test.shape"
   ]
  },
  {
   "cell_type": "code",
   "execution_count": 58,
   "id": "f11682c2",
   "metadata": {},
   "outputs": [
    {
     "data": {
      "text/plain": [
       "(178,)"
      ]
     },
     "execution_count": 58,
     "metadata": {},
     "output_type": "execute_result"
    }
   ],
   "source": [
    "y_test.shape"
   ]
  },
  {
   "cell_type": "markdown",
   "id": "e129722e",
   "metadata": {},
   "source": [
    "# Logistic Regression"
   ]
  },
  {
   "cell_type": "code",
   "execution_count": 59,
   "id": "1e526e2b",
   "metadata": {},
   "outputs": [],
   "source": [
    "from sklearn.linear_model import LogisticRegression"
   ]
  },
  {
   "cell_type": "code",
   "execution_count": 60,
   "id": "97148565",
   "metadata": {},
   "outputs": [],
   "source": [
    "lr=LogisticRegression()"
   ]
  },
  {
   "cell_type": "code",
   "execution_count": 61,
   "id": "b10dde4f",
   "metadata": {},
   "outputs": [
    {
     "data": {
      "text/html": [
       "<style>#sk-container-id-1 {color: black;background-color: white;}#sk-container-id-1 pre{padding: 0;}#sk-container-id-1 div.sk-toggleable {background-color: white;}#sk-container-id-1 label.sk-toggleable__label {cursor: pointer;display: block;width: 100%;margin-bottom: 0;padding: 0.3em;box-sizing: border-box;text-align: center;}#sk-container-id-1 label.sk-toggleable__label-arrow:before {content: \"▸\";float: left;margin-right: 0.25em;color: #696969;}#sk-container-id-1 label.sk-toggleable__label-arrow:hover:before {color: black;}#sk-container-id-1 div.sk-estimator:hover label.sk-toggleable__label-arrow:before {color: black;}#sk-container-id-1 div.sk-toggleable__content {max-height: 0;max-width: 0;overflow: hidden;text-align: left;background-color: #f0f8ff;}#sk-container-id-1 div.sk-toggleable__content pre {margin: 0.2em;color: black;border-radius: 0.25em;background-color: #f0f8ff;}#sk-container-id-1 input.sk-toggleable__control:checked~div.sk-toggleable__content {max-height: 200px;max-width: 100%;overflow: auto;}#sk-container-id-1 input.sk-toggleable__control:checked~label.sk-toggleable__label-arrow:before {content: \"▾\";}#sk-container-id-1 div.sk-estimator input.sk-toggleable__control:checked~label.sk-toggleable__label {background-color: #d4ebff;}#sk-container-id-1 div.sk-label input.sk-toggleable__control:checked~label.sk-toggleable__label {background-color: #d4ebff;}#sk-container-id-1 input.sk-hidden--visually {border: 0;clip: rect(1px 1px 1px 1px);clip: rect(1px, 1px, 1px, 1px);height: 1px;margin: -1px;overflow: hidden;padding: 0;position: absolute;width: 1px;}#sk-container-id-1 div.sk-estimator {font-family: monospace;background-color: #f0f8ff;border: 1px dotted black;border-radius: 0.25em;box-sizing: border-box;margin-bottom: 0.5em;}#sk-container-id-1 div.sk-estimator:hover {background-color: #d4ebff;}#sk-container-id-1 div.sk-parallel-item::after {content: \"\";width: 100%;border-bottom: 1px solid gray;flex-grow: 1;}#sk-container-id-1 div.sk-label:hover label.sk-toggleable__label {background-color: #d4ebff;}#sk-container-id-1 div.sk-serial::before {content: \"\";position: absolute;border-left: 1px solid gray;box-sizing: border-box;top: 0;bottom: 0;left: 50%;z-index: 0;}#sk-container-id-1 div.sk-serial {display: flex;flex-direction: column;align-items: center;background-color: white;padding-right: 0.2em;padding-left: 0.2em;position: relative;}#sk-container-id-1 div.sk-item {position: relative;z-index: 1;}#sk-container-id-1 div.sk-parallel {display: flex;align-items: stretch;justify-content: center;background-color: white;position: relative;}#sk-container-id-1 div.sk-item::before, #sk-container-id-1 div.sk-parallel-item::before {content: \"\";position: absolute;border-left: 1px solid gray;box-sizing: border-box;top: 0;bottom: 0;left: 50%;z-index: -1;}#sk-container-id-1 div.sk-parallel-item {display: flex;flex-direction: column;z-index: 1;position: relative;background-color: white;}#sk-container-id-1 div.sk-parallel-item:first-child::after {align-self: flex-end;width: 50%;}#sk-container-id-1 div.sk-parallel-item:last-child::after {align-self: flex-start;width: 50%;}#sk-container-id-1 div.sk-parallel-item:only-child::after {width: 0;}#sk-container-id-1 div.sk-dashed-wrapped {border: 1px dashed gray;margin: 0 0.4em 0.5em 0.4em;box-sizing: border-box;padding-bottom: 0.4em;background-color: white;}#sk-container-id-1 div.sk-label label {font-family: monospace;font-weight: bold;display: inline-block;line-height: 1.2em;}#sk-container-id-1 div.sk-label-container {text-align: center;}#sk-container-id-1 div.sk-container {/* jupyter's `normalize.less` sets `[hidden] { display: none; }` but bootstrap.min.css set `[hidden] { display: none !important; }` so we also need the `!important` here to be able to override the default hidden behavior on the sphinx rendered scikit-learn.org. See: https://github.com/scikit-learn/scikit-learn/issues/21755 */display: inline-block !important;position: relative;}#sk-container-id-1 div.sk-text-repr-fallback {display: none;}</style><div id=\"sk-container-id-1\" class=\"sk-top-container\"><div class=\"sk-text-repr-fallback\"><pre>LogisticRegression()</pre><b>In a Jupyter environment, please rerun this cell to show the HTML representation or trust the notebook. <br />On GitHub, the HTML representation is unable to render, please try loading this page with nbviewer.org.</b></div><div class=\"sk-container\" hidden><div class=\"sk-item\"><div class=\"sk-estimator sk-toggleable\"><input class=\"sk-toggleable__control sk-hidden--visually\" id=\"sk-estimator-id-1\" type=\"checkbox\" checked><label for=\"sk-estimator-id-1\" class=\"sk-toggleable__label sk-toggleable__label-arrow\">LogisticRegression</label><div class=\"sk-toggleable__content\"><pre>LogisticRegression()</pre></div></div></div></div></div>"
      ],
      "text/plain": [
       "LogisticRegression()"
      ]
     },
     "execution_count": 61,
     "metadata": {},
     "output_type": "execute_result"
    }
   ],
   "source": [
    "lr.fit(x_train,y_train)"
   ]
  },
  {
   "cell_type": "code",
   "execution_count": 62,
   "id": "865cab0f",
   "metadata": {},
   "outputs": [],
   "source": [
    "y_pred=lr.predict(x_test)"
   ]
  },
  {
   "cell_type": "code",
   "execution_count": 63,
   "id": "d303317f",
   "metadata": {},
   "outputs": [
    {
     "data": {
      "text/plain": [
       "array([0, 1, 1, 0, 1, 0, 0, 0, 1, 1, 0, 1, 0, 0, 0, 0, 0, 0, 0, 0, 0, 1,\n",
       "       0, 1, 0, 1, 0, 1, 1, 0, 1, 1, 0, 1, 0, 0, 1, 1, 0, 0, 0, 1, 0, 0,\n",
       "       0, 1, 1, 0, 0, 1, 1, 1, 0, 0, 1, 1, 1, 0, 0, 0, 0, 1, 1, 0, 1, 0,\n",
       "       0, 0, 1, 1, 0, 1, 1, 0, 0, 1, 0, 0, 1, 1, 0, 1, 1, 1, 0, 0, 0, 0,\n",
       "       0, 0, 0, 1, 0, 0, 0, 1, 0, 0, 0, 0, 0, 1, 1, 0, 0, 0, 1, 1, 0, 0,\n",
       "       0, 1, 0, 1, 0, 0, 0, 0, 1, 0, 0, 1, 0, 0, 1, 1, 1, 1, 1, 0, 1, 0,\n",
       "       0, 0, 1, 1, 0, 1, 1, 1, 1, 0, 1, 1, 1, 0, 0, 1, 0, 1, 0, 1, 0, 1,\n",
       "       0, 1, 1, 0, 0, 1, 0, 1, 0, 0, 0, 1, 1, 0, 0, 1, 1, 1, 1, 0, 1, 0,\n",
       "       0, 1], dtype=int64)"
      ]
     },
     "execution_count": 63,
     "metadata": {},
     "output_type": "execute_result"
    }
   ],
   "source": [
    "y_pred"
   ]
  },
  {
   "cell_type": "code",
   "execution_count": 64,
   "id": "4bc382c1",
   "metadata": {},
   "outputs": [],
   "source": [
    "from sklearn.metrics import accuracy_score"
   ]
  },
  {
   "cell_type": "code",
   "execution_count": 65,
   "id": "dbcd9c05",
   "metadata": {},
   "outputs": [
    {
     "data": {
      "text/plain": [
       "0.7752808988764045"
      ]
     },
     "execution_count": 65,
     "metadata": {},
     "output_type": "execute_result"
    }
   ],
   "source": [
    "accuracy_score(y_test,y_pred)"
   ]
  },
  {
   "cell_type": "markdown",
   "id": "d1c62263",
   "metadata": {},
   "source": [
    "# Decision Tree Classification"
   ]
  },
  {
   "cell_type": "code",
   "execution_count": 66,
   "id": "1a0c6ce8",
   "metadata": {},
   "outputs": [],
   "source": [
    "from sklearn.tree import DecisionTreeClassifier"
   ]
  },
  {
   "cell_type": "code",
   "execution_count": 67,
   "id": "73899153",
   "metadata": {},
   "outputs": [],
   "source": [
    "decision_tree=DecisionTreeClassifier(criterion='gini',splitter='best',max_leaf_nodes=500)"
   ]
  },
  {
   "cell_type": "code",
   "execution_count": 68,
   "id": "5cb45227",
   "metadata": {},
   "outputs": [
    {
     "data": {
      "text/html": [
       "<style>#sk-container-id-2 {color: black;background-color: white;}#sk-container-id-2 pre{padding: 0;}#sk-container-id-2 div.sk-toggleable {background-color: white;}#sk-container-id-2 label.sk-toggleable__label {cursor: pointer;display: block;width: 100%;margin-bottom: 0;padding: 0.3em;box-sizing: border-box;text-align: center;}#sk-container-id-2 label.sk-toggleable__label-arrow:before {content: \"▸\";float: left;margin-right: 0.25em;color: #696969;}#sk-container-id-2 label.sk-toggleable__label-arrow:hover:before {color: black;}#sk-container-id-2 div.sk-estimator:hover label.sk-toggleable__label-arrow:before {color: black;}#sk-container-id-2 div.sk-toggleable__content {max-height: 0;max-width: 0;overflow: hidden;text-align: left;background-color: #f0f8ff;}#sk-container-id-2 div.sk-toggleable__content pre {margin: 0.2em;color: black;border-radius: 0.25em;background-color: #f0f8ff;}#sk-container-id-2 input.sk-toggleable__control:checked~div.sk-toggleable__content {max-height: 200px;max-width: 100%;overflow: auto;}#sk-container-id-2 input.sk-toggleable__control:checked~label.sk-toggleable__label-arrow:before {content: \"▾\";}#sk-container-id-2 div.sk-estimator input.sk-toggleable__control:checked~label.sk-toggleable__label {background-color: #d4ebff;}#sk-container-id-2 div.sk-label input.sk-toggleable__control:checked~label.sk-toggleable__label {background-color: #d4ebff;}#sk-container-id-2 input.sk-hidden--visually {border: 0;clip: rect(1px 1px 1px 1px);clip: rect(1px, 1px, 1px, 1px);height: 1px;margin: -1px;overflow: hidden;padding: 0;position: absolute;width: 1px;}#sk-container-id-2 div.sk-estimator {font-family: monospace;background-color: #f0f8ff;border: 1px dotted black;border-radius: 0.25em;box-sizing: border-box;margin-bottom: 0.5em;}#sk-container-id-2 div.sk-estimator:hover {background-color: #d4ebff;}#sk-container-id-2 div.sk-parallel-item::after {content: \"\";width: 100%;border-bottom: 1px solid gray;flex-grow: 1;}#sk-container-id-2 div.sk-label:hover label.sk-toggleable__label {background-color: #d4ebff;}#sk-container-id-2 div.sk-serial::before {content: \"\";position: absolute;border-left: 1px solid gray;box-sizing: border-box;top: 0;bottom: 0;left: 50%;z-index: 0;}#sk-container-id-2 div.sk-serial {display: flex;flex-direction: column;align-items: center;background-color: white;padding-right: 0.2em;padding-left: 0.2em;position: relative;}#sk-container-id-2 div.sk-item {position: relative;z-index: 1;}#sk-container-id-2 div.sk-parallel {display: flex;align-items: stretch;justify-content: center;background-color: white;position: relative;}#sk-container-id-2 div.sk-item::before, #sk-container-id-2 div.sk-parallel-item::before {content: \"\";position: absolute;border-left: 1px solid gray;box-sizing: border-box;top: 0;bottom: 0;left: 50%;z-index: -1;}#sk-container-id-2 div.sk-parallel-item {display: flex;flex-direction: column;z-index: 1;position: relative;background-color: white;}#sk-container-id-2 div.sk-parallel-item:first-child::after {align-self: flex-end;width: 50%;}#sk-container-id-2 div.sk-parallel-item:last-child::after {align-self: flex-start;width: 50%;}#sk-container-id-2 div.sk-parallel-item:only-child::after {width: 0;}#sk-container-id-2 div.sk-dashed-wrapped {border: 1px dashed gray;margin: 0 0.4em 0.5em 0.4em;box-sizing: border-box;padding-bottom: 0.4em;background-color: white;}#sk-container-id-2 div.sk-label label {font-family: monospace;font-weight: bold;display: inline-block;line-height: 1.2em;}#sk-container-id-2 div.sk-label-container {text-align: center;}#sk-container-id-2 div.sk-container {/* jupyter's `normalize.less` sets `[hidden] { display: none; }` but bootstrap.min.css set `[hidden] { display: none !important; }` so we also need the `!important` here to be able to override the default hidden behavior on the sphinx rendered scikit-learn.org. See: https://github.com/scikit-learn/scikit-learn/issues/21755 */display: inline-block !important;position: relative;}#sk-container-id-2 div.sk-text-repr-fallback {display: none;}</style><div id=\"sk-container-id-2\" class=\"sk-top-container\"><div class=\"sk-text-repr-fallback\"><pre>DecisionTreeClassifier(max_leaf_nodes=500)</pre><b>In a Jupyter environment, please rerun this cell to show the HTML representation or trust the notebook. <br />On GitHub, the HTML representation is unable to render, please try loading this page with nbviewer.org.</b></div><div class=\"sk-container\" hidden><div class=\"sk-item\"><div class=\"sk-estimator sk-toggleable\"><input class=\"sk-toggleable__control sk-hidden--visually\" id=\"sk-estimator-id-2\" type=\"checkbox\" checked><label for=\"sk-estimator-id-2\" class=\"sk-toggleable__label sk-toggleable__label-arrow\">DecisionTreeClassifier</label><div class=\"sk-toggleable__content\"><pre>DecisionTreeClassifier(max_leaf_nodes=500)</pre></div></div></div></div></div>"
      ],
      "text/plain": [
       "DecisionTreeClassifier(max_leaf_nodes=500)"
      ]
     },
     "execution_count": 68,
     "metadata": {},
     "output_type": "execute_result"
    }
   ],
   "source": [
    "decision_tree.fit(x_train,y_train)"
   ]
  },
  {
   "cell_type": "code",
   "execution_count": 69,
   "id": "6a4be853",
   "metadata": {},
   "outputs": [],
   "source": [
    "y_pred_decission_tree=decision_tree.predict(x_test)"
   ]
  },
  {
   "cell_type": "code",
   "execution_count": 70,
   "id": "633295e9",
   "metadata": {},
   "outputs": [
    {
     "data": {
      "text/plain": [
       "array([0, 1, 1, 0, 1, 0, 0, 0, 1, 1, 0, 0, 0, 1, 1, 0, 1, 0, 0, 0, 0, 1,\n",
       "       0, 1, 0, 0, 1, 1, 0, 0, 1, 1, 0, 0, 0, 1, 1, 1, 0, 0, 0, 0, 0, 0,\n",
       "       0, 0, 1, 0, 0, 1, 1, 0, 1, 0, 1, 1, 0, 1, 0, 0, 0, 1, 1, 0, 1, 0,\n",
       "       0, 1, 1, 1, 0, 1, 1, 0, 0, 1, 0, 0, 1, 1, 0, 1, 1, 1, 0, 0, 0, 0,\n",
       "       0, 0, 0, 0, 0, 0, 1, 1, 0, 0, 1, 0, 0, 1, 0, 0, 0, 0, 1, 1, 0, 0,\n",
       "       0, 0, 0, 1, 0, 0, 0, 0, 0, 0, 1, 1, 0, 0, 1, 1, 1, 1, 1, 0, 1, 0,\n",
       "       0, 0, 1, 1, 1, 1, 1, 1, 1, 0, 1, 1, 1, 1, 0, 1, 1, 1, 0, 1, 0, 1,\n",
       "       0, 1, 0, 0, 0, 1, 0, 1, 0, 0, 0, 1, 1, 0, 0, 1, 1, 1, 1, 0, 1, 0,\n",
       "       1, 1], dtype=int64)"
      ]
     },
     "execution_count": 70,
     "metadata": {},
     "output_type": "execute_result"
    }
   ],
   "source": [
    "y_pred_decission_tree"
   ]
  },
  {
   "cell_type": "code",
   "execution_count": 71,
   "id": "95624842",
   "metadata": {},
   "outputs": [
    {
     "data": {
      "text/plain": [
       "0.7528089887640449"
      ]
     },
     "execution_count": 71,
     "metadata": {},
     "output_type": "execute_result"
    }
   ],
   "source": [
    "accuracy_score(y_test,y_pred_decission_tree)"
   ]
  },
  {
   "cell_type": "markdown",
   "id": "18a85733",
   "metadata": {},
   "source": [
    "# Random Forest Classifier"
   ]
  },
  {
   "cell_type": "code",
   "execution_count": 72,
   "id": "bd3f5e97",
   "metadata": {},
   "outputs": [],
   "source": [
    "from sklearn.ensemble import RandomForestClassifier"
   ]
  },
  {
   "cell_type": "code",
   "execution_count": 73,
   "id": "13b8bfbc",
   "metadata": {},
   "outputs": [],
   "source": [
    "rfc=RandomForestClassifier(n_estimators=100,criterion='gini')"
   ]
  },
  {
   "cell_type": "code",
   "execution_count": 74,
   "id": "4f975078",
   "metadata": {},
   "outputs": [
    {
     "data": {
      "text/html": [
       "<style>#sk-container-id-3 {color: black;background-color: white;}#sk-container-id-3 pre{padding: 0;}#sk-container-id-3 div.sk-toggleable {background-color: white;}#sk-container-id-3 label.sk-toggleable__label {cursor: pointer;display: block;width: 100%;margin-bottom: 0;padding: 0.3em;box-sizing: border-box;text-align: center;}#sk-container-id-3 label.sk-toggleable__label-arrow:before {content: \"▸\";float: left;margin-right: 0.25em;color: #696969;}#sk-container-id-3 label.sk-toggleable__label-arrow:hover:before {color: black;}#sk-container-id-3 div.sk-estimator:hover label.sk-toggleable__label-arrow:before {color: black;}#sk-container-id-3 div.sk-toggleable__content {max-height: 0;max-width: 0;overflow: hidden;text-align: left;background-color: #f0f8ff;}#sk-container-id-3 div.sk-toggleable__content pre {margin: 0.2em;color: black;border-radius: 0.25em;background-color: #f0f8ff;}#sk-container-id-3 input.sk-toggleable__control:checked~div.sk-toggleable__content {max-height: 200px;max-width: 100%;overflow: auto;}#sk-container-id-3 input.sk-toggleable__control:checked~label.sk-toggleable__label-arrow:before {content: \"▾\";}#sk-container-id-3 div.sk-estimator input.sk-toggleable__control:checked~label.sk-toggleable__label {background-color: #d4ebff;}#sk-container-id-3 div.sk-label input.sk-toggleable__control:checked~label.sk-toggleable__label {background-color: #d4ebff;}#sk-container-id-3 input.sk-hidden--visually {border: 0;clip: rect(1px 1px 1px 1px);clip: rect(1px, 1px, 1px, 1px);height: 1px;margin: -1px;overflow: hidden;padding: 0;position: absolute;width: 1px;}#sk-container-id-3 div.sk-estimator {font-family: monospace;background-color: #f0f8ff;border: 1px dotted black;border-radius: 0.25em;box-sizing: border-box;margin-bottom: 0.5em;}#sk-container-id-3 div.sk-estimator:hover {background-color: #d4ebff;}#sk-container-id-3 div.sk-parallel-item::after {content: \"\";width: 100%;border-bottom: 1px solid gray;flex-grow: 1;}#sk-container-id-3 div.sk-label:hover label.sk-toggleable__label {background-color: #d4ebff;}#sk-container-id-3 div.sk-serial::before {content: \"\";position: absolute;border-left: 1px solid gray;box-sizing: border-box;top: 0;bottom: 0;left: 50%;z-index: 0;}#sk-container-id-3 div.sk-serial {display: flex;flex-direction: column;align-items: center;background-color: white;padding-right: 0.2em;padding-left: 0.2em;position: relative;}#sk-container-id-3 div.sk-item {position: relative;z-index: 1;}#sk-container-id-3 div.sk-parallel {display: flex;align-items: stretch;justify-content: center;background-color: white;position: relative;}#sk-container-id-3 div.sk-item::before, #sk-container-id-3 div.sk-parallel-item::before {content: \"\";position: absolute;border-left: 1px solid gray;box-sizing: border-box;top: 0;bottom: 0;left: 50%;z-index: -1;}#sk-container-id-3 div.sk-parallel-item {display: flex;flex-direction: column;z-index: 1;position: relative;background-color: white;}#sk-container-id-3 div.sk-parallel-item:first-child::after {align-self: flex-end;width: 50%;}#sk-container-id-3 div.sk-parallel-item:last-child::after {align-self: flex-start;width: 50%;}#sk-container-id-3 div.sk-parallel-item:only-child::after {width: 0;}#sk-container-id-3 div.sk-dashed-wrapped {border: 1px dashed gray;margin: 0 0.4em 0.5em 0.4em;box-sizing: border-box;padding-bottom: 0.4em;background-color: white;}#sk-container-id-3 div.sk-label label {font-family: monospace;font-weight: bold;display: inline-block;line-height: 1.2em;}#sk-container-id-3 div.sk-label-container {text-align: center;}#sk-container-id-3 div.sk-container {/* jupyter's `normalize.less` sets `[hidden] { display: none; }` but bootstrap.min.css set `[hidden] { display: none !important; }` so we also need the `!important` here to be able to override the default hidden behavior on the sphinx rendered scikit-learn.org. See: https://github.com/scikit-learn/scikit-learn/issues/21755 */display: inline-block !important;position: relative;}#sk-container-id-3 div.sk-text-repr-fallback {display: none;}</style><div id=\"sk-container-id-3\" class=\"sk-top-container\"><div class=\"sk-text-repr-fallback\"><pre>RandomForestClassifier()</pre><b>In a Jupyter environment, please rerun this cell to show the HTML representation or trust the notebook. <br />On GitHub, the HTML representation is unable to render, please try loading this page with nbviewer.org.</b></div><div class=\"sk-container\" hidden><div class=\"sk-item\"><div class=\"sk-estimator sk-toggleable\"><input class=\"sk-toggleable__control sk-hidden--visually\" id=\"sk-estimator-id-3\" type=\"checkbox\" checked><label for=\"sk-estimator-id-3\" class=\"sk-toggleable__label sk-toggleable__label-arrow\">RandomForestClassifier</label><div class=\"sk-toggleable__content\"><pre>RandomForestClassifier()</pre></div></div></div></div></div>"
      ],
      "text/plain": [
       "RandomForestClassifier()"
      ]
     },
     "execution_count": 74,
     "metadata": {},
     "output_type": "execute_result"
    }
   ],
   "source": [
    "rfc.fit(x_train,y_train)"
   ]
  },
  {
   "cell_type": "code",
   "execution_count": 75,
   "id": "1d4ccfd6",
   "metadata": {},
   "outputs": [],
   "source": [
    "y_pred_rfc=rfc.predict(x_test)"
   ]
  },
  {
   "cell_type": "code",
   "execution_count": 76,
   "id": "e47276c4",
   "metadata": {},
   "outputs": [
    {
     "data": {
      "text/plain": [
       "array([0, 1, 1, 0, 1, 0, 0, 0, 1, 1, 0, 0, 0, 0, 1, 0, 1, 0, 0, 0, 0, 1,\n",
       "       0, 0, 0, 1, 0, 1, 0, 0, 1, 1, 0, 0, 0, 1, 1, 0, 0, 0, 0, 0, 0, 0,\n",
       "       1, 0, 1, 0, 0, 1, 1, 1, 0, 0, 1, 1, 0, 1, 0, 0, 0, 1, 1, 0, 1, 0,\n",
       "       0, 1, 1, 1, 0, 1, 1, 0, 0, 1, 1, 0, 1, 1, 0, 1, 1, 1, 0, 0, 0, 0,\n",
       "       0, 0, 0, 0, 0, 0, 1, 1, 0, 0, 1, 0, 0, 1, 0, 1, 0, 0, 1, 1, 0, 0,\n",
       "       0, 0, 0, 1, 0, 0, 0, 0, 0, 0, 1, 1, 0, 0, 1, 1, 0, 1, 1, 0, 1, 0,\n",
       "       0, 0, 1, 1, 0, 1, 0, 1, 1, 0, 1, 0, 1, 0, 0, 1, 1, 1, 0, 1, 0, 1,\n",
       "       0, 1, 0, 0, 0, 1, 0, 1, 0, 0, 0, 1, 1, 0, 0, 1, 1, 1, 1, 0, 1, 0,\n",
       "       0, 1], dtype=int64)"
      ]
     },
     "execution_count": 76,
     "metadata": {},
     "output_type": "execute_result"
    }
   ],
   "source": [
    "y_pred_rfc"
   ]
  },
  {
   "cell_type": "code",
   "execution_count": 77,
   "id": "7863423b",
   "metadata": {},
   "outputs": [
    {
     "data": {
      "text/plain": [
       "0.7752808988764045"
      ]
     },
     "execution_count": 77,
     "metadata": {},
     "output_type": "execute_result"
    }
   ],
   "source": [
    "accuracy_score(y_test,y_pred_rfc)"
   ]
  },
  {
   "cell_type": "markdown",
   "id": "7339f448",
   "metadata": {},
   "source": [
    "# SVM"
   ]
  },
  {
   "cell_type": "code",
   "execution_count": 78,
   "id": "924dea38",
   "metadata": {},
   "outputs": [],
   "source": [
    "from sklearn.svm import SVC"
   ]
  },
  {
   "cell_type": "code",
   "execution_count": 79,
   "id": "370d6243",
   "metadata": {},
   "outputs": [],
   "source": [
    "svm=SVC()"
   ]
  },
  {
   "cell_type": "code",
   "execution_count": 80,
   "id": "a1eeeb48",
   "metadata": {},
   "outputs": [
    {
     "data": {
      "text/html": [
       "<style>#sk-container-id-4 {color: black;background-color: white;}#sk-container-id-4 pre{padding: 0;}#sk-container-id-4 div.sk-toggleable {background-color: white;}#sk-container-id-4 label.sk-toggleable__label {cursor: pointer;display: block;width: 100%;margin-bottom: 0;padding: 0.3em;box-sizing: border-box;text-align: center;}#sk-container-id-4 label.sk-toggleable__label-arrow:before {content: \"▸\";float: left;margin-right: 0.25em;color: #696969;}#sk-container-id-4 label.sk-toggleable__label-arrow:hover:before {color: black;}#sk-container-id-4 div.sk-estimator:hover label.sk-toggleable__label-arrow:before {color: black;}#sk-container-id-4 div.sk-toggleable__content {max-height: 0;max-width: 0;overflow: hidden;text-align: left;background-color: #f0f8ff;}#sk-container-id-4 div.sk-toggleable__content pre {margin: 0.2em;color: black;border-radius: 0.25em;background-color: #f0f8ff;}#sk-container-id-4 input.sk-toggleable__control:checked~div.sk-toggleable__content {max-height: 200px;max-width: 100%;overflow: auto;}#sk-container-id-4 input.sk-toggleable__control:checked~label.sk-toggleable__label-arrow:before {content: \"▾\";}#sk-container-id-4 div.sk-estimator input.sk-toggleable__control:checked~label.sk-toggleable__label {background-color: #d4ebff;}#sk-container-id-4 div.sk-label input.sk-toggleable__control:checked~label.sk-toggleable__label {background-color: #d4ebff;}#sk-container-id-4 input.sk-hidden--visually {border: 0;clip: rect(1px 1px 1px 1px);clip: rect(1px, 1px, 1px, 1px);height: 1px;margin: -1px;overflow: hidden;padding: 0;position: absolute;width: 1px;}#sk-container-id-4 div.sk-estimator {font-family: monospace;background-color: #f0f8ff;border: 1px dotted black;border-radius: 0.25em;box-sizing: border-box;margin-bottom: 0.5em;}#sk-container-id-4 div.sk-estimator:hover {background-color: #d4ebff;}#sk-container-id-4 div.sk-parallel-item::after {content: \"\";width: 100%;border-bottom: 1px solid gray;flex-grow: 1;}#sk-container-id-4 div.sk-label:hover label.sk-toggleable__label {background-color: #d4ebff;}#sk-container-id-4 div.sk-serial::before {content: \"\";position: absolute;border-left: 1px solid gray;box-sizing: border-box;top: 0;bottom: 0;left: 50%;z-index: 0;}#sk-container-id-4 div.sk-serial {display: flex;flex-direction: column;align-items: center;background-color: white;padding-right: 0.2em;padding-left: 0.2em;position: relative;}#sk-container-id-4 div.sk-item {position: relative;z-index: 1;}#sk-container-id-4 div.sk-parallel {display: flex;align-items: stretch;justify-content: center;background-color: white;position: relative;}#sk-container-id-4 div.sk-item::before, #sk-container-id-4 div.sk-parallel-item::before {content: \"\";position: absolute;border-left: 1px solid gray;box-sizing: border-box;top: 0;bottom: 0;left: 50%;z-index: -1;}#sk-container-id-4 div.sk-parallel-item {display: flex;flex-direction: column;z-index: 1;position: relative;background-color: white;}#sk-container-id-4 div.sk-parallel-item:first-child::after {align-self: flex-end;width: 50%;}#sk-container-id-4 div.sk-parallel-item:last-child::after {align-self: flex-start;width: 50%;}#sk-container-id-4 div.sk-parallel-item:only-child::after {width: 0;}#sk-container-id-4 div.sk-dashed-wrapped {border: 1px dashed gray;margin: 0 0.4em 0.5em 0.4em;box-sizing: border-box;padding-bottom: 0.4em;background-color: white;}#sk-container-id-4 div.sk-label label {font-family: monospace;font-weight: bold;display: inline-block;line-height: 1.2em;}#sk-container-id-4 div.sk-label-container {text-align: center;}#sk-container-id-4 div.sk-container {/* jupyter's `normalize.less` sets `[hidden] { display: none; }` but bootstrap.min.css set `[hidden] { display: none !important; }` so we also need the `!important` here to be able to override the default hidden behavior on the sphinx rendered scikit-learn.org. See: https://github.com/scikit-learn/scikit-learn/issues/21755 */display: inline-block !important;position: relative;}#sk-container-id-4 div.sk-text-repr-fallback {display: none;}</style><div id=\"sk-container-id-4\" class=\"sk-top-container\"><div class=\"sk-text-repr-fallback\"><pre>SVC()</pre><b>In a Jupyter environment, please rerun this cell to show the HTML representation or trust the notebook. <br />On GitHub, the HTML representation is unable to render, please try loading this page with nbviewer.org.</b></div><div class=\"sk-container\" hidden><div class=\"sk-item\"><div class=\"sk-estimator sk-toggleable\"><input class=\"sk-toggleable__control sk-hidden--visually\" id=\"sk-estimator-id-4\" type=\"checkbox\" checked><label for=\"sk-estimator-id-4\" class=\"sk-toggleable__label sk-toggleable__label-arrow\">SVC</label><div class=\"sk-toggleable__content\"><pre>SVC()</pre></div></div></div></div></div>"
      ],
      "text/plain": [
       "SVC()"
      ]
     },
     "execution_count": 80,
     "metadata": {},
     "output_type": "execute_result"
    }
   ],
   "source": [
    "svm.fit(x_train,y_train)"
   ]
  },
  {
   "cell_type": "code",
   "execution_count": 81,
   "id": "b034b10d",
   "metadata": {},
   "outputs": [],
   "source": [
    "y_pred_svm=svm.predict(x_test)"
   ]
  },
  {
   "cell_type": "code",
   "execution_count": 82,
   "id": "91d050af",
   "metadata": {},
   "outputs": [
    {
     "data": {
      "text/plain": [
       "array([0, 1, 1, 0, 1, 0, 0, 0, 1, 1, 0, 0, 0, 0, 0, 0, 0, 0, 0, 0, 0, 1,\n",
       "       0, 0, 0, 0, 0, 1, 0, 0, 0, 1, 0, 0, 0, 0, 1, 1, 0, 0, 0, 0, 0, 0,\n",
       "       0, 0, 1, 0, 0, 1, 1, 1, 0, 0, 1, 1, 1, 0, 0, 0, 0, 1, 1, 0, 1, 0,\n",
       "       0, 0, 1, 1, 0, 1, 1, 0, 0, 1, 0, 0, 1, 0, 0, 1, 1, 1, 0, 0, 0, 0,\n",
       "       0, 0, 0, 1, 0, 0, 0, 1, 0, 0, 1, 0, 0, 1, 0, 0, 0, 0, 1, 1, 0, 0,\n",
       "       0, 0, 0, 1, 0, 0, 0, 0, 1, 0, 1, 1, 0, 0, 1, 1, 0, 1, 1, 0, 1, 0,\n",
       "       0, 0, 1, 1, 0, 1, 0, 1, 1, 0, 1, 0, 1, 0, 0, 1, 0, 1, 0, 1, 0, 1,\n",
       "       0, 1, 0, 0, 0, 1, 0, 1, 0, 0, 0, 1, 1, 0, 0, 1, 1, 1, 1, 0, 1, 0,\n",
       "       0, 1], dtype=int64)"
      ]
     },
     "execution_count": 82,
     "metadata": {},
     "output_type": "execute_result"
    }
   ],
   "source": [
    "y_pred_svm"
   ]
  },
  {
   "cell_type": "code",
   "execution_count": 83,
   "id": "386c9927",
   "metadata": {},
   "outputs": [
    {
     "data": {
      "text/plain": [
       "0.8258426966292135"
      ]
     },
     "execution_count": 83,
     "metadata": {},
     "output_type": "execute_result"
    }
   ],
   "source": [
    "accuracy_score(y_test,y_pred_svm)"
   ]
  },
  {
   "cell_type": "markdown",
   "id": "f09dcca1",
   "metadata": {},
   "source": [
    "# ADABOOST"
   ]
  },
  {
   "cell_type": "code",
   "execution_count": 84,
   "id": "e054f17f",
   "metadata": {},
   "outputs": [],
   "source": [
    "from sklearn.ensemble import AdaBoostClassifier"
   ]
  },
  {
   "cell_type": "code",
   "execution_count": 85,
   "id": "4e124ae1",
   "metadata": {},
   "outputs": [],
   "source": [
    "ada=AdaBoostClassifier()"
   ]
  },
  {
   "cell_type": "code",
   "execution_count": 86,
   "id": "e287d2d2",
   "metadata": {},
   "outputs": [
    {
     "data": {
      "text/html": [
       "<style>#sk-container-id-5 {color: black;background-color: white;}#sk-container-id-5 pre{padding: 0;}#sk-container-id-5 div.sk-toggleable {background-color: white;}#sk-container-id-5 label.sk-toggleable__label {cursor: pointer;display: block;width: 100%;margin-bottom: 0;padding: 0.3em;box-sizing: border-box;text-align: center;}#sk-container-id-5 label.sk-toggleable__label-arrow:before {content: \"▸\";float: left;margin-right: 0.25em;color: #696969;}#sk-container-id-5 label.sk-toggleable__label-arrow:hover:before {color: black;}#sk-container-id-5 div.sk-estimator:hover label.sk-toggleable__label-arrow:before {color: black;}#sk-container-id-5 div.sk-toggleable__content {max-height: 0;max-width: 0;overflow: hidden;text-align: left;background-color: #f0f8ff;}#sk-container-id-5 div.sk-toggleable__content pre {margin: 0.2em;color: black;border-radius: 0.25em;background-color: #f0f8ff;}#sk-container-id-5 input.sk-toggleable__control:checked~div.sk-toggleable__content {max-height: 200px;max-width: 100%;overflow: auto;}#sk-container-id-5 input.sk-toggleable__control:checked~label.sk-toggleable__label-arrow:before {content: \"▾\";}#sk-container-id-5 div.sk-estimator input.sk-toggleable__control:checked~label.sk-toggleable__label {background-color: #d4ebff;}#sk-container-id-5 div.sk-label input.sk-toggleable__control:checked~label.sk-toggleable__label {background-color: #d4ebff;}#sk-container-id-5 input.sk-hidden--visually {border: 0;clip: rect(1px 1px 1px 1px);clip: rect(1px, 1px, 1px, 1px);height: 1px;margin: -1px;overflow: hidden;padding: 0;position: absolute;width: 1px;}#sk-container-id-5 div.sk-estimator {font-family: monospace;background-color: #f0f8ff;border: 1px dotted black;border-radius: 0.25em;box-sizing: border-box;margin-bottom: 0.5em;}#sk-container-id-5 div.sk-estimator:hover {background-color: #d4ebff;}#sk-container-id-5 div.sk-parallel-item::after {content: \"\";width: 100%;border-bottom: 1px solid gray;flex-grow: 1;}#sk-container-id-5 div.sk-label:hover label.sk-toggleable__label {background-color: #d4ebff;}#sk-container-id-5 div.sk-serial::before {content: \"\";position: absolute;border-left: 1px solid gray;box-sizing: border-box;top: 0;bottom: 0;left: 50%;z-index: 0;}#sk-container-id-5 div.sk-serial {display: flex;flex-direction: column;align-items: center;background-color: white;padding-right: 0.2em;padding-left: 0.2em;position: relative;}#sk-container-id-5 div.sk-item {position: relative;z-index: 1;}#sk-container-id-5 div.sk-parallel {display: flex;align-items: stretch;justify-content: center;background-color: white;position: relative;}#sk-container-id-5 div.sk-item::before, #sk-container-id-5 div.sk-parallel-item::before {content: \"\";position: absolute;border-left: 1px solid gray;box-sizing: border-box;top: 0;bottom: 0;left: 50%;z-index: -1;}#sk-container-id-5 div.sk-parallel-item {display: flex;flex-direction: column;z-index: 1;position: relative;background-color: white;}#sk-container-id-5 div.sk-parallel-item:first-child::after {align-self: flex-end;width: 50%;}#sk-container-id-5 div.sk-parallel-item:last-child::after {align-self: flex-start;width: 50%;}#sk-container-id-5 div.sk-parallel-item:only-child::after {width: 0;}#sk-container-id-5 div.sk-dashed-wrapped {border: 1px dashed gray;margin: 0 0.4em 0.5em 0.4em;box-sizing: border-box;padding-bottom: 0.4em;background-color: white;}#sk-container-id-5 div.sk-label label {font-family: monospace;font-weight: bold;display: inline-block;line-height: 1.2em;}#sk-container-id-5 div.sk-label-container {text-align: center;}#sk-container-id-5 div.sk-container {/* jupyter's `normalize.less` sets `[hidden] { display: none; }` but bootstrap.min.css set `[hidden] { display: none !important; }` so we also need the `!important` here to be able to override the default hidden behavior on the sphinx rendered scikit-learn.org. See: https://github.com/scikit-learn/scikit-learn/issues/21755 */display: inline-block !important;position: relative;}#sk-container-id-5 div.sk-text-repr-fallback {display: none;}</style><div id=\"sk-container-id-5\" class=\"sk-top-container\"><div class=\"sk-text-repr-fallback\"><pre>AdaBoostClassifier()</pre><b>In a Jupyter environment, please rerun this cell to show the HTML representation or trust the notebook. <br />On GitHub, the HTML representation is unable to render, please try loading this page with nbviewer.org.</b></div><div class=\"sk-container\" hidden><div class=\"sk-item\"><div class=\"sk-estimator sk-toggleable\"><input class=\"sk-toggleable__control sk-hidden--visually\" id=\"sk-estimator-id-5\" type=\"checkbox\" checked><label for=\"sk-estimator-id-5\" class=\"sk-toggleable__label sk-toggleable__label-arrow\">AdaBoostClassifier</label><div class=\"sk-toggleable__content\"><pre>AdaBoostClassifier()</pre></div></div></div></div></div>"
      ],
      "text/plain": [
       "AdaBoostClassifier()"
      ]
     },
     "execution_count": 86,
     "metadata": {},
     "output_type": "execute_result"
    }
   ],
   "source": [
    "ada.fit(x_train,y_train)"
   ]
  },
  {
   "cell_type": "code",
   "execution_count": 87,
   "id": "7fa7c56b",
   "metadata": {},
   "outputs": [],
   "source": [
    "y_pred_ada=ada.predict(x_test)"
   ]
  },
  {
   "cell_type": "code",
   "execution_count": 88,
   "id": "8316c26b",
   "metadata": {},
   "outputs": [
    {
     "data": {
      "text/plain": [
       "array([0, 1, 1, 0, 1, 0, 0, 0, 1, 1, 1, 1, 0, 0, 0, 0, 1, 0, 0, 0, 0, 1,\n",
       "       0, 0, 0, 0, 0, 1, 0, 0, 0, 1, 0, 1, 0, 1, 1, 1, 0, 0, 0, 1, 0, 0,\n",
       "       0, 0, 1, 0, 0, 1, 1, 1, 0, 0, 1, 1, 1, 0, 0, 0, 0, 1, 1, 0, 1, 0,\n",
       "       0, 0, 1, 1, 0, 1, 1, 0, 1, 1, 0, 0, 1, 0, 1, 1, 1, 1, 0, 0, 0, 0,\n",
       "       0, 0, 0, 0, 0, 0, 0, 1, 0, 0, 1, 0, 0, 1, 0, 0, 0, 0, 1, 1, 0, 0,\n",
       "       0, 1, 0, 1, 0, 0, 0, 0, 1, 0, 1, 1, 0, 0, 1, 1, 0, 1, 1, 0, 1, 0,\n",
       "       0, 0, 1, 1, 0, 1, 1, 1, 1, 0, 1, 0, 1, 1, 0, 1, 0, 1, 0, 1, 0, 1,\n",
       "       0, 1, 0, 0, 0, 1, 0, 1, 0, 0, 0, 1, 1, 0, 0, 1, 1, 1, 1, 0, 1, 0,\n",
       "       0, 1], dtype=int64)"
      ]
     },
     "execution_count": 88,
     "metadata": {},
     "output_type": "execute_result"
    }
   ],
   "source": [
    "y_pred_ada"
   ]
  },
  {
   "cell_type": "code",
   "execution_count": 89,
   "id": "9a8a2f83",
   "metadata": {},
   "outputs": [
    {
     "data": {
      "text/plain": [
       "0.8146067415730337"
      ]
     },
     "execution_count": 89,
     "metadata": {},
     "output_type": "execute_result"
    }
   ],
   "source": [
    "accuracy_score(y_test,y_pred_ada)"
   ]
  },
  {
   "cell_type": "markdown",
   "id": "c7fb724c",
   "metadata": {},
   "source": [
    "# CATBOOST"
   ]
  },
  {
   "cell_type": "code",
   "execution_count": 90,
   "id": "9bd8cf53",
   "metadata": {},
   "outputs": [],
   "source": [
    "from catboost import CatBoostClassifier"
   ]
  },
  {
   "cell_type": "code",
   "execution_count": 91,
   "id": "bf0c0b74",
   "metadata": {},
   "outputs": [],
   "source": [
    "cat=CatBoostClassifier()"
   ]
  },
  {
   "cell_type": "code",
   "execution_count": 92,
   "id": "7117aad8",
   "metadata": {},
   "outputs": [
    {
     "name": "stdout",
     "output_type": "stream",
     "text": [
      "Learning rate set to 0.008906\n",
      "0:\tlearn: 0.6873867\ttotal: 154ms\tremaining: 2m 33s\n",
      "1:\tlearn: 0.6819162\ttotal: 156ms\tremaining: 1m 17s\n",
      "2:\tlearn: 0.6760824\ttotal: 157ms\tremaining: 52.3s\n",
      "3:\tlearn: 0.6704332\ttotal: 159ms\tremaining: 39.5s\n",
      "4:\tlearn: 0.6651178\ttotal: 160ms\tremaining: 31.8s\n",
      "5:\tlearn: 0.6621812\ttotal: 161ms\tremaining: 26.6s\n",
      "6:\tlearn: 0.6569419\ttotal: 162ms\tremaining: 23s\n",
      "7:\tlearn: 0.6513656\ttotal: 164ms\tremaining: 20.3s\n",
      "8:\tlearn: 0.6459324\ttotal: 165ms\tremaining: 18.1s\n",
      "9:\tlearn: 0.6407572\ttotal: 166ms\tremaining: 16.5s\n",
      "10:\tlearn: 0.6351192\ttotal: 168ms\tremaining: 15.1s\n",
      "11:\tlearn: 0.6302945\ttotal: 169ms\tremaining: 13.9s\n",
      "12:\tlearn: 0.6254390\ttotal: 171ms\tremaining: 13s\n",
      "13:\tlearn: 0.6199517\ttotal: 172ms\tremaining: 12.1s\n",
      "14:\tlearn: 0.6157700\ttotal: 173ms\tremaining: 11.4s\n",
      "15:\tlearn: 0.6116343\ttotal: 175ms\tremaining: 10.8s\n",
      "16:\tlearn: 0.6072271\ttotal: 176ms\tremaining: 10.2s\n",
      "17:\tlearn: 0.6030274\ttotal: 178ms\tremaining: 9.69s\n",
      "18:\tlearn: 0.5986391\ttotal: 179ms\tremaining: 9.24s\n",
      "19:\tlearn: 0.5942948\ttotal: 181ms\tremaining: 8.85s\n",
      "20:\tlearn: 0.5903525\ttotal: 183ms\tremaining: 8.51s\n",
      "21:\tlearn: 0.5867525\ttotal: 184ms\tremaining: 8.19s\n",
      "22:\tlearn: 0.5836280\ttotal: 185ms\tremaining: 7.88s\n",
      "23:\tlearn: 0.5801585\ttotal: 187ms\tremaining: 7.61s\n",
      "24:\tlearn: 0.5756796\ttotal: 189ms\tremaining: 7.37s\n",
      "25:\tlearn: 0.5723926\ttotal: 191ms\tremaining: 7.16s\n",
      "26:\tlearn: 0.5690862\ttotal: 193ms\tremaining: 6.95s\n",
      "27:\tlearn: 0.5653715\ttotal: 194ms\tremaining: 6.75s\n",
      "28:\tlearn: 0.5618217\ttotal: 196ms\tremaining: 6.56s\n",
      "29:\tlearn: 0.5589292\ttotal: 197ms\tremaining: 6.38s\n",
      "30:\tlearn: 0.5559727\ttotal: 199ms\tremaining: 6.21s\n",
      "31:\tlearn: 0.5524342\ttotal: 200ms\tremaining: 6.06s\n",
      "32:\tlearn: 0.5487954\ttotal: 202ms\tremaining: 5.91s\n",
      "33:\tlearn: 0.5451735\ttotal: 203ms\tremaining: 5.77s\n",
      "34:\tlearn: 0.5416310\ttotal: 205ms\tremaining: 5.64s\n",
      "35:\tlearn: 0.5384876\ttotal: 206ms\tremaining: 5.52s\n",
      "36:\tlearn: 0.5352814\ttotal: 208ms\tremaining: 5.4s\n",
      "37:\tlearn: 0.5328551\ttotal: 209ms\tremaining: 5.29s\n",
      "38:\tlearn: 0.5297674\ttotal: 211ms\tremaining: 5.19s\n",
      "39:\tlearn: 0.5274779\ttotal: 212ms\tremaining: 5.09s\n",
      "40:\tlearn: 0.5249570\ttotal: 214ms\tremaining: 5s\n",
      "41:\tlearn: 0.5216708\ttotal: 215ms\tremaining: 4.9s\n",
      "42:\tlearn: 0.5192092\ttotal: 216ms\tremaining: 4.82s\n",
      "43:\tlearn: 0.5178993\ttotal: 217ms\tremaining: 4.72s\n",
      "44:\tlearn: 0.5153042\ttotal: 219ms\tremaining: 4.64s\n",
      "45:\tlearn: 0.5126487\ttotal: 220ms\tremaining: 4.57s\n",
      "46:\tlearn: 0.5112280\ttotal: 221ms\tremaining: 4.49s\n",
      "47:\tlearn: 0.5083176\ttotal: 223ms\tremaining: 4.42s\n",
      "48:\tlearn: 0.5061256\ttotal: 224ms\tremaining: 4.36s\n",
      "49:\tlearn: 0.5042349\ttotal: 226ms\tremaining: 4.29s\n",
      "50:\tlearn: 0.5014670\ttotal: 227ms\tremaining: 4.22s\n",
      "51:\tlearn: 0.4990363\ttotal: 229ms\tremaining: 4.17s\n",
      "52:\tlearn: 0.4972427\ttotal: 230ms\tremaining: 4.11s\n",
      "53:\tlearn: 0.4949604\ttotal: 231ms\tremaining: 4.05s\n",
      "54:\tlearn: 0.4930884\ttotal: 233ms\tremaining: 4s\n",
      "55:\tlearn: 0.4909047\ttotal: 234ms\tremaining: 3.95s\n",
      "56:\tlearn: 0.4892440\ttotal: 235ms\tremaining: 3.89s\n",
      "57:\tlearn: 0.4874860\ttotal: 237ms\tremaining: 3.84s\n",
      "58:\tlearn: 0.4855248\ttotal: 238ms\tremaining: 3.8s\n",
      "59:\tlearn: 0.4835865\ttotal: 240ms\tremaining: 3.76s\n",
      "60:\tlearn: 0.4812210\ttotal: 241ms\tremaining: 3.71s\n",
      "61:\tlearn: 0.4792050\ttotal: 243ms\tremaining: 3.67s\n",
      "62:\tlearn: 0.4774163\ttotal: 244ms\tremaining: 3.63s\n",
      "63:\tlearn: 0.4755851\ttotal: 245ms\tremaining: 3.59s\n",
      "64:\tlearn: 0.4738035\ttotal: 247ms\tremaining: 3.55s\n",
      "65:\tlearn: 0.4720392\ttotal: 248ms\tremaining: 3.51s\n",
      "66:\tlearn: 0.4700510\ttotal: 250ms\tremaining: 3.48s\n",
      "67:\tlearn: 0.4684552\ttotal: 251ms\tremaining: 3.44s\n",
      "68:\tlearn: 0.4671817\ttotal: 253ms\tremaining: 3.41s\n",
      "69:\tlearn: 0.4660107\ttotal: 254ms\tremaining: 3.37s\n",
      "70:\tlearn: 0.4643488\ttotal: 255ms\tremaining: 3.34s\n",
      "71:\tlearn: 0.4626284\ttotal: 257ms\tremaining: 3.31s\n",
      "72:\tlearn: 0.4612965\ttotal: 258ms\tremaining: 3.28s\n",
      "73:\tlearn: 0.4598309\ttotal: 260ms\tremaining: 3.25s\n",
      "74:\tlearn: 0.4583757\ttotal: 261ms\tremaining: 3.22s\n",
      "75:\tlearn: 0.4570955\ttotal: 263ms\tremaining: 3.19s\n",
      "76:\tlearn: 0.4558886\ttotal: 264ms\tremaining: 3.16s\n",
      "77:\tlearn: 0.4544188\ttotal: 265ms\tremaining: 3.14s\n",
      "78:\tlearn: 0.4531430\ttotal: 267ms\tremaining: 3.11s\n",
      "79:\tlearn: 0.4514369\ttotal: 268ms\tremaining: 3.09s\n",
      "80:\tlearn: 0.4501239\ttotal: 270ms\tremaining: 3.06s\n",
      "81:\tlearn: 0.4485471\ttotal: 271ms\tremaining: 3.04s\n",
      "82:\tlearn: 0.4474300\ttotal: 272ms\tremaining: 3.01s\n",
      "83:\tlearn: 0.4458281\ttotal: 274ms\tremaining: 2.99s\n",
      "84:\tlearn: 0.4448956\ttotal: 275ms\tremaining: 2.96s\n",
      "85:\tlearn: 0.4439412\ttotal: 276ms\tremaining: 2.94s\n",
      "86:\tlearn: 0.4426621\ttotal: 278ms\tremaining: 2.91s\n",
      "87:\tlearn: 0.4416917\ttotal: 279ms\tremaining: 2.89s\n",
      "88:\tlearn: 0.4406169\ttotal: 281ms\tremaining: 2.87s\n",
      "89:\tlearn: 0.4394434\ttotal: 282ms\tremaining: 2.85s\n",
      "90:\tlearn: 0.4383256\ttotal: 284ms\tremaining: 2.83s\n",
      "91:\tlearn: 0.4372224\ttotal: 285ms\tremaining: 2.81s\n",
      "92:\tlearn: 0.4362491\ttotal: 286ms\tremaining: 2.79s\n",
      "93:\tlearn: 0.4348890\ttotal: 288ms\tremaining: 2.77s\n",
      "94:\tlearn: 0.4337250\ttotal: 289ms\tremaining: 2.75s\n",
      "95:\tlearn: 0.4325730\ttotal: 290ms\tremaining: 2.73s\n",
      "96:\tlearn: 0.4313255\ttotal: 292ms\tremaining: 2.72s\n",
      "97:\tlearn: 0.4301893\ttotal: 293ms\tremaining: 2.7s\n",
      "98:\tlearn: 0.4289817\ttotal: 295ms\tremaining: 2.68s\n",
      "99:\tlearn: 0.4282140\ttotal: 296ms\tremaining: 2.67s\n",
      "100:\tlearn: 0.4271475\ttotal: 298ms\tremaining: 2.65s\n",
      "101:\tlearn: 0.4261587\ttotal: 299ms\tremaining: 2.63s\n",
      "102:\tlearn: 0.4254074\ttotal: 300ms\tremaining: 2.62s\n",
      "103:\tlearn: 0.4241459\ttotal: 302ms\tremaining: 2.6s\n",
      "104:\tlearn: 0.4235435\ttotal: 303ms\tremaining: 2.58s\n",
      "105:\tlearn: 0.4222966\ttotal: 305ms\tremaining: 2.57s\n",
      "106:\tlearn: 0.4211750\ttotal: 306ms\tremaining: 2.56s\n",
      "107:\tlearn: 0.4205130\ttotal: 308ms\tremaining: 2.54s\n",
      "108:\tlearn: 0.4195268\ttotal: 309ms\tremaining: 2.52s\n",
      "109:\tlearn: 0.4185689\ttotal: 310ms\tremaining: 2.51s\n",
      "110:\tlearn: 0.4175425\ttotal: 312ms\tremaining: 2.5s\n",
      "111:\tlearn: 0.4166873\ttotal: 313ms\tremaining: 2.48s\n",
      "112:\tlearn: 0.4157416\ttotal: 315ms\tremaining: 2.47s\n",
      "113:\tlearn: 0.4147125\ttotal: 316ms\tremaining: 2.46s\n",
      "114:\tlearn: 0.4141494\ttotal: 317ms\tremaining: 2.44s\n",
      "115:\tlearn: 0.4133625\ttotal: 319ms\tremaining: 2.43s\n",
      "116:\tlearn: 0.4126014\ttotal: 320ms\tremaining: 2.42s\n",
      "117:\tlearn: 0.4117700\ttotal: 322ms\tremaining: 2.41s\n",
      "118:\tlearn: 0.4112604\ttotal: 324ms\tremaining: 2.4s\n",
      "119:\tlearn: 0.4103626\ttotal: 325ms\tremaining: 2.38s\n",
      "120:\tlearn: 0.4099124\ttotal: 326ms\tremaining: 2.37s\n",
      "121:\tlearn: 0.4089643\ttotal: 328ms\tremaining: 2.36s\n",
      "122:\tlearn: 0.4083377\ttotal: 329ms\tremaining: 2.35s\n",
      "123:\tlearn: 0.4081151\ttotal: 330ms\tremaining: 2.33s\n",
      "124:\tlearn: 0.4078441\ttotal: 331ms\tremaining: 2.32s\n",
      "125:\tlearn: 0.4069108\ttotal: 332ms\tremaining: 2.3s\n",
      "126:\tlearn: 0.4066557\ttotal: 333ms\tremaining: 2.29s\n",
      "127:\tlearn: 0.4057799\ttotal: 335ms\tremaining: 2.28s\n",
      "128:\tlearn: 0.4050936\ttotal: 336ms\tremaining: 2.27s\n",
      "129:\tlearn: 0.4045990\ttotal: 338ms\tremaining: 2.26s\n",
      "130:\tlearn: 0.4039131\ttotal: 339ms\tremaining: 2.25s\n",
      "131:\tlearn: 0.4034073\ttotal: 341ms\tremaining: 2.24s\n",
      "132:\tlearn: 0.4029479\ttotal: 342ms\tremaining: 2.23s\n",
      "133:\tlearn: 0.4021083\ttotal: 343ms\tremaining: 2.22s\n",
      "134:\tlearn: 0.4014810\ttotal: 345ms\tremaining: 2.21s\n",
      "135:\tlearn: 0.4008153\ttotal: 346ms\tremaining: 2.2s\n",
      "136:\tlearn: 0.4003815\ttotal: 347ms\tremaining: 2.19s\n",
      "137:\tlearn: 0.3997962\ttotal: 349ms\tremaining: 2.18s\n",
      "138:\tlearn: 0.3993021\ttotal: 350ms\tremaining: 2.17s\n",
      "139:\tlearn: 0.3989543\ttotal: 351ms\tremaining: 2.16s\n",
      "140:\tlearn: 0.3983838\ttotal: 353ms\tremaining: 2.15s\n",
      "141:\tlearn: 0.3980015\ttotal: 354ms\tremaining: 2.14s\n",
      "142:\tlearn: 0.3974219\ttotal: 356ms\tremaining: 2.13s\n",
      "143:\tlearn: 0.3967842\ttotal: 357ms\tremaining: 2.12s\n",
      "144:\tlearn: 0.3963143\ttotal: 359ms\tremaining: 2.11s\n",
      "145:\tlearn: 0.3958229\ttotal: 360ms\tremaining: 2.1s\n",
      "146:\tlearn: 0.3955117\ttotal: 361ms\tremaining: 2.09s\n",
      "147:\tlearn: 0.3948615\ttotal: 363ms\tremaining: 2.09s\n",
      "148:\tlearn: 0.3942412\ttotal: 365ms\tremaining: 2.08s\n",
      "149:\tlearn: 0.3937082\ttotal: 366ms\tremaining: 2.08s\n",
      "150:\tlearn: 0.3932349\ttotal: 368ms\tremaining: 2.07s\n",
      "151:\tlearn: 0.3928127\ttotal: 369ms\tremaining: 2.06s\n",
      "152:\tlearn: 0.3924012\ttotal: 371ms\tremaining: 2.05s\n",
      "153:\tlearn: 0.3919603\ttotal: 373ms\tremaining: 2.05s\n",
      "154:\tlearn: 0.3912372\ttotal: 375ms\tremaining: 2.04s\n",
      "155:\tlearn: 0.3908698\ttotal: 377ms\tremaining: 2.04s\n",
      "156:\tlearn: 0.3901115\ttotal: 379ms\tremaining: 2.03s\n",
      "157:\tlearn: 0.3897263\ttotal: 380ms\tremaining: 2.03s\n",
      "158:\tlearn: 0.3893306\ttotal: 382ms\tremaining: 2.02s\n",
      "159:\tlearn: 0.3887607\ttotal: 384ms\tremaining: 2.01s\n",
      "160:\tlearn: 0.3883075\ttotal: 385ms\tremaining: 2.01s\n",
      "161:\tlearn: 0.3877984\ttotal: 387ms\tremaining: 2s\n",
      "162:\tlearn: 0.3874276\ttotal: 388ms\tremaining: 1.99s\n",
      "163:\tlearn: 0.3870954\ttotal: 390ms\tremaining: 1.99s\n",
      "164:\tlearn: 0.3866463\ttotal: 392ms\tremaining: 1.98s\n",
      "165:\tlearn: 0.3860316\ttotal: 394ms\tremaining: 1.98s\n",
      "166:\tlearn: 0.3855006\ttotal: 396ms\tremaining: 1.97s\n",
      "167:\tlearn: 0.3851438\ttotal: 397ms\tremaining: 1.97s\n",
      "168:\tlearn: 0.3848199\ttotal: 399ms\tremaining: 1.96s\n",
      "169:\tlearn: 0.3846067\ttotal: 400ms\tremaining: 1.95s\n",
      "170:\tlearn: 0.3843472\ttotal: 402ms\tremaining: 1.95s\n",
      "171:\tlearn: 0.3837761\ttotal: 403ms\tremaining: 1.94s\n",
      "172:\tlearn: 0.3835408\ttotal: 404ms\tremaining: 1.93s\n",
      "173:\tlearn: 0.3833875\ttotal: 406ms\tremaining: 1.93s\n",
      "174:\tlearn: 0.3830989\ttotal: 407ms\tremaining: 1.92s\n",
      "175:\tlearn: 0.3827115\ttotal: 409ms\tremaining: 1.91s\n",
      "176:\tlearn: 0.3823422\ttotal: 410ms\tremaining: 1.91s\n",
      "177:\tlearn: 0.3819432\ttotal: 412ms\tremaining: 1.9s\n",
      "178:\tlearn: 0.3815162\ttotal: 413ms\tremaining: 1.9s\n",
      "179:\tlearn: 0.3811441\ttotal: 415ms\tremaining: 1.89s\n",
      "180:\tlearn: 0.3805543\ttotal: 416ms\tremaining: 1.88s\n",
      "181:\tlearn: 0.3802718\ttotal: 417ms\tremaining: 1.87s\n",
      "182:\tlearn: 0.3799497\ttotal: 418ms\tremaining: 1.87s\n",
      "183:\tlearn: 0.3796930\ttotal: 420ms\tremaining: 1.86s\n",
      "184:\tlearn: 0.3792341\ttotal: 421ms\tremaining: 1.86s\n",
      "185:\tlearn: 0.3788878\ttotal: 423ms\tremaining: 1.85s\n",
      "186:\tlearn: 0.3787355\ttotal: 424ms\tremaining: 1.84s\n",
      "187:\tlearn: 0.3785058\ttotal: 425ms\tremaining: 1.84s\n",
      "188:\tlearn: 0.3784684\ttotal: 426ms\tremaining: 1.83s\n",
      "189:\tlearn: 0.3784204\ttotal: 427ms\tremaining: 1.82s\n",
      "190:\tlearn: 0.3781284\ttotal: 428ms\tremaining: 1.81s\n",
      "191:\tlearn: 0.3776614\ttotal: 429ms\tremaining: 1.81s\n",
      "192:\tlearn: 0.3771938\ttotal: 431ms\tremaining: 1.8s\n",
      "193:\tlearn: 0.3767583\ttotal: 432ms\tremaining: 1.79s\n",
      "194:\tlearn: 0.3763859\ttotal: 434ms\tremaining: 1.79s\n",
      "195:\tlearn: 0.3758915\ttotal: 435ms\tremaining: 1.78s\n",
      "196:\tlearn: 0.3755036\ttotal: 437ms\tremaining: 1.78s\n",
      "197:\tlearn: 0.3752331\ttotal: 438ms\tremaining: 1.77s\n",
      "198:\tlearn: 0.3746779\ttotal: 439ms\tremaining: 1.77s\n",
      "199:\tlearn: 0.3743078\ttotal: 441ms\tremaining: 1.76s\n",
      "200:\tlearn: 0.3740094\ttotal: 442ms\tremaining: 1.76s\n",
      "201:\tlearn: 0.3738028\ttotal: 443ms\tremaining: 1.75s\n",
      "202:\tlearn: 0.3735686\ttotal: 444ms\tremaining: 1.75s\n",
      "203:\tlearn: 0.3732051\ttotal: 446ms\tremaining: 1.74s\n",
      "204:\tlearn: 0.3729613\ttotal: 447ms\tremaining: 1.73s\n",
      "205:\tlearn: 0.3727501\ttotal: 449ms\tremaining: 1.73s\n",
      "206:\tlearn: 0.3723984\ttotal: 450ms\tremaining: 1.72s\n",
      "207:\tlearn: 0.3720937\ttotal: 452ms\tremaining: 1.72s\n",
      "208:\tlearn: 0.3718878\ttotal: 453ms\tremaining: 1.71s\n",
      "209:\tlearn: 0.3713565\ttotal: 454ms\tremaining: 1.71s\n",
      "210:\tlearn: 0.3709224\ttotal: 456ms\tremaining: 1.7s\n",
      "211:\tlearn: 0.3704736\ttotal: 457ms\tremaining: 1.7s\n",
      "212:\tlearn: 0.3702967\ttotal: 459ms\tremaining: 1.69s\n",
      "213:\tlearn: 0.3699818\ttotal: 460ms\tremaining: 1.69s\n",
      "214:\tlearn: 0.3695371\ttotal: 461ms\tremaining: 1.68s\n",
      "215:\tlearn: 0.3691295\ttotal: 463ms\tremaining: 1.68s\n",
      "216:\tlearn: 0.3688031\ttotal: 464ms\tremaining: 1.67s\n",
      "217:\tlearn: 0.3684100\ttotal: 466ms\tremaining: 1.67s\n",
      "218:\tlearn: 0.3679689\ttotal: 467ms\tremaining: 1.67s\n",
      "219:\tlearn: 0.3676981\ttotal: 469ms\tremaining: 1.66s\n",
      "220:\tlearn: 0.3674070\ttotal: 470ms\tremaining: 1.66s\n",
      "221:\tlearn: 0.3671644\ttotal: 471ms\tremaining: 1.65s\n",
      "222:\tlearn: 0.3670756\ttotal: 472ms\tremaining: 1.65s\n",
      "223:\tlearn: 0.3668187\ttotal: 474ms\tremaining: 1.64s\n",
      "224:\tlearn: 0.3665123\ttotal: 475ms\tremaining: 1.64s\n",
      "225:\tlearn: 0.3661495\ttotal: 477ms\tremaining: 1.63s\n",
      "226:\tlearn: 0.3658540\ttotal: 478ms\tremaining: 1.63s\n",
      "227:\tlearn: 0.3656857\ttotal: 479ms\tremaining: 1.62s\n",
      "228:\tlearn: 0.3654677\ttotal: 481ms\tremaining: 1.62s\n",
      "229:\tlearn: 0.3649691\ttotal: 482ms\tremaining: 1.61s\n",
      "230:\tlearn: 0.3646434\ttotal: 483ms\tremaining: 1.61s\n",
      "231:\tlearn: 0.3642913\ttotal: 485ms\tremaining: 1.6s\n",
      "232:\tlearn: 0.3639494\ttotal: 486ms\tremaining: 1.6s\n",
      "233:\tlearn: 0.3638453\ttotal: 487ms\tremaining: 1.59s\n",
      "234:\tlearn: 0.3636152\ttotal: 489ms\tremaining: 1.59s\n",
      "235:\tlearn: 0.3633406\ttotal: 490ms\tremaining: 1.59s\n",
      "236:\tlearn: 0.3631517\ttotal: 492ms\tremaining: 1.58s\n",
      "237:\tlearn: 0.3630865\ttotal: 492ms\tremaining: 1.58s\n",
      "238:\tlearn: 0.3629755\ttotal: 494ms\tremaining: 1.57s\n",
      "239:\tlearn: 0.3627886\ttotal: 495ms\tremaining: 1.57s\n",
      "240:\tlearn: 0.3625767\ttotal: 497ms\tremaining: 1.56s\n",
      "241:\tlearn: 0.3623662\ttotal: 498ms\tremaining: 1.56s\n",
      "242:\tlearn: 0.3621224\ttotal: 499ms\tremaining: 1.55s\n",
      "243:\tlearn: 0.3619295\ttotal: 501ms\tremaining: 1.55s\n",
      "244:\tlearn: 0.3615718\ttotal: 502ms\tremaining: 1.55s\n",
      "245:\tlearn: 0.3611151\ttotal: 504ms\tremaining: 1.54s\n",
      "246:\tlearn: 0.3609224\ttotal: 505ms\tremaining: 1.54s\n",
      "247:\tlearn: 0.3606369\ttotal: 506ms\tremaining: 1.53s\n",
      "248:\tlearn: 0.3605018\ttotal: 508ms\tremaining: 1.53s\n",
      "249:\tlearn: 0.3602558\ttotal: 509ms\tremaining: 1.53s\n",
      "250:\tlearn: 0.3600841\ttotal: 511ms\tremaining: 1.52s\n",
      "251:\tlearn: 0.3597255\ttotal: 512ms\tremaining: 1.52s\n",
      "252:\tlearn: 0.3595226\ttotal: 513ms\tremaining: 1.51s\n",
      "253:\tlearn: 0.3591759\ttotal: 515ms\tremaining: 1.51s\n",
      "254:\tlearn: 0.3590577\ttotal: 516ms\tremaining: 1.51s\n",
      "255:\tlearn: 0.3588666\ttotal: 518ms\tremaining: 1.5s\n",
      "256:\tlearn: 0.3585198\ttotal: 520ms\tremaining: 1.5s\n",
      "257:\tlearn: 0.3583027\ttotal: 521ms\tremaining: 1.5s\n",
      "258:\tlearn: 0.3580556\ttotal: 523ms\tremaining: 1.49s\n",
      "259:\tlearn: 0.3578715\ttotal: 524ms\tremaining: 1.49s\n",
      "260:\tlearn: 0.3576592\ttotal: 525ms\tremaining: 1.49s\n",
      "261:\tlearn: 0.3574218\ttotal: 527ms\tremaining: 1.48s\n",
      "262:\tlearn: 0.3573264\ttotal: 528ms\tremaining: 1.48s\n",
      "263:\tlearn: 0.3571604\ttotal: 529ms\tremaining: 1.48s\n",
      "264:\tlearn: 0.3569247\ttotal: 531ms\tremaining: 1.47s\n"
     ]
    },
    {
     "name": "stdout",
     "output_type": "stream",
     "text": [
      "265:\tlearn: 0.3567666\ttotal: 533ms\tremaining: 1.47s\n",
      "266:\tlearn: 0.3563902\ttotal: 535ms\tremaining: 1.47s\n",
      "267:\tlearn: 0.3562504\ttotal: 536ms\tremaining: 1.46s\n",
      "268:\tlearn: 0.3560278\ttotal: 537ms\tremaining: 1.46s\n",
      "269:\tlearn: 0.3559940\ttotal: 539ms\tremaining: 1.46s\n",
      "270:\tlearn: 0.3558254\ttotal: 540ms\tremaining: 1.45s\n",
      "271:\tlearn: 0.3556460\ttotal: 541ms\tremaining: 1.45s\n",
      "272:\tlearn: 0.3552841\ttotal: 543ms\tremaining: 1.45s\n",
      "273:\tlearn: 0.3551333\ttotal: 545ms\tremaining: 1.44s\n",
      "274:\tlearn: 0.3549447\ttotal: 547ms\tremaining: 1.44s\n",
      "275:\tlearn: 0.3547979\ttotal: 549ms\tremaining: 1.44s\n",
      "276:\tlearn: 0.3546336\ttotal: 550ms\tremaining: 1.44s\n",
      "277:\tlearn: 0.3542898\ttotal: 552ms\tremaining: 1.43s\n",
      "278:\tlearn: 0.3540884\ttotal: 553ms\tremaining: 1.43s\n",
      "279:\tlearn: 0.3538964\ttotal: 554ms\tremaining: 1.43s\n",
      "280:\tlearn: 0.3536609\ttotal: 556ms\tremaining: 1.42s\n",
      "281:\tlearn: 0.3535346\ttotal: 557ms\tremaining: 1.42s\n",
      "282:\tlearn: 0.3533549\ttotal: 559ms\tremaining: 1.42s\n",
      "283:\tlearn: 0.3531694\ttotal: 561ms\tremaining: 1.41s\n",
      "284:\tlearn: 0.3530693\ttotal: 562ms\tremaining: 1.41s\n",
      "285:\tlearn: 0.3528351\ttotal: 564ms\tremaining: 1.41s\n",
      "286:\tlearn: 0.3527198\ttotal: 565ms\tremaining: 1.4s\n",
      "287:\tlearn: 0.3524637\ttotal: 566ms\tremaining: 1.4s\n",
      "288:\tlearn: 0.3523777\ttotal: 567ms\tremaining: 1.4s\n",
      "289:\tlearn: 0.3521735\ttotal: 569ms\tremaining: 1.39s\n",
      "290:\tlearn: 0.3520275\ttotal: 570ms\tremaining: 1.39s\n",
      "291:\tlearn: 0.3516728\ttotal: 572ms\tremaining: 1.39s\n",
      "292:\tlearn: 0.3514584\ttotal: 573ms\tremaining: 1.38s\n",
      "293:\tlearn: 0.3514361\ttotal: 574ms\tremaining: 1.38s\n",
      "294:\tlearn: 0.3512366\ttotal: 576ms\tremaining: 1.38s\n",
      "295:\tlearn: 0.3510224\ttotal: 577ms\tremaining: 1.37s\n",
      "296:\tlearn: 0.3507776\ttotal: 578ms\tremaining: 1.37s\n",
      "297:\tlearn: 0.3505544\ttotal: 580ms\tremaining: 1.37s\n",
      "298:\tlearn: 0.3503973\ttotal: 581ms\tremaining: 1.36s\n",
      "299:\tlearn: 0.3500911\ttotal: 583ms\tremaining: 1.36s\n",
      "300:\tlearn: 0.3498129\ttotal: 584ms\tremaining: 1.36s\n",
      "301:\tlearn: 0.3496285\ttotal: 585ms\tremaining: 1.35s\n",
      "302:\tlearn: 0.3493575\ttotal: 587ms\tremaining: 1.35s\n",
      "303:\tlearn: 0.3490352\ttotal: 588ms\tremaining: 1.35s\n",
      "304:\tlearn: 0.3490236\ttotal: 589ms\tremaining: 1.34s\n",
      "305:\tlearn: 0.3486836\ttotal: 591ms\tremaining: 1.34s\n",
      "306:\tlearn: 0.3483951\ttotal: 592ms\tremaining: 1.34s\n",
      "307:\tlearn: 0.3482001\ttotal: 593ms\tremaining: 1.33s\n",
      "308:\tlearn: 0.3477261\ttotal: 595ms\tremaining: 1.33s\n",
      "309:\tlearn: 0.3475986\ttotal: 596ms\tremaining: 1.33s\n",
      "310:\tlearn: 0.3472877\ttotal: 598ms\tremaining: 1.32s\n",
      "311:\tlearn: 0.3469956\ttotal: 599ms\tremaining: 1.32s\n",
      "312:\tlearn: 0.3467728\ttotal: 600ms\tremaining: 1.32s\n",
      "313:\tlearn: 0.3466867\ttotal: 601ms\tremaining: 1.31s\n",
      "314:\tlearn: 0.3465503\ttotal: 603ms\tremaining: 1.31s\n",
      "315:\tlearn: 0.3464303\ttotal: 604ms\tremaining: 1.31s\n",
      "316:\tlearn: 0.3463027\ttotal: 606ms\tremaining: 1.3s\n",
      "317:\tlearn: 0.3460684\ttotal: 608ms\tremaining: 1.3s\n",
      "318:\tlearn: 0.3456887\ttotal: 609ms\tremaining: 1.3s\n",
      "319:\tlearn: 0.3455764\ttotal: 611ms\tremaining: 1.3s\n",
      "320:\tlearn: 0.3454088\ttotal: 612ms\tremaining: 1.29s\n",
      "321:\tlearn: 0.3452036\ttotal: 613ms\tremaining: 1.29s\n",
      "322:\tlearn: 0.3450449\ttotal: 615ms\tremaining: 1.29s\n",
      "323:\tlearn: 0.3449968\ttotal: 616ms\tremaining: 1.28s\n",
      "324:\tlearn: 0.3447496\ttotal: 618ms\tremaining: 1.28s\n",
      "325:\tlearn: 0.3445465\ttotal: 619ms\tremaining: 1.28s\n",
      "326:\tlearn: 0.3445069\ttotal: 620ms\tremaining: 1.27s\n",
      "327:\tlearn: 0.3442745\ttotal: 621ms\tremaining: 1.27s\n",
      "328:\tlearn: 0.3441573\ttotal: 623ms\tremaining: 1.27s\n",
      "329:\tlearn: 0.3438411\ttotal: 624ms\tremaining: 1.27s\n",
      "330:\tlearn: 0.3437854\ttotal: 625ms\tremaining: 1.26s\n",
      "331:\tlearn: 0.3435271\ttotal: 626ms\tremaining: 1.26s\n",
      "332:\tlearn: 0.3433999\ttotal: 628ms\tremaining: 1.26s\n",
      "333:\tlearn: 0.3431824\ttotal: 629ms\tremaining: 1.25s\n",
      "334:\tlearn: 0.3430675\ttotal: 630ms\tremaining: 1.25s\n",
      "335:\tlearn: 0.3429874\ttotal: 632ms\tremaining: 1.25s\n",
      "336:\tlearn: 0.3428913\ttotal: 633ms\tremaining: 1.25s\n",
      "337:\tlearn: 0.3427137\ttotal: 634ms\tremaining: 1.24s\n",
      "338:\tlearn: 0.3424935\ttotal: 636ms\tremaining: 1.24s\n",
      "339:\tlearn: 0.3423365\ttotal: 637ms\tremaining: 1.24s\n",
      "340:\tlearn: 0.3422112\ttotal: 638ms\tremaining: 1.23s\n",
      "341:\tlearn: 0.3420024\ttotal: 639ms\tremaining: 1.23s\n",
      "342:\tlearn: 0.3418154\ttotal: 640ms\tremaining: 1.23s\n",
      "343:\tlearn: 0.3416331\ttotal: 642ms\tremaining: 1.22s\n",
      "344:\tlearn: 0.3414700\ttotal: 643ms\tremaining: 1.22s\n",
      "345:\tlearn: 0.3412999\ttotal: 644ms\tremaining: 1.22s\n",
      "346:\tlearn: 0.3410747\ttotal: 645ms\tremaining: 1.21s\n",
      "347:\tlearn: 0.3409282\ttotal: 646ms\tremaining: 1.21s\n",
      "348:\tlearn: 0.3406451\ttotal: 648ms\tremaining: 1.21s\n",
      "349:\tlearn: 0.3404781\ttotal: 649ms\tremaining: 1.2s\n",
      "350:\tlearn: 0.3403492\ttotal: 650ms\tremaining: 1.2s\n",
      "351:\tlearn: 0.3401319\ttotal: 651ms\tremaining: 1.2s\n",
      "352:\tlearn: 0.3400627\ttotal: 652ms\tremaining: 1.2s\n",
      "353:\tlearn: 0.3399045\ttotal: 653ms\tremaining: 1.19s\n",
      "354:\tlearn: 0.3396031\ttotal: 655ms\tremaining: 1.19s\n",
      "355:\tlearn: 0.3394793\ttotal: 656ms\tremaining: 1.19s\n",
      "356:\tlearn: 0.3393459\ttotal: 657ms\tremaining: 1.18s\n",
      "357:\tlearn: 0.3392176\ttotal: 658ms\tremaining: 1.18s\n",
      "358:\tlearn: 0.3390455\ttotal: 659ms\tremaining: 1.18s\n",
      "359:\tlearn: 0.3387133\ttotal: 660ms\tremaining: 1.17s\n",
      "360:\tlearn: 0.3386087\ttotal: 661ms\tremaining: 1.17s\n",
      "361:\tlearn: 0.3382549\ttotal: 663ms\tremaining: 1.17s\n",
      "362:\tlearn: 0.3381131\ttotal: 664ms\tremaining: 1.16s\n",
      "363:\tlearn: 0.3380009\ttotal: 665ms\tremaining: 1.16s\n",
      "364:\tlearn: 0.3378402\ttotal: 666ms\tremaining: 1.16s\n",
      "365:\tlearn: 0.3376560\ttotal: 667ms\tremaining: 1.16s\n",
      "366:\tlearn: 0.3374191\ttotal: 668ms\tremaining: 1.15s\n",
      "367:\tlearn: 0.3372607\ttotal: 670ms\tremaining: 1.15s\n",
      "368:\tlearn: 0.3369773\ttotal: 671ms\tremaining: 1.15s\n",
      "369:\tlearn: 0.3368727\ttotal: 672ms\tremaining: 1.14s\n",
      "370:\tlearn: 0.3368210\ttotal: 673ms\tremaining: 1.14s\n",
      "371:\tlearn: 0.3366875\ttotal: 675ms\tremaining: 1.14s\n",
      "372:\tlearn: 0.3365557\ttotal: 676ms\tremaining: 1.14s\n",
      "373:\tlearn: 0.3362920\ttotal: 677ms\tremaining: 1.13s\n",
      "374:\tlearn: 0.3361440\ttotal: 678ms\tremaining: 1.13s\n",
      "375:\tlearn: 0.3358819\ttotal: 679ms\tremaining: 1.13s\n",
      "376:\tlearn: 0.3356225\ttotal: 680ms\tremaining: 1.12s\n",
      "377:\tlearn: 0.3355778\ttotal: 682ms\tremaining: 1.12s\n",
      "378:\tlearn: 0.3354843\ttotal: 683ms\tremaining: 1.12s\n",
      "379:\tlearn: 0.3353237\ttotal: 684ms\tremaining: 1.11s\n",
      "380:\tlearn: 0.3352430\ttotal: 685ms\tremaining: 1.11s\n",
      "381:\tlearn: 0.3351238\ttotal: 686ms\tremaining: 1.11s\n",
      "382:\tlearn: 0.3349814\ttotal: 688ms\tremaining: 1.11s\n",
      "383:\tlearn: 0.3348067\ttotal: 689ms\tremaining: 1.1s\n",
      "384:\tlearn: 0.3347188\ttotal: 690ms\tremaining: 1.1s\n",
      "385:\tlearn: 0.3345616\ttotal: 691ms\tremaining: 1.1s\n",
      "386:\tlearn: 0.3343977\ttotal: 692ms\tremaining: 1.1s\n",
      "387:\tlearn: 0.3340836\ttotal: 693ms\tremaining: 1.09s\n",
      "388:\tlearn: 0.3339788\ttotal: 695ms\tremaining: 1.09s\n",
      "389:\tlearn: 0.3338407\ttotal: 696ms\tremaining: 1.09s\n",
      "390:\tlearn: 0.3336526\ttotal: 697ms\tremaining: 1.08s\n",
      "391:\tlearn: 0.3335122\ttotal: 698ms\tremaining: 1.08s\n",
      "392:\tlearn: 0.3334498\ttotal: 699ms\tremaining: 1.08s\n",
      "393:\tlearn: 0.3334030\ttotal: 701ms\tremaining: 1.08s\n",
      "394:\tlearn: 0.3331132\ttotal: 702ms\tremaining: 1.07s\n",
      "395:\tlearn: 0.3329609\ttotal: 704ms\tremaining: 1.07s\n",
      "396:\tlearn: 0.3328650\ttotal: 705ms\tremaining: 1.07s\n",
      "397:\tlearn: 0.3326348\ttotal: 706ms\tremaining: 1.07s\n",
      "398:\tlearn: 0.3324230\ttotal: 708ms\tremaining: 1.07s\n",
      "399:\tlearn: 0.3324015\ttotal: 709ms\tremaining: 1.06s\n",
      "400:\tlearn: 0.3323836\ttotal: 710ms\tremaining: 1.06s\n",
      "401:\tlearn: 0.3322660\ttotal: 711ms\tremaining: 1.06s\n",
      "402:\tlearn: 0.3322334\ttotal: 712ms\tremaining: 1.05s\n",
      "403:\tlearn: 0.3320860\ttotal: 713ms\tremaining: 1.05s\n",
      "404:\tlearn: 0.3318698\ttotal: 715ms\tremaining: 1.05s\n",
      "405:\tlearn: 0.3316530\ttotal: 716ms\tremaining: 1.05s\n",
      "406:\tlearn: 0.3315781\ttotal: 717ms\tremaining: 1.04s\n",
      "407:\tlearn: 0.3314919\ttotal: 718ms\tremaining: 1.04s\n",
      "408:\tlearn: 0.3312866\ttotal: 719ms\tremaining: 1.04s\n",
      "409:\tlearn: 0.3312661\ttotal: 720ms\tremaining: 1.04s\n",
      "410:\tlearn: 0.3310963\ttotal: 721ms\tremaining: 1.03s\n",
      "411:\tlearn: 0.3310130\ttotal: 723ms\tremaining: 1.03s\n",
      "412:\tlearn: 0.3308723\ttotal: 724ms\tremaining: 1.03s\n",
      "413:\tlearn: 0.3307340\ttotal: 725ms\tremaining: 1.03s\n",
      "414:\tlearn: 0.3307043\ttotal: 726ms\tremaining: 1.02s\n",
      "415:\tlearn: 0.3306137\ttotal: 728ms\tremaining: 1.02s\n",
      "416:\tlearn: 0.3305689\ttotal: 729ms\tremaining: 1.02s\n",
      "417:\tlearn: 0.3303748\ttotal: 730ms\tremaining: 1.02s\n",
      "418:\tlearn: 0.3302818\ttotal: 731ms\tremaining: 1.01s\n",
      "419:\tlearn: 0.3302680\ttotal: 732ms\tremaining: 1.01s\n",
      "420:\tlearn: 0.3302491\ttotal: 733ms\tremaining: 1.01s\n",
      "421:\tlearn: 0.3301583\ttotal: 734ms\tremaining: 1s\n",
      "422:\tlearn: 0.3299569\ttotal: 735ms\tremaining: 1s\n",
      "423:\tlearn: 0.3297486\ttotal: 736ms\tremaining: 1s\n",
      "424:\tlearn: 0.3296479\ttotal: 738ms\tremaining: 998ms\n",
      "425:\tlearn: 0.3296322\ttotal: 739ms\tremaining: 995ms\n",
      "426:\tlearn: 0.3294323\ttotal: 740ms\tremaining: 993ms\n",
      "427:\tlearn: 0.3292547\ttotal: 741ms\tremaining: 990ms\n",
      "428:\tlearn: 0.3291951\ttotal: 742ms\tremaining: 988ms\n",
      "429:\tlearn: 0.3290394\ttotal: 744ms\tremaining: 986ms\n",
      "430:\tlearn: 0.3289219\ttotal: 745ms\tremaining: 983ms\n",
      "431:\tlearn: 0.3287363\ttotal: 746ms\tremaining: 981ms\n",
      "432:\tlearn: 0.3284873\ttotal: 747ms\tremaining: 978ms\n",
      "433:\tlearn: 0.3283674\ttotal: 748ms\tremaining: 976ms\n",
      "434:\tlearn: 0.3283259\ttotal: 749ms\tremaining: 973ms\n",
      "435:\tlearn: 0.3281742\ttotal: 751ms\tremaining: 971ms\n",
      "436:\tlearn: 0.3279545\ttotal: 752ms\tremaining: 968ms\n",
      "437:\tlearn: 0.3279455\ttotal: 752ms\tremaining: 965ms\n",
      "438:\tlearn: 0.3278631\ttotal: 753ms\tremaining: 963ms\n",
      "439:\tlearn: 0.3276689\ttotal: 754ms\tremaining: 960ms\n",
      "440:\tlearn: 0.3274946\ttotal: 756ms\tremaining: 958ms\n",
      "441:\tlearn: 0.3273570\ttotal: 757ms\tremaining: 955ms\n",
      "442:\tlearn: 0.3272564\ttotal: 758ms\tremaining: 953ms\n",
      "443:\tlearn: 0.3270846\ttotal: 759ms\tremaining: 951ms\n",
      "444:\tlearn: 0.3269114\ttotal: 760ms\tremaining: 948ms\n",
      "445:\tlearn: 0.3267906\ttotal: 761ms\tremaining: 946ms\n",
      "446:\tlearn: 0.3266738\ttotal: 763ms\tremaining: 944ms\n",
      "447:\tlearn: 0.3265938\ttotal: 764ms\tremaining: 941ms\n",
      "448:\tlearn: 0.3263039\ttotal: 765ms\tremaining: 939ms\n",
      "449:\tlearn: 0.3261280\ttotal: 766ms\tremaining: 937ms\n",
      "450:\tlearn: 0.3260330\ttotal: 767ms\tremaining: 934ms\n",
      "451:\tlearn: 0.3259158\ttotal: 769ms\tremaining: 932ms\n",
      "452:\tlearn: 0.3256950\ttotal: 770ms\tremaining: 929ms\n",
      "453:\tlearn: 0.3255461\ttotal: 771ms\tremaining: 927ms\n",
      "454:\tlearn: 0.3254037\ttotal: 772ms\tremaining: 925ms\n",
      "455:\tlearn: 0.3252982\ttotal: 773ms\tremaining: 923ms\n",
      "456:\tlearn: 0.3251759\ttotal: 774ms\tremaining: 920ms\n",
      "457:\tlearn: 0.3250206\ttotal: 776ms\tremaining: 918ms\n",
      "458:\tlearn: 0.3248531\ttotal: 778ms\tremaining: 916ms\n",
      "459:\tlearn: 0.3246808\ttotal: 780ms\tremaining: 915ms\n",
      "460:\tlearn: 0.3245953\ttotal: 781ms\tremaining: 913ms\n",
      "461:\tlearn: 0.3243787\ttotal: 782ms\tremaining: 911ms\n",
      "462:\tlearn: 0.3242281\ttotal: 784ms\tremaining: 909ms\n",
      "463:\tlearn: 0.3240547\ttotal: 785ms\tremaining: 907ms\n",
      "464:\tlearn: 0.3239789\ttotal: 787ms\tremaining: 905ms\n",
      "465:\tlearn: 0.3238369\ttotal: 788ms\tremaining: 903ms\n",
      "466:\tlearn: 0.3236898\ttotal: 790ms\tremaining: 901ms\n",
      "467:\tlearn: 0.3236444\ttotal: 791ms\tremaining: 899ms\n",
      "468:\tlearn: 0.3236047\ttotal: 792ms\tremaining: 897ms\n",
      "469:\tlearn: 0.3234779\ttotal: 793ms\tremaining: 895ms\n",
      "470:\tlearn: 0.3234449\ttotal: 794ms\tremaining: 892ms\n",
      "471:\tlearn: 0.3233391\ttotal: 796ms\tremaining: 890ms\n",
      "472:\tlearn: 0.3232161\ttotal: 797ms\tremaining: 888ms\n",
      "473:\tlearn: 0.3230668\ttotal: 798ms\tremaining: 886ms\n",
      "474:\tlearn: 0.3229430\ttotal: 799ms\tremaining: 883ms\n",
      "475:\tlearn: 0.3229285\ttotal: 800ms\tremaining: 881ms\n",
      "476:\tlearn: 0.3228740\ttotal: 801ms\tremaining: 878ms\n",
      "477:\tlearn: 0.3227904\ttotal: 803ms\tremaining: 877ms\n",
      "478:\tlearn: 0.3226738\ttotal: 804ms\tremaining: 874ms\n",
      "479:\tlearn: 0.3226299\ttotal: 805ms\tremaining: 872ms\n",
      "480:\tlearn: 0.3224993\ttotal: 806ms\tremaining: 870ms\n",
      "481:\tlearn: 0.3224885\ttotal: 807ms\tremaining: 867ms\n",
      "482:\tlearn: 0.3224291\ttotal: 808ms\tremaining: 865ms\n",
      "483:\tlearn: 0.3222399\ttotal: 809ms\tremaining: 863ms\n",
      "484:\tlearn: 0.3221313\ttotal: 810ms\tremaining: 860ms\n",
      "485:\tlearn: 0.3219666\ttotal: 811ms\tremaining: 858ms\n",
      "486:\tlearn: 0.3218209\ttotal: 813ms\tremaining: 856ms\n",
      "487:\tlearn: 0.3215902\ttotal: 814ms\tremaining: 854ms\n",
      "488:\tlearn: 0.3214599\ttotal: 815ms\tremaining: 852ms\n",
      "489:\tlearn: 0.3212828\ttotal: 816ms\tremaining: 849ms\n",
      "490:\tlearn: 0.3211690\ttotal: 817ms\tremaining: 847ms\n",
      "491:\tlearn: 0.3210059\ttotal: 819ms\tremaining: 845ms\n",
      "492:\tlearn: 0.3208776\ttotal: 820ms\tremaining: 843ms\n",
      "493:\tlearn: 0.3208697\ttotal: 821ms\tremaining: 840ms\n",
      "494:\tlearn: 0.3208058\ttotal: 822ms\tremaining: 838ms\n",
      "495:\tlearn: 0.3207683\ttotal: 823ms\tremaining: 836ms\n",
      "496:\tlearn: 0.3206820\ttotal: 824ms\tremaining: 834ms\n",
      "497:\tlearn: 0.3206154\ttotal: 825ms\tremaining: 832ms\n",
      "498:\tlearn: 0.3205698\ttotal: 826ms\tremaining: 829ms\n",
      "499:\tlearn: 0.3205571\ttotal: 827ms\tremaining: 827ms\n",
      "500:\tlearn: 0.3204218\ttotal: 828ms\tremaining: 825ms\n",
      "501:\tlearn: 0.3203387\ttotal: 829ms\tremaining: 823ms\n",
      "502:\tlearn: 0.3202016\ttotal: 830ms\tremaining: 820ms\n",
      "503:\tlearn: 0.3201490\ttotal: 831ms\tremaining: 818ms\n",
      "504:\tlearn: 0.3200235\ttotal: 832ms\tremaining: 816ms\n",
      "505:\tlearn: 0.3199308\ttotal: 834ms\tremaining: 814ms\n",
      "506:\tlearn: 0.3197797\ttotal: 835ms\tremaining: 812ms\n",
      "507:\tlearn: 0.3197523\ttotal: 836ms\tremaining: 809ms\n",
      "508:\tlearn: 0.3196930\ttotal: 837ms\tremaining: 807ms\n",
      "509:\tlearn: 0.3195605\ttotal: 838ms\tremaining: 805ms\n",
      "510:\tlearn: 0.3193582\ttotal: 839ms\tremaining: 803ms\n",
      "511:\tlearn: 0.3192769\ttotal: 840ms\tremaining: 801ms\n",
      "512:\tlearn: 0.3192318\ttotal: 842ms\tremaining: 799ms\n",
      "513:\tlearn: 0.3191812\ttotal: 843ms\tremaining: 797ms\n",
      "514:\tlearn: 0.3191644\ttotal: 844ms\tremaining: 795ms\n",
      "515:\tlearn: 0.3190967\ttotal: 845ms\tremaining: 792ms\n",
      "516:\tlearn: 0.3190084\ttotal: 846ms\tremaining: 790ms\n",
      "517:\tlearn: 0.3189157\ttotal: 847ms\tremaining: 788ms\n",
      "518:\tlearn: 0.3188870\ttotal: 848ms\tremaining: 786ms\n",
      "519:\tlearn: 0.3186999\ttotal: 849ms\tremaining: 784ms\n",
      "520:\tlearn: 0.3185759\ttotal: 851ms\tremaining: 782ms\n",
      "521:\tlearn: 0.3184654\ttotal: 852ms\tremaining: 780ms\n",
      "522:\tlearn: 0.3183956\ttotal: 853ms\tremaining: 778ms\n",
      "523:\tlearn: 0.3183497\ttotal: 854ms\tremaining: 776ms\n",
      "524:\tlearn: 0.3182127\ttotal: 856ms\tremaining: 774ms\n",
      "525:\tlearn: 0.3181274\ttotal: 857ms\tremaining: 772ms\n",
      "526:\tlearn: 0.3179748\ttotal: 858ms\tremaining: 770ms\n",
      "527:\tlearn: 0.3179448\ttotal: 859ms\tremaining: 768ms\n",
      "528:\tlearn: 0.3177731\ttotal: 860ms\tremaining: 766ms\n",
      "529:\tlearn: 0.3176470\ttotal: 862ms\tremaining: 764ms\n",
      "530:\tlearn: 0.3174704\ttotal: 863ms\tremaining: 762ms\n",
      "531:\tlearn: 0.3174666\ttotal: 864ms\tremaining: 760ms\n",
      "532:\tlearn: 0.3173589\ttotal: 865ms\tremaining: 758ms\n",
      "533:\tlearn: 0.3172481\ttotal: 866ms\tremaining: 756ms\n",
      "534:\tlearn: 0.3171205\ttotal: 867ms\tremaining: 754ms\n",
      "535:\tlearn: 0.3169866\ttotal: 868ms\tremaining: 752ms\n"
     ]
    },
    {
     "name": "stdout",
     "output_type": "stream",
     "text": [
      "536:\tlearn: 0.3168518\ttotal: 870ms\tremaining: 750ms\n",
      "537:\tlearn: 0.3167204\ttotal: 872ms\tremaining: 748ms\n",
      "538:\tlearn: 0.3166055\ttotal: 873ms\tremaining: 747ms\n",
      "539:\tlearn: 0.3165221\ttotal: 874ms\tremaining: 745ms\n",
      "540:\tlearn: 0.3162873\ttotal: 876ms\tremaining: 743ms\n",
      "541:\tlearn: 0.3161902\ttotal: 877ms\tremaining: 741ms\n",
      "542:\tlearn: 0.3160631\ttotal: 878ms\tremaining: 739ms\n",
      "543:\tlearn: 0.3160489\ttotal: 879ms\tremaining: 737ms\n",
      "544:\tlearn: 0.3160143\ttotal: 881ms\tremaining: 735ms\n",
      "545:\tlearn: 0.3158719\ttotal: 883ms\tremaining: 734ms\n",
      "546:\tlearn: 0.3157622\ttotal: 884ms\tremaining: 732ms\n",
      "547:\tlearn: 0.3156430\ttotal: 886ms\tremaining: 731ms\n",
      "548:\tlearn: 0.3155095\ttotal: 893ms\tremaining: 734ms\n",
      "549:\tlearn: 0.3154662\ttotal: 900ms\tremaining: 737ms\n",
      "550:\tlearn: 0.3154395\ttotal: 907ms\tremaining: 739ms\n",
      "551:\tlearn: 0.3152952\ttotal: 909ms\tremaining: 738ms\n",
      "552:\tlearn: 0.3151851\ttotal: 916ms\tremaining: 741ms\n",
      "553:\tlearn: 0.3150494\ttotal: 918ms\tremaining: 739ms\n",
      "554:\tlearn: 0.3149935\ttotal: 919ms\tremaining: 737ms\n",
      "555:\tlearn: 0.3149062\ttotal: 921ms\tremaining: 735ms\n",
      "556:\tlearn: 0.3148375\ttotal: 922ms\tremaining: 734ms\n",
      "557:\tlearn: 0.3147080\ttotal: 924ms\tremaining: 732ms\n",
      "558:\tlearn: 0.3146650\ttotal: 925ms\tremaining: 730ms\n",
      "559:\tlearn: 0.3145305\ttotal: 926ms\tremaining: 728ms\n",
      "560:\tlearn: 0.3144038\ttotal: 927ms\tremaining: 726ms\n",
      "561:\tlearn: 0.3142639\ttotal: 928ms\tremaining: 724ms\n",
      "562:\tlearn: 0.3141410\ttotal: 930ms\tremaining: 722ms\n",
      "563:\tlearn: 0.3140036\ttotal: 931ms\tremaining: 720ms\n",
      "564:\tlearn: 0.3139101\ttotal: 932ms\tremaining: 718ms\n",
      "565:\tlearn: 0.3137664\ttotal: 933ms\tremaining: 716ms\n",
      "566:\tlearn: 0.3136141\ttotal: 934ms\tremaining: 714ms\n",
      "567:\tlearn: 0.3135614\ttotal: 935ms\tremaining: 711ms\n",
      "568:\tlearn: 0.3135251\ttotal: 936ms\tremaining: 709ms\n",
      "569:\tlearn: 0.3134569\ttotal: 937ms\tremaining: 707ms\n",
      "570:\tlearn: 0.3133435\ttotal: 939ms\tremaining: 705ms\n",
      "571:\tlearn: 0.3131947\ttotal: 940ms\tremaining: 703ms\n",
      "572:\tlearn: 0.3131016\ttotal: 941ms\tremaining: 701ms\n",
      "573:\tlearn: 0.3129784\ttotal: 942ms\tremaining: 699ms\n",
      "574:\tlearn: 0.3128869\ttotal: 943ms\tremaining: 697ms\n",
      "575:\tlearn: 0.3128432\ttotal: 944ms\tremaining: 695ms\n",
      "576:\tlearn: 0.3127596\ttotal: 946ms\tremaining: 693ms\n",
      "577:\tlearn: 0.3125680\ttotal: 947ms\tremaining: 691ms\n",
      "578:\tlearn: 0.3125012\ttotal: 948ms\tremaining: 689ms\n",
      "579:\tlearn: 0.3122677\ttotal: 949ms\tremaining: 687ms\n",
      "580:\tlearn: 0.3122442\ttotal: 950ms\tremaining: 685ms\n",
      "581:\tlearn: 0.3121030\ttotal: 951ms\tremaining: 683ms\n",
      "582:\tlearn: 0.3120348\ttotal: 952ms\tremaining: 681ms\n",
      "583:\tlearn: 0.3119736\ttotal: 953ms\tremaining: 679ms\n",
      "584:\tlearn: 0.3118411\ttotal: 955ms\tremaining: 677ms\n",
      "585:\tlearn: 0.3118039\ttotal: 956ms\tremaining: 675ms\n",
      "586:\tlearn: 0.3116816\ttotal: 957ms\tremaining: 673ms\n",
      "587:\tlearn: 0.3114574\ttotal: 958ms\tremaining: 671ms\n",
      "588:\tlearn: 0.3114146\ttotal: 959ms\tremaining: 669ms\n",
      "589:\tlearn: 0.3113459\ttotal: 961ms\tremaining: 668ms\n",
      "590:\tlearn: 0.3113011\ttotal: 962ms\tremaining: 666ms\n",
      "591:\tlearn: 0.3112497\ttotal: 963ms\tremaining: 664ms\n",
      "592:\tlearn: 0.3111555\ttotal: 964ms\tremaining: 662ms\n",
      "593:\tlearn: 0.3111242\ttotal: 965ms\tremaining: 660ms\n",
      "594:\tlearn: 0.3110268\ttotal: 967ms\tremaining: 658ms\n",
      "595:\tlearn: 0.3109656\ttotal: 968ms\tremaining: 656ms\n",
      "596:\tlearn: 0.3109399\ttotal: 969ms\tremaining: 654ms\n",
      "597:\tlearn: 0.3108241\ttotal: 970ms\tremaining: 652ms\n",
      "598:\tlearn: 0.3106663\ttotal: 971ms\tremaining: 650ms\n",
      "599:\tlearn: 0.3106435\ttotal: 972ms\tremaining: 648ms\n",
      "600:\tlearn: 0.3105549\ttotal: 973ms\tremaining: 646ms\n",
      "601:\tlearn: 0.3104838\ttotal: 975ms\tremaining: 645ms\n",
      "602:\tlearn: 0.3102917\ttotal: 977ms\tremaining: 643ms\n",
      "603:\tlearn: 0.3102448\ttotal: 978ms\tremaining: 641ms\n",
      "604:\tlearn: 0.3101705\ttotal: 980ms\tremaining: 640ms\n",
      "605:\tlearn: 0.3100398\ttotal: 981ms\tremaining: 638ms\n",
      "606:\tlearn: 0.3099089\ttotal: 982ms\tremaining: 636ms\n",
      "607:\tlearn: 0.3097309\ttotal: 983ms\tremaining: 634ms\n",
      "608:\tlearn: 0.3096703\ttotal: 984ms\tremaining: 632ms\n",
      "609:\tlearn: 0.3095405\ttotal: 986ms\tremaining: 630ms\n",
      "610:\tlearn: 0.3093394\ttotal: 987ms\tremaining: 629ms\n",
      "611:\tlearn: 0.3092571\ttotal: 988ms\tremaining: 627ms\n",
      "612:\tlearn: 0.3090800\ttotal: 990ms\tremaining: 625ms\n",
      "613:\tlearn: 0.3089159\ttotal: 991ms\tremaining: 623ms\n",
      "614:\tlearn: 0.3088797\ttotal: 992ms\tremaining: 621ms\n",
      "615:\tlearn: 0.3088266\ttotal: 993ms\tremaining: 619ms\n",
      "616:\tlearn: 0.3087518\ttotal: 994ms\tremaining: 617ms\n",
      "617:\tlearn: 0.3086910\ttotal: 996ms\tremaining: 615ms\n",
      "618:\tlearn: 0.3086560\ttotal: 997ms\tremaining: 613ms\n",
      "619:\tlearn: 0.3085234\ttotal: 998ms\tremaining: 612ms\n",
      "620:\tlearn: 0.3084440\ttotal: 999ms\tremaining: 610ms\n",
      "621:\tlearn: 0.3082914\ttotal: 1s\tremaining: 608ms\n",
      "622:\tlearn: 0.3082485\ttotal: 1s\tremaining: 606ms\n",
      "623:\tlearn: 0.3081774\ttotal: 1s\tremaining: 604ms\n",
      "624:\tlearn: 0.3080262\ttotal: 1s\tremaining: 603ms\n",
      "625:\tlearn: 0.3078988\ttotal: 1s\tremaining: 601ms\n",
      "626:\tlearn: 0.3078306\ttotal: 1.01s\tremaining: 599ms\n",
      "627:\tlearn: 0.3076922\ttotal: 1.01s\tremaining: 597ms\n",
      "628:\tlearn: 0.3076410\ttotal: 1.01s\tremaining: 595ms\n",
      "629:\tlearn: 0.3076123\ttotal: 1.01s\tremaining: 593ms\n",
      "630:\tlearn: 0.3075721\ttotal: 1.01s\tremaining: 591ms\n",
      "631:\tlearn: 0.3074329\ttotal: 1.01s\tremaining: 589ms\n",
      "632:\tlearn: 0.3073319\ttotal: 1.01s\tremaining: 588ms\n",
      "633:\tlearn: 0.3072854\ttotal: 1.01s\tremaining: 586ms\n",
      "634:\tlearn: 0.3072762\ttotal: 1.01s\tremaining: 584ms\n",
      "635:\tlearn: 0.3070659\ttotal: 1.02s\tremaining: 582ms\n",
      "636:\tlearn: 0.3069366\ttotal: 1.02s\tremaining: 580ms\n",
      "637:\tlearn: 0.3068461\ttotal: 1.02s\tremaining: 578ms\n",
      "638:\tlearn: 0.3067028\ttotal: 1.02s\tremaining: 576ms\n",
      "639:\tlearn: 0.3066202\ttotal: 1.02s\tremaining: 575ms\n",
      "640:\tlearn: 0.3065653\ttotal: 1.02s\tremaining: 573ms\n",
      "641:\tlearn: 0.3064446\ttotal: 1.02s\tremaining: 571ms\n",
      "642:\tlearn: 0.3063771\ttotal: 1.02s\tremaining: 569ms\n",
      "643:\tlearn: 0.3063111\ttotal: 1.03s\tremaining: 567ms\n",
      "644:\tlearn: 0.3062709\ttotal: 1.03s\tremaining: 565ms\n",
      "645:\tlearn: 0.3062071\ttotal: 1.03s\tremaining: 564ms\n",
      "646:\tlearn: 0.3061469\ttotal: 1.03s\tremaining: 562ms\n",
      "647:\tlearn: 0.3060501\ttotal: 1.03s\tremaining: 560ms\n",
      "648:\tlearn: 0.3059851\ttotal: 1.03s\tremaining: 558ms\n",
      "649:\tlearn: 0.3057549\ttotal: 1.03s\tremaining: 556ms\n",
      "650:\tlearn: 0.3055855\ttotal: 1.03s\tremaining: 555ms\n",
      "651:\tlearn: 0.3054722\ttotal: 1.03s\tremaining: 553ms\n",
      "652:\tlearn: 0.3054172\ttotal: 1.04s\tremaining: 551ms\n",
      "653:\tlearn: 0.3054156\ttotal: 1.04s\tremaining: 549ms\n",
      "654:\tlearn: 0.3053356\ttotal: 1.04s\tremaining: 547ms\n",
      "655:\tlearn: 0.3051727\ttotal: 1.04s\tremaining: 545ms\n",
      "656:\tlearn: 0.3048424\ttotal: 1.04s\tremaining: 544ms\n",
      "657:\tlearn: 0.3047724\ttotal: 1.04s\tremaining: 542ms\n",
      "658:\tlearn: 0.3046494\ttotal: 1.04s\tremaining: 540ms\n",
      "659:\tlearn: 0.3045373\ttotal: 1.04s\tremaining: 538ms\n",
      "660:\tlearn: 0.3044111\ttotal: 1.04s\tremaining: 536ms\n",
      "661:\tlearn: 0.3043026\ttotal: 1.05s\tremaining: 535ms\n",
      "662:\tlearn: 0.3042782\ttotal: 1.05s\tremaining: 533ms\n",
      "663:\tlearn: 0.3042710\ttotal: 1.05s\tremaining: 531ms\n",
      "664:\tlearn: 0.3041879\ttotal: 1.05s\tremaining: 529ms\n",
      "665:\tlearn: 0.3039638\ttotal: 1.05s\tremaining: 528ms\n",
      "666:\tlearn: 0.3039277\ttotal: 1.05s\tremaining: 526ms\n",
      "667:\tlearn: 0.3039027\ttotal: 1.05s\tremaining: 524ms\n",
      "668:\tlearn: 0.3038682\ttotal: 1.06s\tremaining: 523ms\n",
      "669:\tlearn: 0.3038284\ttotal: 1.06s\tremaining: 521ms\n",
      "670:\tlearn: 0.3036998\ttotal: 1.06s\tremaining: 519ms\n",
      "671:\tlearn: 0.3035472\ttotal: 1.06s\tremaining: 518ms\n",
      "672:\tlearn: 0.3034803\ttotal: 1.06s\tremaining: 516ms\n",
      "673:\tlearn: 0.3034112\ttotal: 1.06s\tremaining: 514ms\n",
      "674:\tlearn: 0.3032980\ttotal: 1.06s\tremaining: 513ms\n",
      "675:\tlearn: 0.3031729\ttotal: 1.06s\tremaining: 511ms\n",
      "676:\tlearn: 0.3030941\ttotal: 1.07s\tremaining: 509ms\n",
      "677:\tlearn: 0.3030254\ttotal: 1.07s\tremaining: 507ms\n",
      "678:\tlearn: 0.3028683\ttotal: 1.07s\tremaining: 506ms\n",
      "679:\tlearn: 0.3025898\ttotal: 1.07s\tremaining: 504ms\n",
      "680:\tlearn: 0.3024845\ttotal: 1.07s\tremaining: 502ms\n",
      "681:\tlearn: 0.3023013\ttotal: 1.07s\tremaining: 500ms\n",
      "682:\tlearn: 0.3021778\ttotal: 1.07s\tremaining: 499ms\n",
      "683:\tlearn: 0.3021006\ttotal: 1.07s\tremaining: 497ms\n",
      "684:\tlearn: 0.3020782\ttotal: 1.08s\tremaining: 495ms\n",
      "685:\tlearn: 0.3019861\ttotal: 1.08s\tremaining: 494ms\n",
      "686:\tlearn: 0.3018665\ttotal: 1.08s\tremaining: 492ms\n",
      "687:\tlearn: 0.3016265\ttotal: 1.08s\tremaining: 490ms\n",
      "688:\tlearn: 0.3015711\ttotal: 1.08s\tremaining: 488ms\n",
      "689:\tlearn: 0.3014189\ttotal: 1.08s\tremaining: 487ms\n",
      "690:\tlearn: 0.3012801\ttotal: 1.08s\tremaining: 485ms\n",
      "691:\tlearn: 0.3011968\ttotal: 1.08s\tremaining: 483ms\n",
      "692:\tlearn: 0.3011779\ttotal: 1.09s\tremaining: 481ms\n",
      "693:\tlearn: 0.3009867\ttotal: 1.09s\tremaining: 480ms\n",
      "694:\tlearn: 0.3008809\ttotal: 1.09s\tremaining: 478ms\n",
      "695:\tlearn: 0.3007949\ttotal: 1.09s\tremaining: 476ms\n",
      "696:\tlearn: 0.3006138\ttotal: 1.09s\tremaining: 475ms\n",
      "697:\tlearn: 0.3004992\ttotal: 1.09s\tremaining: 473ms\n",
      "698:\tlearn: 0.3004232\ttotal: 1.09s\tremaining: 471ms\n",
      "699:\tlearn: 0.3003879\ttotal: 1.09s\tremaining: 470ms\n",
      "700:\tlearn: 0.3003309\ttotal: 1.1s\tremaining: 468ms\n",
      "701:\tlearn: 0.3000873\ttotal: 1.1s\tremaining: 466ms\n",
      "702:\tlearn: 0.3000395\ttotal: 1.1s\tremaining: 464ms\n",
      "703:\tlearn: 0.2998596\ttotal: 1.1s\tremaining: 463ms\n",
      "704:\tlearn: 0.2998477\ttotal: 1.1s\tremaining: 461ms\n",
      "705:\tlearn: 0.2996593\ttotal: 1.1s\tremaining: 459ms\n",
      "706:\tlearn: 0.2996511\ttotal: 1.1s\tremaining: 457ms\n",
      "707:\tlearn: 0.2996065\ttotal: 1.1s\tremaining: 456ms\n",
      "708:\tlearn: 0.2995601\ttotal: 1.1s\tremaining: 454ms\n",
      "709:\tlearn: 0.2995326\ttotal: 1.11s\tremaining: 452ms\n",
      "710:\tlearn: 0.2994999\ttotal: 1.11s\tremaining: 451ms\n",
      "711:\tlearn: 0.2994524\ttotal: 1.11s\tremaining: 449ms\n",
      "712:\tlearn: 0.2993664\ttotal: 1.11s\tremaining: 447ms\n",
      "713:\tlearn: 0.2992902\ttotal: 1.11s\tremaining: 445ms\n",
      "714:\tlearn: 0.2992233\ttotal: 1.11s\tremaining: 444ms\n",
      "715:\tlearn: 0.2991190\ttotal: 1.11s\tremaining: 442ms\n",
      "716:\tlearn: 0.2989395\ttotal: 1.11s\tremaining: 440ms\n",
      "717:\tlearn: 0.2988815\ttotal: 1.12s\tremaining: 439ms\n",
      "718:\tlearn: 0.2987689\ttotal: 1.12s\tremaining: 437ms\n",
      "719:\tlearn: 0.2986629\ttotal: 1.12s\tremaining: 435ms\n",
      "720:\tlearn: 0.2985326\ttotal: 1.12s\tremaining: 434ms\n",
      "721:\tlearn: 0.2984373\ttotal: 1.12s\tremaining: 432ms\n",
      "722:\tlearn: 0.2981929\ttotal: 1.12s\tremaining: 430ms\n",
      "723:\tlearn: 0.2980915\ttotal: 1.12s\tremaining: 429ms\n",
      "724:\tlearn: 0.2980172\ttotal: 1.13s\tremaining: 427ms\n",
      "725:\tlearn: 0.2979360\ttotal: 1.13s\tremaining: 425ms\n",
      "726:\tlearn: 0.2978997\ttotal: 1.13s\tremaining: 423ms\n",
      "727:\tlearn: 0.2977588\ttotal: 1.13s\tremaining: 422ms\n",
      "728:\tlearn: 0.2977207\ttotal: 1.13s\tremaining: 420ms\n",
      "729:\tlearn: 0.2976582\ttotal: 1.13s\tremaining: 418ms\n",
      "730:\tlearn: 0.2974726\ttotal: 1.13s\tremaining: 417ms\n",
      "731:\tlearn: 0.2974561\ttotal: 1.13s\tremaining: 415ms\n",
      "732:\tlearn: 0.2972700\ttotal: 1.13s\tremaining: 413ms\n",
      "733:\tlearn: 0.2971722\ttotal: 1.14s\tremaining: 412ms\n",
      "734:\tlearn: 0.2970738\ttotal: 1.14s\tremaining: 410ms\n",
      "735:\tlearn: 0.2969758\ttotal: 1.14s\tremaining: 408ms\n",
      "736:\tlearn: 0.2968227\ttotal: 1.14s\tremaining: 407ms\n",
      "737:\tlearn: 0.2967459\ttotal: 1.14s\tremaining: 405ms\n",
      "738:\tlearn: 0.2966232\ttotal: 1.14s\tremaining: 403ms\n",
      "739:\tlearn: 0.2965770\ttotal: 1.14s\tremaining: 402ms\n",
      "740:\tlearn: 0.2964823\ttotal: 1.14s\tremaining: 400ms\n",
      "741:\tlearn: 0.2962899\ttotal: 1.15s\tremaining: 398ms\n",
      "742:\tlearn: 0.2962291\ttotal: 1.15s\tremaining: 397ms\n",
      "743:\tlearn: 0.2961570\ttotal: 1.15s\tremaining: 395ms\n",
      "744:\tlearn: 0.2960479\ttotal: 1.15s\tremaining: 393ms\n",
      "745:\tlearn: 0.2959501\ttotal: 1.15s\tremaining: 392ms\n",
      "746:\tlearn: 0.2957340\ttotal: 1.15s\tremaining: 390ms\n",
      "747:\tlearn: 0.2956664\ttotal: 1.15s\tremaining: 388ms\n",
      "748:\tlearn: 0.2955895\ttotal: 1.15s\tremaining: 387ms\n",
      "749:\tlearn: 0.2954778\ttotal: 1.16s\tremaining: 385ms\n",
      "750:\tlearn: 0.2954182\ttotal: 1.16s\tremaining: 384ms\n",
      "751:\tlearn: 0.2952787\ttotal: 1.16s\tremaining: 382ms\n",
      "752:\tlearn: 0.2951918\ttotal: 1.16s\tremaining: 380ms\n",
      "753:\tlearn: 0.2951118\ttotal: 1.16s\tremaining: 379ms\n",
      "754:\tlearn: 0.2950906\ttotal: 1.16s\tremaining: 377ms\n",
      "755:\tlearn: 0.2950102\ttotal: 1.16s\tremaining: 375ms\n",
      "756:\tlearn: 0.2949738\ttotal: 1.16s\tremaining: 374ms\n",
      "757:\tlearn: 0.2948319\ttotal: 1.16s\tremaining: 372ms\n",
      "758:\tlearn: 0.2947616\ttotal: 1.17s\tremaining: 370ms\n",
      "759:\tlearn: 0.2946534\ttotal: 1.17s\tremaining: 369ms\n",
      "760:\tlearn: 0.2945754\ttotal: 1.17s\tremaining: 367ms\n",
      "761:\tlearn: 0.2945490\ttotal: 1.17s\tremaining: 365ms\n",
      "762:\tlearn: 0.2944797\ttotal: 1.17s\tremaining: 364ms\n",
      "763:\tlearn: 0.2943828\ttotal: 1.17s\tremaining: 362ms\n",
      "764:\tlearn: 0.2942240\ttotal: 1.17s\tremaining: 360ms\n",
      "765:\tlearn: 0.2941515\ttotal: 1.17s\tremaining: 359ms\n",
      "766:\tlearn: 0.2940593\ttotal: 1.18s\tremaining: 357ms\n",
      "767:\tlearn: 0.2939045\ttotal: 1.18s\tremaining: 355ms\n",
      "768:\tlearn: 0.2938063\ttotal: 1.18s\tremaining: 354ms\n",
      "769:\tlearn: 0.2937732\ttotal: 1.18s\tremaining: 352ms\n",
      "770:\tlearn: 0.2937376\ttotal: 1.18s\tremaining: 350ms\n",
      "771:\tlearn: 0.2936472\ttotal: 1.18s\tremaining: 349ms\n",
      "772:\tlearn: 0.2935958\ttotal: 1.18s\tremaining: 347ms\n",
      "773:\tlearn: 0.2935463\ttotal: 1.18s\tremaining: 346ms\n",
      "774:\tlearn: 0.2934634\ttotal: 1.18s\tremaining: 344ms\n",
      "775:\tlearn: 0.2934002\ttotal: 1.19s\tremaining: 342ms\n",
      "776:\tlearn: 0.2933865\ttotal: 1.19s\tremaining: 341ms\n",
      "777:\tlearn: 0.2932702\ttotal: 1.19s\tremaining: 339ms\n",
      "778:\tlearn: 0.2931401\ttotal: 1.19s\tremaining: 338ms\n",
      "779:\tlearn: 0.2930166\ttotal: 1.19s\tremaining: 336ms\n",
      "780:\tlearn: 0.2929484\ttotal: 1.19s\tremaining: 334ms\n",
      "781:\tlearn: 0.2927582\ttotal: 1.19s\tremaining: 333ms\n",
      "782:\tlearn: 0.2926607\ttotal: 1.19s\tremaining: 331ms\n",
      "783:\tlearn: 0.2925833\ttotal: 1.2s\tremaining: 329ms\n",
      "784:\tlearn: 0.2924885\ttotal: 1.2s\tremaining: 328ms\n",
      "785:\tlearn: 0.2923413\ttotal: 1.2s\tremaining: 326ms\n",
      "786:\tlearn: 0.2922008\ttotal: 1.2s\tremaining: 325ms\n",
      "787:\tlearn: 0.2921624\ttotal: 1.2s\tremaining: 323ms\n",
      "788:\tlearn: 0.2920682\ttotal: 1.2s\tremaining: 321ms\n",
      "789:\tlearn: 0.2919244\ttotal: 1.2s\tremaining: 320ms\n",
      "790:\tlearn: 0.2917267\ttotal: 1.2s\tremaining: 318ms\n",
      "791:\tlearn: 0.2916942\ttotal: 1.21s\tremaining: 317ms\n",
      "792:\tlearn: 0.2915512\ttotal: 1.21s\tremaining: 315ms\n",
      "793:\tlearn: 0.2914438\ttotal: 1.21s\tremaining: 313ms\n",
      "794:\tlearn: 0.2912210\ttotal: 1.21s\tremaining: 312ms\n",
      "795:\tlearn: 0.2911864\ttotal: 1.21s\tremaining: 310ms\n",
      "796:\tlearn: 0.2911091\ttotal: 1.21s\tremaining: 309ms\n",
      "797:\tlearn: 0.2909155\ttotal: 1.21s\tremaining: 307ms\n",
      "798:\tlearn: 0.2908483\ttotal: 1.21s\tremaining: 305ms\n",
      "799:\tlearn: 0.2907192\ttotal: 1.21s\tremaining: 304ms\n",
      "800:\tlearn: 0.2905821\ttotal: 1.22s\tremaining: 302ms\n",
      "801:\tlearn: 0.2904511\ttotal: 1.22s\tremaining: 301ms\n",
      "802:\tlearn: 0.2903726\ttotal: 1.22s\tremaining: 299ms\n",
      "803:\tlearn: 0.2901819\ttotal: 1.22s\tremaining: 297ms\n",
      "804:\tlearn: 0.2901489\ttotal: 1.22s\tremaining: 296ms\n",
      "805:\tlearn: 0.2900751\ttotal: 1.22s\tremaining: 294ms\n",
      "806:\tlearn: 0.2899555\ttotal: 1.22s\tremaining: 293ms\n",
      "807:\tlearn: 0.2898802\ttotal: 1.22s\tremaining: 291ms\n",
      "808:\tlearn: 0.2898107\ttotal: 1.23s\tremaining: 289ms\n",
      "809:\tlearn: 0.2897561\ttotal: 1.23s\tremaining: 288ms\n",
      "810:\tlearn: 0.2896152\ttotal: 1.23s\tremaining: 286ms\n",
      "811:\tlearn: 0.2895819\ttotal: 1.23s\tremaining: 285ms\n",
      "812:\tlearn: 0.2895442\ttotal: 1.23s\tremaining: 283ms\n",
      "813:\tlearn: 0.2894984\ttotal: 1.23s\tremaining: 281ms\n",
      "814:\tlearn: 0.2894235\ttotal: 1.23s\tremaining: 280ms\n"
     ]
    },
    {
     "name": "stdout",
     "output_type": "stream",
     "text": [
      "815:\tlearn: 0.2893548\ttotal: 1.24s\tremaining: 279ms\n",
      "816:\tlearn: 0.2893103\ttotal: 1.24s\tremaining: 277ms\n",
      "817:\tlearn: 0.2892073\ttotal: 1.24s\tremaining: 275ms\n",
      "818:\tlearn: 0.2891125\ttotal: 1.24s\tremaining: 274ms\n",
      "819:\tlearn: 0.2890888\ttotal: 1.24s\tremaining: 272ms\n",
      "820:\tlearn: 0.2889800\ttotal: 1.24s\tremaining: 271ms\n",
      "821:\tlearn: 0.2888932\ttotal: 1.24s\tremaining: 269ms\n",
      "822:\tlearn: 0.2888239\ttotal: 1.24s\tremaining: 268ms\n",
      "823:\tlearn: 0.2887510\ttotal: 1.25s\tremaining: 266ms\n",
      "824:\tlearn: 0.2886825\ttotal: 1.25s\tremaining: 265ms\n",
      "825:\tlearn: 0.2885742\ttotal: 1.25s\tremaining: 263ms\n",
      "826:\tlearn: 0.2883841\ttotal: 1.25s\tremaining: 262ms\n",
      "827:\tlearn: 0.2883397\ttotal: 1.25s\tremaining: 260ms\n",
      "828:\tlearn: 0.2882798\ttotal: 1.25s\tremaining: 258ms\n",
      "829:\tlearn: 0.2882528\ttotal: 1.25s\tremaining: 257ms\n",
      "830:\tlearn: 0.2882485\ttotal: 1.25s\tremaining: 255ms\n",
      "831:\tlearn: 0.2881960\ttotal: 1.25s\tremaining: 254ms\n",
      "832:\tlearn: 0.2881588\ttotal: 1.26s\tremaining: 252ms\n",
      "833:\tlearn: 0.2881360\ttotal: 1.26s\tremaining: 250ms\n",
      "834:\tlearn: 0.2881076\ttotal: 1.26s\tremaining: 249ms\n",
      "835:\tlearn: 0.2879497\ttotal: 1.26s\tremaining: 247ms\n",
      "836:\tlearn: 0.2878899\ttotal: 1.26s\tremaining: 246ms\n",
      "837:\tlearn: 0.2877044\ttotal: 1.26s\tremaining: 244ms\n",
      "838:\tlearn: 0.2876620\ttotal: 1.26s\tremaining: 243ms\n",
      "839:\tlearn: 0.2875065\ttotal: 1.26s\tremaining: 241ms\n",
      "840:\tlearn: 0.2874109\ttotal: 1.27s\tremaining: 240ms\n",
      "841:\tlearn: 0.2872192\ttotal: 1.27s\tremaining: 238ms\n",
      "842:\tlearn: 0.2871055\ttotal: 1.27s\tremaining: 236ms\n",
      "843:\tlearn: 0.2869611\ttotal: 1.27s\tremaining: 235ms\n",
      "844:\tlearn: 0.2867878\ttotal: 1.27s\tremaining: 233ms\n",
      "845:\tlearn: 0.2867668\ttotal: 1.27s\tremaining: 232ms\n",
      "846:\tlearn: 0.2867392\ttotal: 1.27s\tremaining: 230ms\n",
      "847:\tlearn: 0.2866496\ttotal: 1.27s\tremaining: 229ms\n",
      "848:\tlearn: 0.2866031\ttotal: 1.28s\tremaining: 227ms\n",
      "849:\tlearn: 0.2865451\ttotal: 1.28s\tremaining: 225ms\n",
      "850:\tlearn: 0.2864803\ttotal: 1.28s\tremaining: 224ms\n",
      "851:\tlearn: 0.2863219\ttotal: 1.28s\tremaining: 222ms\n",
      "852:\tlearn: 0.2862553\ttotal: 1.28s\tremaining: 221ms\n",
      "853:\tlearn: 0.2861422\ttotal: 1.28s\tremaining: 219ms\n",
      "854:\tlearn: 0.2860831\ttotal: 1.28s\tremaining: 218ms\n",
      "855:\tlearn: 0.2859068\ttotal: 1.28s\tremaining: 216ms\n",
      "856:\tlearn: 0.2857904\ttotal: 1.29s\tremaining: 215ms\n",
      "857:\tlearn: 0.2857386\ttotal: 1.29s\tremaining: 213ms\n",
      "858:\tlearn: 0.2856645\ttotal: 1.29s\tremaining: 212ms\n",
      "859:\tlearn: 0.2855951\ttotal: 1.29s\tremaining: 210ms\n",
      "860:\tlearn: 0.2855688\ttotal: 1.29s\tremaining: 208ms\n",
      "861:\tlearn: 0.2855126\ttotal: 1.29s\tremaining: 207ms\n",
      "862:\tlearn: 0.2853940\ttotal: 1.29s\tremaining: 205ms\n",
      "863:\tlearn: 0.2852958\ttotal: 1.29s\tremaining: 204ms\n",
      "864:\tlearn: 0.2851469\ttotal: 1.29s\tremaining: 202ms\n",
      "865:\tlearn: 0.2850299\ttotal: 1.3s\tremaining: 201ms\n",
      "866:\tlearn: 0.2849715\ttotal: 1.3s\tremaining: 199ms\n",
      "867:\tlearn: 0.2848968\ttotal: 1.3s\tremaining: 198ms\n",
      "868:\tlearn: 0.2847062\ttotal: 1.3s\tremaining: 196ms\n",
      "869:\tlearn: 0.2845797\ttotal: 1.3s\tremaining: 195ms\n",
      "870:\tlearn: 0.2844561\ttotal: 1.3s\tremaining: 193ms\n",
      "871:\tlearn: 0.2844037\ttotal: 1.3s\tremaining: 191ms\n",
      "872:\tlearn: 0.2842588\ttotal: 1.3s\tremaining: 190ms\n",
      "873:\tlearn: 0.2842409\ttotal: 1.31s\tremaining: 188ms\n",
      "874:\tlearn: 0.2842089\ttotal: 1.31s\tremaining: 187ms\n",
      "875:\tlearn: 0.2841993\ttotal: 1.31s\tremaining: 185ms\n",
      "876:\tlearn: 0.2840929\ttotal: 1.31s\tremaining: 184ms\n",
      "877:\tlearn: 0.2840152\ttotal: 1.31s\tremaining: 182ms\n",
      "878:\tlearn: 0.2839620\ttotal: 1.31s\tremaining: 181ms\n",
      "879:\tlearn: 0.2838436\ttotal: 1.31s\tremaining: 179ms\n",
      "880:\tlearn: 0.2837115\ttotal: 1.31s\tremaining: 178ms\n",
      "881:\tlearn: 0.2836316\ttotal: 1.32s\tremaining: 176ms\n",
      "882:\tlearn: 0.2835676\ttotal: 1.32s\tremaining: 175ms\n",
      "883:\tlearn: 0.2835582\ttotal: 1.32s\tremaining: 173ms\n",
      "884:\tlearn: 0.2835491\ttotal: 1.32s\tremaining: 171ms\n",
      "885:\tlearn: 0.2835113\ttotal: 1.32s\tremaining: 170ms\n",
      "886:\tlearn: 0.2834694\ttotal: 1.32s\tremaining: 168ms\n",
      "887:\tlearn: 0.2833671\ttotal: 1.32s\tremaining: 167ms\n",
      "888:\tlearn: 0.2832706\ttotal: 1.32s\tremaining: 165ms\n",
      "889:\tlearn: 0.2831931\ttotal: 1.32s\tremaining: 164ms\n",
      "890:\tlearn: 0.2830970\ttotal: 1.33s\tremaining: 162ms\n",
      "891:\tlearn: 0.2830592\ttotal: 1.33s\tremaining: 161ms\n",
      "892:\tlearn: 0.2830144\ttotal: 1.33s\tremaining: 159ms\n",
      "893:\tlearn: 0.2829375\ttotal: 1.33s\tremaining: 158ms\n",
      "894:\tlearn: 0.2828883\ttotal: 1.33s\tremaining: 156ms\n",
      "895:\tlearn: 0.2828261\ttotal: 1.33s\tremaining: 155ms\n",
      "896:\tlearn: 0.2828237\ttotal: 1.33s\tremaining: 153ms\n",
      "897:\tlearn: 0.2828048\ttotal: 1.33s\tremaining: 152ms\n",
      "898:\tlearn: 0.2827788\ttotal: 1.33s\tremaining: 150ms\n",
      "899:\tlearn: 0.2826588\ttotal: 1.34s\tremaining: 148ms\n",
      "900:\tlearn: 0.2825464\ttotal: 1.34s\tremaining: 147ms\n",
      "901:\tlearn: 0.2825360\ttotal: 1.34s\tremaining: 145ms\n",
      "902:\tlearn: 0.2825096\ttotal: 1.34s\tremaining: 144ms\n",
      "903:\tlearn: 0.2824555\ttotal: 1.34s\tremaining: 142ms\n",
      "904:\tlearn: 0.2823898\ttotal: 1.34s\tremaining: 141ms\n",
      "905:\tlearn: 0.2822577\ttotal: 1.34s\tremaining: 139ms\n",
      "906:\tlearn: 0.2822100\ttotal: 1.34s\tremaining: 138ms\n",
      "907:\tlearn: 0.2821597\ttotal: 1.34s\tremaining: 136ms\n",
      "908:\tlearn: 0.2820008\ttotal: 1.35s\tremaining: 135ms\n",
      "909:\tlearn: 0.2818829\ttotal: 1.35s\tremaining: 133ms\n",
      "910:\tlearn: 0.2817453\ttotal: 1.35s\tremaining: 132ms\n",
      "911:\tlearn: 0.2817196\ttotal: 1.35s\tremaining: 130ms\n",
      "912:\tlearn: 0.2816234\ttotal: 1.35s\tremaining: 129ms\n",
      "913:\tlearn: 0.2814508\ttotal: 1.35s\tremaining: 127ms\n",
      "914:\tlearn: 0.2813428\ttotal: 1.35s\tremaining: 126ms\n",
      "915:\tlearn: 0.2812674\ttotal: 1.35s\tremaining: 124ms\n",
      "916:\tlearn: 0.2812132\ttotal: 1.36s\tremaining: 123ms\n",
      "917:\tlearn: 0.2810817\ttotal: 1.36s\tremaining: 121ms\n",
      "918:\tlearn: 0.2810433\ttotal: 1.36s\tremaining: 120ms\n",
      "919:\tlearn: 0.2809373\ttotal: 1.36s\tremaining: 118ms\n",
      "920:\tlearn: 0.2809266\ttotal: 1.36s\tremaining: 117ms\n",
      "921:\tlearn: 0.2806532\ttotal: 1.36s\tremaining: 115ms\n",
      "922:\tlearn: 0.2806250\ttotal: 1.36s\tremaining: 114ms\n",
      "923:\tlearn: 0.2805705\ttotal: 1.36s\tremaining: 112ms\n",
      "924:\tlearn: 0.2805404\ttotal: 1.36s\tremaining: 111ms\n",
      "925:\tlearn: 0.2805020\ttotal: 1.37s\tremaining: 109ms\n",
      "926:\tlearn: 0.2804483\ttotal: 1.37s\tremaining: 108ms\n",
      "927:\tlearn: 0.2803394\ttotal: 1.37s\tremaining: 106ms\n",
      "928:\tlearn: 0.2802243\ttotal: 1.37s\tremaining: 105ms\n",
      "929:\tlearn: 0.2800651\ttotal: 1.37s\tremaining: 103ms\n",
      "930:\tlearn: 0.2799782\ttotal: 1.37s\tremaining: 102ms\n",
      "931:\tlearn: 0.2798729\ttotal: 1.37s\tremaining: 100ms\n",
      "932:\tlearn: 0.2798034\ttotal: 1.38s\tremaining: 98.8ms\n",
      "933:\tlearn: 0.2797017\ttotal: 1.38s\tremaining: 97.3ms\n",
      "934:\tlearn: 0.2795654\ttotal: 1.38s\tremaining: 95.8ms\n",
      "935:\tlearn: 0.2795579\ttotal: 1.38s\tremaining: 94.3ms\n",
      "936:\tlearn: 0.2795338\ttotal: 1.38s\tremaining: 92.8ms\n",
      "937:\tlearn: 0.2794459\ttotal: 1.38s\tremaining: 91.3ms\n",
      "938:\tlearn: 0.2794371\ttotal: 1.38s\tremaining: 89.8ms\n",
      "939:\tlearn: 0.2792862\ttotal: 1.38s\tremaining: 88.3ms\n",
      "940:\tlearn: 0.2791738\ttotal: 1.39s\tremaining: 86.8ms\n",
      "941:\tlearn: 0.2791484\ttotal: 1.39s\tremaining: 85.4ms\n",
      "942:\tlearn: 0.2790792\ttotal: 1.39s\tremaining: 83.9ms\n",
      "943:\tlearn: 0.2789329\ttotal: 1.39s\tremaining: 82.4ms\n",
      "944:\tlearn: 0.2787531\ttotal: 1.39s\tremaining: 80.9ms\n",
      "945:\tlearn: 0.2786440\ttotal: 1.39s\tremaining: 79.4ms\n",
      "946:\tlearn: 0.2786260\ttotal: 1.39s\tremaining: 77.9ms\n",
      "947:\tlearn: 0.2785531\ttotal: 1.39s\tremaining: 76.4ms\n",
      "948:\tlearn: 0.2785275\ttotal: 1.39s\tremaining: 74.9ms\n",
      "949:\tlearn: 0.2784800\ttotal: 1.4s\tremaining: 73.5ms\n",
      "950:\tlearn: 0.2784230\ttotal: 1.4s\tremaining: 72ms\n",
      "951:\tlearn: 0.2783436\ttotal: 1.4s\tremaining: 70.5ms\n",
      "952:\tlearn: 0.2783173\ttotal: 1.4s\tremaining: 69ms\n",
      "953:\tlearn: 0.2782032\ttotal: 1.4s\tremaining: 67.5ms\n",
      "954:\tlearn: 0.2781057\ttotal: 1.4s\tremaining: 66.1ms\n",
      "955:\tlearn: 0.2780410\ttotal: 1.4s\tremaining: 64.6ms\n",
      "956:\tlearn: 0.2779651\ttotal: 1.41s\tremaining: 63.1ms\n",
      "957:\tlearn: 0.2778415\ttotal: 1.41s\tremaining: 61.7ms\n",
      "958:\tlearn: 0.2777092\ttotal: 1.41s\tremaining: 60.2ms\n",
      "959:\tlearn: 0.2775429\ttotal: 1.41s\tremaining: 58.7ms\n",
      "960:\tlearn: 0.2774494\ttotal: 1.41s\tremaining: 57.3ms\n",
      "961:\tlearn: 0.2774134\ttotal: 1.41s\tremaining: 55.8ms\n",
      "962:\tlearn: 0.2773870\ttotal: 1.41s\tremaining: 54.3ms\n",
      "963:\tlearn: 0.2773468\ttotal: 1.41s\tremaining: 52.8ms\n",
      "964:\tlearn: 0.2772347\ttotal: 1.42s\tremaining: 51.4ms\n",
      "965:\tlearn: 0.2771065\ttotal: 1.42s\tremaining: 49.9ms\n",
      "966:\tlearn: 0.2770228\ttotal: 1.42s\tremaining: 48.4ms\n",
      "967:\tlearn: 0.2769852\ttotal: 1.42s\tremaining: 46.9ms\n",
      "968:\tlearn: 0.2768621\ttotal: 1.42s\tremaining: 45.5ms\n",
      "969:\tlearn: 0.2768276\ttotal: 1.42s\tremaining: 44ms\n",
      "970:\tlearn: 0.2768012\ttotal: 1.42s\tremaining: 42.5ms\n",
      "971:\tlearn: 0.2767545\ttotal: 1.42s\tremaining: 41ms\n",
      "972:\tlearn: 0.2767051\ttotal: 1.43s\tremaining: 39.6ms\n",
      "973:\tlearn: 0.2766736\ttotal: 1.43s\tremaining: 38.1ms\n",
      "974:\tlearn: 0.2765402\ttotal: 1.43s\tremaining: 36.6ms\n",
      "975:\tlearn: 0.2764196\ttotal: 1.43s\tremaining: 35.2ms\n",
      "976:\tlearn: 0.2763696\ttotal: 1.43s\tremaining: 33.7ms\n",
      "977:\tlearn: 0.2763614\ttotal: 1.43s\tremaining: 32.2ms\n",
      "978:\tlearn: 0.2763270\ttotal: 1.43s\tremaining: 30.7ms\n",
      "979:\tlearn: 0.2761212\ttotal: 1.43s\tremaining: 29.3ms\n",
      "980:\tlearn: 0.2760917\ttotal: 1.44s\tremaining: 27.8ms\n",
      "981:\tlearn: 0.2760718\ttotal: 1.44s\tremaining: 26.3ms\n",
      "982:\tlearn: 0.2760282\ttotal: 1.44s\tremaining: 24.9ms\n",
      "983:\tlearn: 0.2759688\ttotal: 1.44s\tremaining: 23.4ms\n",
      "984:\tlearn: 0.2759102\ttotal: 1.44s\tremaining: 21.9ms\n",
      "985:\tlearn: 0.2757202\ttotal: 1.44s\tremaining: 20.5ms\n",
      "986:\tlearn: 0.2755923\ttotal: 1.44s\tremaining: 19ms\n",
      "987:\tlearn: 0.2755763\ttotal: 1.44s\tremaining: 17.5ms\n",
      "988:\tlearn: 0.2754794\ttotal: 1.45s\tremaining: 16.1ms\n",
      "989:\tlearn: 0.2753638\ttotal: 1.45s\tremaining: 14.6ms\n",
      "990:\tlearn: 0.2753427\ttotal: 1.45s\tremaining: 13.1ms\n",
      "991:\tlearn: 0.2752940\ttotal: 1.45s\tremaining: 11.7ms\n",
      "992:\tlearn: 0.2752202\ttotal: 1.45s\tremaining: 10.2ms\n",
      "993:\tlearn: 0.2751934\ttotal: 1.45s\tremaining: 8.76ms\n",
      "994:\tlearn: 0.2751239\ttotal: 1.45s\tremaining: 7.3ms\n",
      "995:\tlearn: 0.2750495\ttotal: 1.45s\tremaining: 5.84ms\n",
      "996:\tlearn: 0.2749331\ttotal: 1.46s\tremaining: 4.38ms\n",
      "997:\tlearn: 0.2749147\ttotal: 1.46s\tremaining: 2.92ms\n",
      "998:\tlearn: 0.2748663\ttotal: 1.46s\tremaining: 1.46ms\n",
      "999:\tlearn: 0.2748102\ttotal: 1.46s\tremaining: 0us\n"
     ]
    },
    {
     "data": {
      "text/plain": [
       "<catboost.core.CatBoostClassifier at 0x2a922816460>"
      ]
     },
     "execution_count": 92,
     "metadata": {},
     "output_type": "execute_result"
    }
   ],
   "source": [
    "cat.fit(x_train,y_train)"
   ]
  },
  {
   "cell_type": "code",
   "execution_count": 93,
   "id": "78d7cfd1",
   "metadata": {},
   "outputs": [],
   "source": [
    "y_pred_cat=cat.predict(x_test)"
   ]
  },
  {
   "cell_type": "code",
   "execution_count": 94,
   "id": "6e7e1de0",
   "metadata": {},
   "outputs": [
    {
     "data": {
      "text/plain": [
       "array([0, 1, 1, 0, 1, 0, 0, 0, 1, 1, 0, 0, 0, 0, 0, 0, 1, 0, 0, 0, 0, 1,\n",
       "       0, 1, 0, 0, 0, 1, 0, 0, 0, 1, 0, 0, 0, 0, 1, 1, 0, 0, 0, 0, 0, 0,\n",
       "       1, 0, 1, 0, 0, 1, 1, 1, 0, 0, 1, 1, 0, 0, 0, 0, 0, 0, 1, 0, 1, 0,\n",
       "       0, 1, 1, 1, 0, 1, 1, 0, 0, 1, 0, 0, 1, 1, 0, 1, 1, 1, 0, 0, 0, 0,\n",
       "       0, 0, 0, 0, 0, 0, 1, 1, 0, 0, 1, 0, 0, 1, 0, 0, 0, 0, 0, 1, 0, 0,\n",
       "       0, 0, 0, 1, 0, 0, 0, 0, 0, 0, 1, 1, 0, 0, 1, 1, 1, 1, 1, 0, 1, 0,\n",
       "       0, 0, 0, 1, 0, 1, 0, 1, 1, 0, 1, 0, 1, 0, 0, 1, 0, 1, 0, 1, 0, 1,\n",
       "       0, 1, 0, 0, 0, 1, 0, 1, 0, 0, 0, 1, 1, 0, 0, 1, 1, 1, 1, 0, 1, 0,\n",
       "       0, 1], dtype=int64)"
      ]
     },
     "execution_count": 94,
     "metadata": {},
     "output_type": "execute_result"
    }
   ],
   "source": [
    "y_pred_cat"
   ]
  },
  {
   "cell_type": "code",
   "execution_count": 95,
   "id": "b3086c51",
   "metadata": {},
   "outputs": [
    {
     "data": {
      "text/plain": [
       "0.797752808988764"
      ]
     },
     "execution_count": 95,
     "metadata": {},
     "output_type": "execute_result"
    }
   ],
   "source": [
    "accuracy_score(y_test,y_pred_cat)"
   ]
  },
  {
   "cell_type": "markdown",
   "id": "d2b18f16",
   "metadata": {},
   "source": [
    "# Gradient_Boost"
   ]
  },
  {
   "cell_type": "code",
   "execution_count": 96,
   "id": "86fecfd2",
   "metadata": {},
   "outputs": [],
   "source": [
    "from sklearn.ensemble import GradientBoostingClassifier"
   ]
  },
  {
   "cell_type": "code",
   "execution_count": 97,
   "id": "a9f819f1",
   "metadata": {},
   "outputs": [],
   "source": [
    "gbc=GradientBoostingClassifier()"
   ]
  },
  {
   "cell_type": "code",
   "execution_count": 98,
   "id": "d6592808",
   "metadata": {},
   "outputs": [
    {
     "data": {
      "text/html": [
       "<style>#sk-container-id-6 {color: black;background-color: white;}#sk-container-id-6 pre{padding: 0;}#sk-container-id-6 div.sk-toggleable {background-color: white;}#sk-container-id-6 label.sk-toggleable__label {cursor: pointer;display: block;width: 100%;margin-bottom: 0;padding: 0.3em;box-sizing: border-box;text-align: center;}#sk-container-id-6 label.sk-toggleable__label-arrow:before {content: \"▸\";float: left;margin-right: 0.25em;color: #696969;}#sk-container-id-6 label.sk-toggleable__label-arrow:hover:before {color: black;}#sk-container-id-6 div.sk-estimator:hover label.sk-toggleable__label-arrow:before {color: black;}#sk-container-id-6 div.sk-toggleable__content {max-height: 0;max-width: 0;overflow: hidden;text-align: left;background-color: #f0f8ff;}#sk-container-id-6 div.sk-toggleable__content pre {margin: 0.2em;color: black;border-radius: 0.25em;background-color: #f0f8ff;}#sk-container-id-6 input.sk-toggleable__control:checked~div.sk-toggleable__content {max-height: 200px;max-width: 100%;overflow: auto;}#sk-container-id-6 input.sk-toggleable__control:checked~label.sk-toggleable__label-arrow:before {content: \"▾\";}#sk-container-id-6 div.sk-estimator input.sk-toggleable__control:checked~label.sk-toggleable__label {background-color: #d4ebff;}#sk-container-id-6 div.sk-label input.sk-toggleable__control:checked~label.sk-toggleable__label {background-color: #d4ebff;}#sk-container-id-6 input.sk-hidden--visually {border: 0;clip: rect(1px 1px 1px 1px);clip: rect(1px, 1px, 1px, 1px);height: 1px;margin: -1px;overflow: hidden;padding: 0;position: absolute;width: 1px;}#sk-container-id-6 div.sk-estimator {font-family: monospace;background-color: #f0f8ff;border: 1px dotted black;border-radius: 0.25em;box-sizing: border-box;margin-bottom: 0.5em;}#sk-container-id-6 div.sk-estimator:hover {background-color: #d4ebff;}#sk-container-id-6 div.sk-parallel-item::after {content: \"\";width: 100%;border-bottom: 1px solid gray;flex-grow: 1;}#sk-container-id-6 div.sk-label:hover label.sk-toggleable__label {background-color: #d4ebff;}#sk-container-id-6 div.sk-serial::before {content: \"\";position: absolute;border-left: 1px solid gray;box-sizing: border-box;top: 0;bottom: 0;left: 50%;z-index: 0;}#sk-container-id-6 div.sk-serial {display: flex;flex-direction: column;align-items: center;background-color: white;padding-right: 0.2em;padding-left: 0.2em;position: relative;}#sk-container-id-6 div.sk-item {position: relative;z-index: 1;}#sk-container-id-6 div.sk-parallel {display: flex;align-items: stretch;justify-content: center;background-color: white;position: relative;}#sk-container-id-6 div.sk-item::before, #sk-container-id-6 div.sk-parallel-item::before {content: \"\";position: absolute;border-left: 1px solid gray;box-sizing: border-box;top: 0;bottom: 0;left: 50%;z-index: -1;}#sk-container-id-6 div.sk-parallel-item {display: flex;flex-direction: column;z-index: 1;position: relative;background-color: white;}#sk-container-id-6 div.sk-parallel-item:first-child::after {align-self: flex-end;width: 50%;}#sk-container-id-6 div.sk-parallel-item:last-child::after {align-self: flex-start;width: 50%;}#sk-container-id-6 div.sk-parallel-item:only-child::after {width: 0;}#sk-container-id-6 div.sk-dashed-wrapped {border: 1px dashed gray;margin: 0 0.4em 0.5em 0.4em;box-sizing: border-box;padding-bottom: 0.4em;background-color: white;}#sk-container-id-6 div.sk-label label {font-family: monospace;font-weight: bold;display: inline-block;line-height: 1.2em;}#sk-container-id-6 div.sk-label-container {text-align: center;}#sk-container-id-6 div.sk-container {/* jupyter's `normalize.less` sets `[hidden] { display: none; }` but bootstrap.min.css set `[hidden] { display: none !important; }` so we also need the `!important` here to be able to override the default hidden behavior on the sphinx rendered scikit-learn.org. See: https://github.com/scikit-learn/scikit-learn/issues/21755 */display: inline-block !important;position: relative;}#sk-container-id-6 div.sk-text-repr-fallback {display: none;}</style><div id=\"sk-container-id-6\" class=\"sk-top-container\"><div class=\"sk-text-repr-fallback\"><pre>GradientBoostingClassifier()</pre><b>In a Jupyter environment, please rerun this cell to show the HTML representation or trust the notebook. <br />On GitHub, the HTML representation is unable to render, please try loading this page with nbviewer.org.</b></div><div class=\"sk-container\" hidden><div class=\"sk-item\"><div class=\"sk-estimator sk-toggleable\"><input class=\"sk-toggleable__control sk-hidden--visually\" id=\"sk-estimator-id-6\" type=\"checkbox\" checked><label for=\"sk-estimator-id-6\" class=\"sk-toggleable__label sk-toggleable__label-arrow\">GradientBoostingClassifier</label><div class=\"sk-toggleable__content\"><pre>GradientBoostingClassifier()</pre></div></div></div></div></div>"
      ],
      "text/plain": [
       "GradientBoostingClassifier()"
      ]
     },
     "execution_count": 98,
     "metadata": {},
     "output_type": "execute_result"
    }
   ],
   "source": [
    "gbc.fit(x_train,y_train)"
   ]
  },
  {
   "cell_type": "code",
   "execution_count": 99,
   "id": "7bee2da1",
   "metadata": {},
   "outputs": [],
   "source": [
    "y_pred_gbc=gbc.predict(x_test)"
   ]
  },
  {
   "cell_type": "code",
   "execution_count": 100,
   "id": "54974b29",
   "metadata": {},
   "outputs": [
    {
     "data": {
      "text/plain": [
       "0.8146067415730337"
      ]
     },
     "execution_count": 100,
     "metadata": {},
     "output_type": "execute_result"
    }
   ],
   "source": [
    "accuracy_score(y_test,y_pred_gbc)"
   ]
  },
  {
   "cell_type": "markdown",
   "id": "bbe3c43f",
   "metadata": {},
   "source": [
    "# SO Now Lets Check The Accuracy Scores"
   ]
  },
  {
   "cell_type": "code",
   "execution_count": 102,
   "id": "357d7502",
   "metadata": {},
   "outputs": [
    {
     "name": "stdout",
     "output_type": "stream",
     "text": [
      "1) Accuracy of Logistic Regression Algorithm:-  0.7752808988764045\n",
      "2) Accuracy of Decision Tree Classification Algorithm:-  0.7528089887640449\n",
      "3) Accuracy of Random Forest Classifier Algorithm:-  0.7752808988764045\n",
      "4) Accuracy of SVM Algorithm:-  0.8258426966292135\n",
      "5) Accuracy of ADABOOST Algorithm:-  0.8146067415730337\n",
      "6) Accuracy of CATBOOST Algorithm:-  0.797752808988764\n",
      "7) Accuracy of Gradient_Boost Algorithm:-  0.8146067415730337\n"
     ]
    }
   ],
   "source": [
    "print(\"1) Accuracy of Logistic Regression Algorithm:- \",accuracy_score(y_test,y_pred))\n",
    "print(\"2) Accuracy of Decision Tree Classification Algorithm:- \",accuracy_score(y_test,y_pred_decission_tree))\n",
    "print(\"3) Accuracy of Random Forest Classifier Algorithm:- \",accuracy_score(y_test,y_pred_rfc))\n",
    "print(\"4) Accuracy of SVM Algorithm:- \",accuracy_score(y_test,y_pred_svm))\n",
    "print(\"5) Accuracy of ADABOOST Algorithm:- \",accuracy_score(y_test,y_pred_ada))\n",
    "print(\"6) Accuracy of CATBOOST Algorithm:- \",accuracy_score(y_test,y_pred_cat))\n",
    "print(\"7) Accuracy of Gradient_Boost Algorithm:- \",accuracy_score(y_test,y_pred_gbc))"
   ]
  },
  {
   "cell_type": "markdown",
   "id": "9e0ece1a",
   "metadata": {},
   "source": [
    "# Here Support Vector Machine(SVM) Gives Maximum Accuracy which is 82%"
   ]
  }
 ],
 "metadata": {
  "kernelspec": {
   "display_name": "Python 3 (ipykernel)",
   "language": "python",
   "name": "python3"
  },
  "language_info": {
   "codemirror_mode": {
    "name": "ipython",
    "version": 3
   },
   "file_extension": ".py",
   "mimetype": "text/x-python",
   "name": "python",
   "nbconvert_exporter": "python",
   "pygments_lexer": "ipython3",
   "version": "3.9.7"
  }
 },
 "nbformat": 4,
 "nbformat_minor": 5
}
